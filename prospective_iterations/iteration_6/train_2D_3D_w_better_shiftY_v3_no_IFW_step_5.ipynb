{
 "cells": [
  {
   "cell_type": "markdown",
   "metadata": {},
   "source": [
    "# This notebook re-trains the last iteration without using Inverse Frequency Weighing for SI Figure S7"
   ]
  },
  {
   "cell_type": "code",
   "execution_count": 1,
   "metadata": {},
   "outputs": [
    {
     "data": {
      "text/html": [
       "<style>.container { width:80% !important; }</style>"
      ],
      "text/plain": [
       "<IPython.core.display.HTML object>"
      ]
     },
     "metadata": {},
     "output_type": "display_data"
    }
   ],
   "source": [
    "from tqdm import tqdm, trange\n",
    "from copy import deepcopy\n",
    "\n",
    "import matplotlib.pyplot as plt\n",
    "from matplotlib import gridspec\n",
    "import numpy as np\n",
    "import scipy as sp\n",
    "import time\n",
    "import sys\n",
    "import importlib\n",
    "import os\n",
    "import hashlib\n",
    "import subprocess\n",
    "import gc\n",
    "\n",
    "from IPython import display\n",
    "from IPython.display import clear_output\n",
    "import copy\n",
    "from copy import deepcopy\n",
    "from sklearn.metrics import roc_auc_score, roc_curve\n",
    "\n",
    "import torch\n",
    "import torch.nn as nn\n",
    "import torch.nn.functional as F\n",
    "from torch.utils.data import Dataset\n",
    "\n",
    "from captum.attr import IntegratedGradients\n",
    "from captum.attr import LayerConductance\n",
    "from captum.attr import NeuronConductance\n",
    "\n",
    "try:\n",
    "    import cPickle as pickle\n",
    "except:\n",
    "    import pickle\n",
    "    \n",
    "from IPython.core.display import display, HTML\n",
    "display(HTML(\"<style>.container { width:80% !important; }</style>\"))\n",
    "\n",
    "super_folder=\"/home/ykhalak/Projects/ML_dG/pde2_dG/generators/structures/set_4\"\n",
    "pocket_fit_folder=f\"{super_folder}/morphing_annealing_4d09_filtered_subset/\"\n",
    "folder=f\"{pocket_fit_folder}/prediction_step_5/\"\n",
    "step_db_file=f\"{pocket_fit_folder}/ddG_step_4_sigmahole_scaled_dummy_masses/stable_ligs.pickle\"\n",
    "all_ligs_db_file=f\"{pocket_fit_folder}/filtered_subset_without_weird_chemistry_with_2D_no_core_tSNE_and_step5_dG.pickle\"\n",
    "all_no_core_ligs_db_file=f\"{pocket_fit_folder}/filtered_subset_without_weird_chemistry_no_core_ligs_with_step5_dG.pickle\"\n",
    "\n",
    "energy_folder=\"/home/energy/ykhalak/ML_dG/pde2_dG/generators/structures/set_4\"\n",
    "all_ligs_db_file_energy=f\"{energy_folder}/filtered_subset_without_weird_chemistry_with_2D_no_core_tSNE_and_step5_dG.pickle\"\n",
    "all_no_core_ligs_db_file_energy=f\"{energy_folder}/filtered_subset_without_weird_chemistry_no_core_ligs_with_step5_dG.pickle\"\n",
    "\n",
    "settings_folder=folder+\"/combined_repr_search_with_repeats_and_mparam_scan/settings/\"\n",
    "os.makedirs(settings_folder, exist_ok=True)\n",
    "\n",
    "\n",
    "Bohr2Ang=0.529177249\n",
    "RT=0.001985875*300 #kcal/mol\n",
    "\n",
    "import sys\n",
    "#sys.path.insert(0, folder)\n",
    "#sys.path.insert(0, f\"{pocket_fit_folder}/prediction_step_0/\")\n",
    "sys.path.append(pocket_fit_folder)\n",
    "#sys.path.append(folder)\n",
    "sys.path.append(f\"{pocket_fit_folder}/prediction_step_0/\")"
   ]
  },
  {
   "cell_type": "markdown",
   "metadata": {},
   "source": [
    "# Define representation blocks"
   ]
  },
  {
   "cell_type": "code",
   "execution_count": 2,
   "metadata": {
    "scrolled": true
   },
   "outputs": [],
   "source": [
    "if 'custom_dataset_modular_with_binning' in sys.modules:\n",
    "    importlib.reload(sys.modules['custom_dataset_modular_with_binning'])\n",
    "else:\n",
    "    import custom_dataset_modular_with_binning\n",
    "from custom_dataset_modular_with_binning import dataBlocks, CustomMolModularDataset\n",
    "\n",
    "flags_2D=[dataBlocks.MACCS, dataBlocks.Descriptors, dataBlocks.Graph_desc, dataBlocks.BCUT2D]\n",
    "flags_3D=[dataBlocks.EState_FP, dataBlocks.Pharmacophore_feature_map,\n",
    "          dataBlocks.MOE, dataBlocks.MQN, dataBlocks.GETAWAY, dataBlocks.AUTOCORR2D,\n",
    "          dataBlocks.AUTOCORR3D, dataBlocks.WHIM, dataBlocks.RDF,\n",
    "          dataBlocks.USR, dataBlocks.USRCUT, dataBlocks.PEOE_VSA, dataBlocks.SMR_VSA,\n",
    "          dataBlocks.SlogP_VSA, dataBlocks.MORSE]\n",
    "\n",
    "no_core_flags_2D=[dataBlocks.no_core_MACCS, dataBlocks.no_core_Descriptors, dataBlocks.no_core_Graph_desc, dataBlocks.no_core_BCUT2D]\n",
    "no_core_flags_3D=[dataBlocks.no_core_EState_FP, dataBlocks.no_core_Pharmacophore_feature_map,\n",
    "          dataBlocks.no_core_MOE, dataBlocks.no_core_MQN,\n",
    "          # dataBlocks.no_core_GETAWAY, \n",
    "          dataBlocks.no_core_AUTOCORR2D,\n",
    "          dataBlocks.no_core_AUTOCORR3D, dataBlocks.no_core_WHIM, dataBlocks.no_core_RDF,\n",
    "          #dataBlocks.no_core_USR, dataBlocks.no_core_USRCUT,\n",
    "          dataBlocks.no_core_PEOE_VSA, dataBlocks.no_core_SMR_VSA,\n",
    "          dataBlocks.no_core_SlogP_VSA, dataBlocks.no_core_MORSE]"
   ]
  },
  {
   "cell_type": "markdown",
   "metadata": {},
   "source": [
    "# import training script"
   ]
  },
  {
   "cell_type": "code",
   "execution_count": 3,
   "metadata": {},
   "outputs": [],
   "source": [
    "if 'custom_dataset_modular_with_binning' in sys.modules:\n",
    "    importlib.reload(sys.modules['custom_dataset_modular_with_binning'])\n",
    "else:\n",
    "    import custom_dataset_modular_with_binning\n",
    "from custom_dataset_modular_with_binning import dataBlocks, CustomMolModularDataset\n",
    "\n",
    "if 'owl_trainer_w_params_general_with_ensemble_summary_model' in sys.modules:\n",
    "    importlib.reload(sys.modules['owl_trainer_w_params_general_with_ensemble_summary_model'])\n",
    "else:\n",
    "    import owl_trainer_w_params_general_with_ensemble_summary_model\n",
    "from owl_trainer_w_params_general_with_ensemble_summary_model import *"
   ]
  },
  {
   "cell_type": "markdown",
   "metadata": {},
   "source": [
    "# Scan through represenatation combinations"
   ]
  },
  {
   "cell_type": "markdown",
   "metadata": {},
   "source": [
    "### full ligs"
   ]
  },
  {
   "cell_type": "code",
   "execution_count": 5,
   "metadata": {
    "scrolled": true
   },
   "outputs": [
    {
     "name": "stdout",
     "output_type": "stream",
     "text": [
      "/home/ykhalak/Projects/ML_dG/pde2_dG/generators/structures/set_4/morphing_annealing_4d09_filtered_subset//prediction_step_5/training_w_better_shiftY_v3_no_IFV/settings/2D_3D_repeat0_09f1354148.pickle exists but is not trained yet.\n",
      "/home/ykhalak/Projects/ML_dG/pde2_dG/generators/structures/set_4/morphing_annealing_4d09_filtered_subset//prediction_step_5/training_w_better_shiftY_v3_no_IFV/settings/2D_3D_repeat1_305590a638.pickle exists but is not trained yet.\n",
      "/home/ykhalak/Projects/ML_dG/pde2_dG/generators/structures/set_4/morphing_annealing_4d09_filtered_subset//prediction_step_5/training_w_better_shiftY_v3_no_IFV/settings/2D_3D_repeat2_c1673ad532.pickle exists but is not trained yet.\n",
      "/home/ykhalak/Projects/ML_dG/pde2_dG/generators/structures/set_4/morphing_annealing_4d09_filtered_subset//prediction_step_5/training_w_better_shiftY_v3_no_IFV/settings/2D_3D_repeat3_a9ff46c7a6.pickle exists but is not trained yet.\n",
      "/home/ykhalak/Projects/ML_dG/pde2_dG/generators/structures/set_4/morphing_annealing_4d09_filtered_subset//prediction_step_5/training_w_better_shiftY_v3_no_IFV/settings/2D_3D_repeat4_dd2cf4f891.pickle exists but is not trained yet.\n"
     ]
    }
   ],
   "source": [
    "sfiles=[]\n",
    "sfiles_step=[]\n",
    "\n",
    "normalize_x=True\n",
    "shuffle_seed=12345678\n",
    "\n",
    "n_Epochs=20000\n",
    "#hl_w=300\n",
    "hl_w=20\n",
    "hl_depth=3\n",
    "init_learning_rate=5e-3\n",
    "learning_rate_decay=10000 #order of magnitude in this many epochs\n",
    "weight_decay=1e-3\n",
    "\n",
    "normalize_x=True\n",
    "X_filter=None\n",
    "impfilt=None\n",
    "\n",
    "    \n",
    "weighted=False\n",
    "use_dropout=True\n",
    "#shiftY=False\n",
    "#shiftY=True\n",
    "shiftY=(1.0, -13.040057410601134)\n",
    "\n",
    "redo=False\n",
    "\n",
    "# nsteps=4\n",
    "\n",
    "# sfiles=[]\n",
    "# sfiles_step=[]\n",
    "\n",
    "nrepeats=5\n",
    "\n",
    "reprs=[]\n",
    "# names=[\"2D_3D\",\"MDenerg\",\"atom_hot\", \"2D_3D_MDenerg_atom_hot\"]\n",
    "# best_hlws=[20,5,50,50]\n",
    "# best_hlds=[3,3,3,3]\n",
    "names=[\"2D_3D\"]\n",
    "best_hlws=[20]\n",
    "best_hlds=[3]\n",
    "\n",
    "#2D_3D\n",
    "representation_flags=[0]*len(dataBlocks)\n",
    "for b in flags_2D:\n",
    "    representation_flags[int(b)]=1\n",
    "for b in flags_3D:\n",
    "    representation_flags[int(b)]=1\n",
    "reprs.append(representation_flags)\n",
    "# #MDenerg\n",
    "# representation_flags=[0]*len(dataBlocks)\n",
    "# representation_flags[int(dataBlocks.MDenerg)]=1\n",
    "# reprs.append(representation_flags)\n",
    "# #atom_hot\n",
    "# representation_flags=[0]*len(dataBlocks)\n",
    "# representation_flags[int(dataBlocks.atom_hot)]=1\n",
    "# reprs.append(representation_flags)\n",
    "# # 2D_3D + MDenerg + atom_hot\n",
    "# representation_flags=[0]*len(dataBlocks)\n",
    "# for b in flags_2D:\n",
    "#     representation_flags[int(b)]=1\n",
    "# for b in flags_3D:\n",
    "#     representation_flags[int(b)]=1\n",
    "# representation_flags[int(dataBlocks.MDenerg)]=1\n",
    "# representation_flags[int(dataBlocks.atom_hot)]=1\n",
    "# reprs.append(representation_flags)\n",
    "\n",
    "for ri,representation_flags in enumerate(reprs):\n",
    "    hl_w=best_hlws[ri]\n",
    "    hl_depth=best_hlds[ri]\n",
    "    \n",
    "    for step in [5]:\n",
    "        cur_settings_folder=f\"{pocket_fit_folder}/prediction_step_{step}/training_w_better_shiftY_v3_no_IFV/settings/\"\n",
    "        os.makedirs(cur_settings_folder, exist_ok=True)\n",
    "\n",
    "\n",
    "        for rep in range(nrepeats):\n",
    "            dr_name=f\"{names[ri]}_repeat{rep}\"\n",
    "\n",
    "            settings=[\n",
    "                representation_flags, dr_name, normalize_x, shuffle_seed,\n",
    "                n_Epochs, hl_w, hl_depth, init_learning_rate, learning_rate_decay, weight_decay,\n",
    "                impfilt, X_filter,\n",
    "                weighted, shiftY, use_dropout\n",
    "                ]\n",
    "\n",
    "            sha = hashlib.sha256()\n",
    "            sha.update(pickle.dumps(settings))\n",
    "            settings_hash=dr_name+\"_\"+sha.hexdigest()[:10]\n",
    "\n",
    "            settings_fname=cur_settings_folder+f\"{settings_hash}.pickle\"\n",
    "            if(os.path.exists(settings_fname)):\n",
    "                with open(settings_fname, 'rb') as f:\n",
    "                    settings_loaded, metrics = pickle.load(f)\n",
    "                    if(metrics is not None and not redo):\n",
    "                        print(f\"{settings_fname} is already trained.\")\n",
    "                    else:\n",
    "                        print(f\"{settings_fname} exists but is not trained yet.\")\n",
    "    #                     sfiles.append(settings_fname)\n",
    "    #                     sfiles_step.append(step)\n",
    "            else:\n",
    "                pickle.dump( (settings, None), open( settings_fname, \"wb\" ) )\n",
    "    #             sfiles.append(settings_fname)\n",
    "    #             sfiles_step.append(step)\n",
    "\n",
    "            sfiles.append(settings_fname)\n",
    "            sfiles_step.append(step)"
   ]
  },
  {
   "cell_type": "code",
   "execution_count": 7,
   "metadata": {},
   "outputs": [
    {
     "name": "stdout",
     "output_type": "stream",
     "text": [
      "['/home/ykhalak/Projects/ML_dG/pde2_dG/generators/structures/set_4/morphing_annealing_4d09_filtered_subset//prediction_step_5/training_w_better_shiftY_v3_no_IFV/settings/2D_3D_repeat0_09f1354148.pickle', '/home/ykhalak/Projects/ML_dG/pde2_dG/generators/structures/set_4/morphing_annealing_4d09_filtered_subset//prediction_step_5/training_w_better_shiftY_v3_no_IFV/settings/2D_3D_repeat1_305590a638.pickle', '/home/ykhalak/Projects/ML_dG/pde2_dG/generators/structures/set_4/morphing_annealing_4d09_filtered_subset//prediction_step_5/training_w_better_shiftY_v3_no_IFV/settings/2D_3D_repeat2_c1673ad532.pickle', '/home/ykhalak/Projects/ML_dG/pde2_dG/generators/structures/set_4/morphing_annealing_4d09_filtered_subset//prediction_step_5/training_w_better_shiftY_v3_no_IFV/settings/2D_3D_repeat3_a9ff46c7a6.pickle', '/home/ykhalak/Projects/ML_dG/pde2_dG/generators/structures/set_4/morphing_annealing_4d09_filtered_subset//prediction_step_5/training_w_better_shiftY_v3_no_IFV/settings/2D_3D_repeat4_dd2cf4f891.pickle']\n"
     ]
    }
   ],
   "source": [
    "print(sfiles)"
   ]
  },
  {
   "cell_type": "markdown",
   "metadata": {},
   "source": [
    "# Copy data for the needed ligands"
   ]
  },
  {
   "cell_type": "code",
   "execution_count": 106,
   "metadata": {},
   "outputs": [],
   "source": [
    "# step=5\n",
    "# #validation_indeces=[1, 2, 3, 4, 13, 24, 27, 33, 45, 48, 53, 56, 58, 63, 70, 71, 87, 89, 91, 214, 265, 346, 365, 418, 419, 420, 425, 427, 598, 1175, 1230, 1480, 1481, 1741, 1762, 1803, 2148, 2150, 2152, 2292, 2354, 2362, 2416, 2423, 2484, 2498, 3429, 3567, 3569, 3623, 3702, 4028, 5251, 8898, 15508]\n",
    "# known_ligs_databse_fn=f\"{pocket_fit_folder}/filtered_subset_without_weird_chemistry_with_2D_no_core_tSNE_and_step{step}_dG.pickle\"\n",
    "# with open(known_ligs_databse_fn, 'rb') as f:\n",
    "#     set4f_ligs = pickle.load(f)\n",
    "#     known_ligs = [l for l in set4f_ligs if l.HasProp('dG')]\n",
    "# lig_names = [l.GetProp('ID') for l in known_ligs if l.HasProp('dG')]\n",
    "# lig_names.append(set4f_ligs[0].GetProp('ID'))\n",
    "# known_ligs.append(set4f_ligs[0])\n",
    "# del set4f_ligs\n",
    "# _=gc.collect()\n",
    "\n",
    "# validation_db_file=f\"{pocket_fit_folder}/expt_validation_ligands.pickle\"\n",
    "# with open(validation_db_file, 'rb') as f:\n",
    "#     val_ligs = pickle.load(f)\n",
    "# val_names = [l.GetProp('ID') for l in val_ligs]\n",
    "# # del val_ligs\n",
    "# # _=gc.collect()\n",
    "\n",
    "# lig_names+=val_names\n",
    "# known_ligs+=val_ligs"
   ]
  },
  {
   "cell_type": "code",
   "execution_count": 97,
   "metadata": {},
   "outputs": [],
   "source": [
    "# print(val_names)\n",
    "# print([l.GetProp('dG') for l in val_ligs])"
   ]
  },
  {
   "cell_type": "code",
   "execution_count": 108,
   "metadata": {},
   "outputs": [
    {
     "name": "stderr",
     "output_type": "stream",
     "text": [
      "100%|██████████| 4/4 [00:02<00:00,  1.34it/s]\n"
     ]
    }
   ],
   "source": [
    "# source_f=f\"{pocket_fit_folder}/prediction_step_0/combined_modular_repr_cache\"\n",
    "# destin_f=f\"{pocket_fit_folder}/prediction_step_{step}/cached_reprs/combined_modular_repr_cache\"\n",
    "\n",
    "# for representation_flags in tqdm(reprs):\n",
    "#     repr_hash=hashlib.md5(np.packbits(np.array(representation_flags, dtype=bool)).tobytes()).hexdigest()\n",
    "# #     print(repr_hash)\n",
    "    \n",
    "#     src=f\"{source_f}/{repr_hash}\"\n",
    "#     dst=f\"{destin_f}/{repr_hash}\"\n",
    "#     os.makedirs(dst, exist_ok=True)\n",
    "    \n",
    "#     #for ID in lig_names:\n",
    "#         #shutil.copy(f\"{src}/{ID}.pickle\", f\"{dst}/{ID}.pickle\")\n",
    "#     for lig in known_ligs:\n",
    "#         ID=lig.GetProp('ID')\n",
    "#         with open(f\"{src}/{ID}.pickle\", 'rb') as f:\n",
    "#             X,Y = pickle.load(f)\n",
    "#             Y = np.array([float(lig.GetProp('dG')) if lig.HasProp('dG') else np.nan]) # kcal/mol\n",
    "#         with open(f\"{dst}/{ID}.pickle\", 'wb') as f:\n",
    "#             pickle.dump((X, Y), f)\n",
    "    \n",
    "#     shutil.copy(f\"{src}/normalization_factors__no_X_filter.dat\", f\"{dst}/normalization_factors__no_X_filter.dat\")"
   ]
  },
  {
   "cell_type": "markdown",
   "metadata": {},
   "source": [
    "# Run locally"
   ]
  },
  {
   "cell_type": "code",
   "execution_count": null,
   "metadata": {
    "scrolled": true
   },
   "outputs": [],
   "source": [
    "for i,f in tqdm(enumerate(sfiles)):\n",
    "    settings_fname=f\n",
    "    step=sfiles_step[i]\n",
    "    with open(settings_fname, 'rb') as f:\n",
    "        settings_loaded, metrics = pickle.load(f)\n",
    "#         print(i,f, metrics)\n",
    "        if(metrics is not None):\n",
    "            continue;\n",
    "#     if(\"atom_hot\" not in settings_loaded[1]):\n",
    "#         continue\n",
    "\n",
    "    print(\"######################################\")\n",
    "    print(settings_fname)\n",
    "    print(settings_loaded[1])\n",
    "    print(\"######################################\")\n",
    "#     raise()\n",
    "\n",
    "    train_model_with_settings_general_ensemble(\n",
    "              settings_fname, False,\n",
    "              #torch.device(\"cpu\"),\n",
    "              torch.device(\"cuda:0\"),\n",
    "              True,\n",
    "              datafolder=f\"{pocket_fit_folder}/prediction_step_5/cached_reprs/\",\n",
    "              #datafolder=\"/home/ykhalak/Projects/ML_dG/pde2_dG/generators/structures/set_4/morphing_annealing_4d09_filtered_subset/prediction_step_3/combined_repr_search\",\n",
    "              save_folder_base=f\"{pocket_fit_folder}/prediction_step_{step}/training_w_better_shiftY_v3_no_IFV\",\n",
    "              all_ligs_db_file=f\"{pocket_fit_folder}/filtered_subset_without_weird_chemistry_with_2D_no_core_tSNE_and_step{step}_dG.pickle\",\n",
    "              all_no_core_ligs_db_file=f\"{pocket_fit_folder}/filtered_subset_without_weird_chemistry_no_core_ligs_with_step{step}_dG.pickle\",\n",
    "              validation_db_file=f\"{pocket_fit_folder}/expt_validation_ligands.pickle\",\n",
    "              no_core_validation_db_file=f\"{pocket_fit_folder}/expt_validation_ligands_no_core.pickle\",\n",
    "              train_summary_model=True,\n",
    "              predict_all_ligs=False\n",
    "             )\n",
    "#     raise()\n",
    "\n",
    "print(\"Done.\")"
   ]
  },
  {
   "cell_type": "code",
   "execution_count": 110,
   "metadata": {},
   "outputs": [
    {
     "name": "stdout",
     "output_type": "stream",
     "text": [
      "(array([0., 0., 0., ..., 0., 0., 0.], dtype=float32), array([nan]))\n"
     ]
    }
   ],
   "source": [
    "with open(\"/home/ykhalak/Projects/ML_dG/pde2_dG/generators/structures/set_4/morphing_annealing_4d09_filtered_subset/prediction_step_5/cached_reprs/combined_modular_repr_cache/793f8fc2ef51d558a6cd17022f751801/set4_0.pickle\", 'rb') as f:\n",
    "    temp_lig_repr = pickle.load(f)\n",
    "print(temp_lig_repr)"
   ]
  },
  {
   "cell_type": "markdown",
   "metadata": {
    "heading_collapsed": true
   },
   "source": [
    "# Copy step 5 databases to energy"
   ]
  },
  {
   "cell_type": "code",
   "execution_count": 5,
   "metadata": {
    "hidden": true
   },
   "outputs": [
    {
     "data": {
      "text/plain": [
       "'/netmount/energy/ykhalak/ML_dG/pde2_dG/generators/structures/set_4/filtered_subset_without_weird_chemistry_no_core_ligs_with_step5_dG.pickle'"
      ]
     },
     "execution_count": 5,
     "metadata": {},
     "output_type": "execute_result"
    }
   ],
   "source": [
    "import shutil\n",
    "step=5\n",
    "\n",
    "all_ligs_db_file=f\"{pocket_fit_folder}/filtered_subset_without_weird_chemistry_with_2D_no_core_tSNE_and_step{step}_dG.pickle\"\n",
    "all_no_core_ligs_db_file=f\"{pocket_fit_folder}/filtered_subset_without_weird_chemistry_no_core_ligs_with_step{step}_dG.pickle\"\n",
    "\n",
    "energy_folder_on_workstation=\"/netmount/energy/ykhalak/ML_dG/pde2_dG/generators/structures/set_4\"\n",
    "all_ligs_db_file_energy=f\"{energy_folder_on_workstation}/filtered_subset_without_weird_chemistry_with_2D_no_core_tSNE_and_step{step}_dG.pickle\"\n",
    "all_no_core_ligs_db_file_energy=f\"{energy_folder_on_workstation}/filtered_subset_without_weird_chemistry_no_core_ligs_with_step{step}_dG.pickle\"\n",
    "\n",
    "shutil.copy(all_ligs_db_file, all_ligs_db_file_energy)\n",
    "shutil.copy(all_no_core_ligs_db_file, all_no_core_ligs_db_file_energy)"
   ]
  },
  {
   "cell_type": "markdown",
   "metadata": {
    "heading_collapsed": true
   },
   "source": [
    "# Run on moa"
   ]
  },
  {
   "cell_type": "code",
   "execution_count": 114,
   "metadata": {
    "hidden": true
   },
   "outputs": [
    {
     "name": "stderr",
     "output_type": "stream",
     "text": [
      "100%|██████████| 20/20 [00:00<00:00, 97.55it/s]\n"
     ]
    },
    {
     "name": "stdout",
     "output_type": "stream",
     "text": [
      "20 10 10\n",
      "Submitting.\n",
      "== subprocess exited with rc = 0\n",
      "Submitted batch job 546053\n",
      "Submitted batch job 546054\n",
      "Submitted batch job 546055\n",
      "Submitted batch job 546056\n",
      "Submitted batch job 546057\n",
      "Submitted batch job 546058\n",
      "Submitted batch job 546059\n",
      "Submitted batch job 546060\n",
      "Submitted batch job 546061\n",
      "Submitted batch job 546062\n",
      "\n",
      "Done.\n"
     ]
    }
   ],
   "source": [
    "import queue\n",
    "import threading\n",
    "\n",
    "previously_done=0\n",
    "max_debug_evals=10e8\n",
    "\n",
    "fits_per_job=1\n",
    "\n",
    "cmd_str=f\"source /etc/profile; module load sge;\"\n",
    "cmd_str_SLURM=f\"source /etc/profile;\"\n",
    "\n",
    "fits_written_to_jobs=0\n",
    "fits_not_trained=0\n",
    "\n",
    "for step in [5]:\n",
    "    job_id=0\n",
    "    fits_this_job=0\n",
    "    fit_commands_this_job=\"\"\n",
    "    \n",
    "    cwd=f\"{pocket_fit_folder}/prediction_step_{step}/training_w_better_shiftY_v3/local_runs/\"\n",
    "    os.makedirs(cwd, exist_ok=True)\n",
    "\n",
    "    save_folder_base=f\"{pocket_fit_folder}/prediction_step_{step}/training_w_better_shiftY_v3_no_IFV\"\n",
    "    all_ligs_db_file_energy=f\"{energy_folder}/filtered_subset_without_weird_chemistry_with_2D_no_core_tSNE_and_step{step}_dG.pickle\"\n",
    "    all_no_core_ligs_db_file_energy=f\"{energy_folder}/filtered_subset_without_weird_chemistry_no_core_ligs_with_step{step}_dG.pickle\"\n",
    "    validation_db_file=f\"{pocket_fit_folder}/expt_validation_ligands.pickle\"\n",
    "    no_core_validation_db_file=f\"{pocket_fit_folder}/expt_validation_ligands_no_core.pickle\"\n",
    "    \n",
    "    for i,f in enumerate(tqdm(sfiles)):\n",
    "        settings_fname=f\n",
    "    #     step=sfiles_step[i]\n",
    "        if(not os.path.exists(settings_fname)):\n",
    "            continue;\n",
    "        with open(settings_fname, 'rb') as f:\n",
    "            settings_loaded, metrics = pickle.load(f)\n",
    "            if(metrics is None and step==sfiles_step[i]):\n",
    "                fits_not_trained+=1\n",
    "                fits_this_job+=1\n",
    "                fit_commands_this_job+=f\"\"\"\n",
    "python /home/ykhalak/Projects/ML_dG/pde2_dG/generators/structures/set_4/morphing_annealing_4d09_filtered_subset/owl_trainer_w_params_general_with_ensemble_summary_model.py\\\n",
    " -v -f {settings_fname} --datafolder $TMPDIR --save_folder_base {save_folder_base}\\\n",
    " --ligsf {all_ligs_db_file_energy} --nocoref {all_no_core_ligs_db_file_energy}\\\n",
    " --valsf {validation_db_file} --nocorevalsf {no_core_validation_db_file}\\\n",
    " --no_pred --sm\n",
    "\n",
    " \"\"\"\n",
    "\n",
    "        if(fits_this_job>=fits_per_job or (i>=len(sfiles)-1 and fits_this_job>0)):\n",
    "\n",
    "            jobscript_str=f\"\"\"#!/bin/bash\n",
    "\n",
    "#$ -S /bin/bash\n",
    "#$ -pe openmp_fast 10\n",
    "#$ -q *\n",
    "#$ -N pytorch_GPU_worker_{job_id}\n",
    "#$ -M ykhalak@gwdg.de\n",
    "#$ -m n\n",
    "#$ -l h_rt=5:00:00\n",
    "#$ -wd {cwd}\n",
    "\n",
    "#SBATCH --job-name=pytorch_SLURM_GPU_worker_{job_id}\n",
    "#SBATCH --get-user-env\n",
    "#SBATCH --gres=gpu:1              # number of GPUs requested\n",
    "#SBATCH --ntasks=1                # Number of MPI process\n",
    "#SBATCH --cpus-per-task=10        # CPU cores per MPI process\n",
    "##SBATCH -p p24,p20,p16,p10,p08,p06    # partitions to use\n",
    "#SBATCH -p p10,p08,p06            # partitions to use\n",
    "#SBATCH -t 5:00:0                 # hours:min:sec\n",
    "#SBATCH --chdir={cwd}\n",
    "#SBATCH -e repr_scan_{job_id}-%j.err\n",
    "#SBATCH -o repr_scan_{job_id}-%j.out\n",
    "\n",
    "if [ -n \"$NHOSTS\" ]; then\n",
    "    echo \"Env. variable NHOSTS found, assuming we are using SGE.\"\n",
    "    module load shared                           # access to modules in /cm/shared\n",
    "else\n",
    "    echo \"Env. variable NHOSTS not set, assuming we are using SLURM.\"\n",
    "    export NHOSTS=$SLURM_JOB_NUM_NODES\n",
    "    export NSLOTS=$SLURM_CPUS_PER_TASK\n",
    "fi\n",
    "\n",
    "echo NHOSTS=$NHOSTS\n",
    "echo NSLOTS=$NSLOTS\n",
    "echo TMPDIR=$TMPDIR\n",
    "hostname\n",
    "\n",
    "echo \"#################################################\"\n",
    "\n",
    "export OMP_NUM_THREADS=$NSLOTS\n",
    "export MKL_NUM_THREADS=$NSLOTS\n",
    "\n",
    "source ~/.ML_v2_profile\n",
    "#source ~/.ML_v2_on_energy_profile\n",
    "\n",
    "cp /home/ykhalak/Projects/ML_dG/pde2_dG/generators/structures/set_4/morphing_annealing_4d09_filtered_subset/prediction_step_5/cached_reprs/deployable_training_data_with_validation_ligs.tar.gz $TMPDIR/.\n",
    "cd $TMPDIR\n",
    "tar -zxf deployable_training_data_with_validation_ligs.tar.gz\n",
    "cd {cwd}\n",
    "\n",
    "echo \"Done extracting data\"\n",
    "\n",
    "{fit_commands_this_job}\n",
    "\"\"\"\n",
    "\n",
    "            jobscript_fn=cwd+\"/jobscript_{}\".format(job_id)\n",
    "            with open(jobscript_fn,\"w\") as f:\n",
    "                f.write(jobscript_str)\n",
    "\n",
    "            cmd_str+=f\" cd {cwd}; qsub {jobscript_fn};\"\n",
    "            cmd_str_SLURM+=f\" sbatch {jobscript_fn};\"\n",
    "\n",
    "            job_id+=1\n",
    "            \n",
    "            fits_written_to_jobs+=fits_this_job\n",
    "            fit_commands_this_job=\"\"\n",
    "            fits_this_job=0\n",
    "            \n",
    "            \n",
    "\n",
    "    print(len(sfiles), fits_not_trained, fits_written_to_jobs)\n",
    "#     print(fits_this_job, i)\n",
    "#     raise()\n",
    "\n",
    "print(\"Submitting.\")\n",
    "# ssh_cmd_arr=[\"ssh\", \"owl\", cmd_str]\n",
    "ssh_cmd_arr=[\"ssh\", \"moa2\", cmd_str_SLURM]\n",
    "process = subprocess.Popen(ssh_cmd_arr, stdout=subprocess.PIPE, stderr=subprocess.STDOUT)\n",
    "outs, _ = process.communicate()\n",
    "process.wait()\n",
    "print('== subprocess exited with rc =', process.returncode)\n",
    "print(outs.decode('utf-8'))\n",
    "print(\"Done.\")"
   ]
  },
  {
   "cell_type": "markdown",
   "metadata": {},
   "source": [
    "# Predict dG locally"
   ]
  },
  {
   "cell_type": "code",
   "execution_count": 15,
   "metadata": {
    "scrolled": true
   },
   "outputs": [
    {
     "name": "stderr",
     "output_type": "stream",
     "text": [
      "100%|██████████| 5/5 [00:00<00:00, 26.03it/s]"
     ]
    },
    {
     "name": "stdout",
     "output_type": "stream",
     "text": [
      "0 /home/ykhalak/Projects/ML_dG/pde2_dG/generators/structures/set_4/morphing_annealing_4d09_filtered_subset//prediction_step_5/training_w_better_shiftY_v3_no_IFV/settings/2D_3D_repeat0_09f1354148.pickle (array([-12.298728, -11.937565,  -9.948077, ..., -11.572161, -11.708302,\n",
      "       -11.591374], dtype=float32), array([0.19254494, 0.19440372, 0.2765522 , ..., 0.26204905, 0.4239824 ,\n",
      "       0.50241536], dtype=float32))\n",
      "1 /home/ykhalak/Projects/ML_dG/pde2_dG/generators/structures/set_4/morphing_annealing_4d09_filtered_subset//prediction_step_5/training_w_better_shiftY_v3_no_IFV/settings/2D_3D_repeat1_305590a638.pickle (array([-12.042234, -11.967661, -10.505789, ..., -11.039019, -11.164343,\n",
      "       -12.223458], dtype=float32), array([0.27306846, 0.08075845, 0.19139366, ..., 0.23397279, 0.28487682,\n",
      "       0.68114614], dtype=float32))\n",
      "2 /home/ykhalak/Projects/ML_dG/pde2_dG/generators/structures/set_4/morphing_annealing_4d09_filtered_subset//prediction_step_5/training_w_better_shiftY_v3_no_IFV/settings/2D_3D_repeat2_c1673ad532.pickle (array([-11.89966 , -12.1404  , -10.273939, ..., -10.995474, -11.76987 ,\n",
      "       -11.99402 ], dtype=float32), array([0.1165751 , 0.2549479 , 0.11488087, ..., 0.24519874, 0.16268536,\n",
      "       0.3165637 ], dtype=float32))\n",
      "3 /home/ykhalak/Projects/ML_dG/pde2_dG/generators/structures/set_4/morphing_annealing_4d09_filtered_subset//prediction_step_5/training_w_better_shiftY_v3_no_IFV/settings/2D_3D_repeat3_a9ff46c7a6.pickle (array([-12.258062 , -12.056813 , -10.194069 , ..., -11.2777405,\n",
      "       -11.393293 , -11.26061  ], dtype=float32), array([0.08574873, 0.24212189, 0.22808428, ..., 0.25429666, 0.32659975,\n",
      "       0.373769  ], dtype=float32))\n",
      "4 /home/ykhalak/Projects/ML_dG/pde2_dG/generators/structures/set_4/morphing_annealing_4d09_filtered_subset//prediction_step_5/training_w_better_shiftY_v3_no_IFV/settings/2D_3D_repeat4_dd2cf4f891.pickle (array([-12.411244 , -12.014553 , -10.039068 , ..., -11.327889 ,\n",
      "       -11.7170925, -13.019693 ], dtype=float32), array([0.16674888, 0.09180594, 0.20197849, ..., 0.21860515, 0.49321008,\n",
      "       0.5496931 ], dtype=float32))\n",
      "Done.\n"
     ]
    },
    {
     "name": "stderr",
     "output_type": "stream",
     "text": [
      "\n"
     ]
    }
   ],
   "source": [
    "for i,f in enumerate(tqdm(sfiles)):\n",
    "    settings_fname=f\n",
    "    step=sfiles_step[i]\n",
    "    with open(settings_fname, 'rb') as f:\n",
    "        settings_loaded, metrics = pickle.load(f)\n",
    "#         print(i,sfiles[i], metrics.summary_model_best_pred)\n",
    "        if(metrics is None):\n",
    "            continue;\n",
    "        elif(metrics.summary_model_best_pred is not None):\n",
    "            continue;\n",
    "\n",
    "    print(\"######################################\")\n",
    "    print(settings_fname, \"step\", step)\n",
    "    print(\"######################################\")\n",
    "#     raise()\n",
    "\n",
    "    Predict_from_saved_models_ensemble(settings_fname, redo=True,\n",
    "                                      #torch.device(\"cpu\"),\n",
    "                                      device=torch.device(\"cuda:0\"),\n",
    "                                      show_progress=True,\n",
    "                                      #datafolder=\"/home/ykhalak/Projects/ML_dG/pde2_dG/generators/structures/set_4/morphing_annealing_4d09_filtered_subset/prediction_step_3/combined_repr_search\",\n",
    "                                      datafolder=\"/home/ykhalak/Projects/ML_dG/pde2_dG/generators/structures/set_4/morphing_annealing_4d09_filtered_subset/prediction_step_0\",\n",
    "                                      save_folder_base=f\"{pocket_fit_folder}/prediction_step_{step}/training_w_better_shiftY_v3_no_IFV\",\n",
    "                                      all_ligs_db_file=f\"{pocket_fit_folder}/filtered_subset_without_weird_chemistry_with_2D_no_core_tSNE_and_step{step}_dG.pickle\",\n",
    "                                      all_no_core_ligs_db_file=f\"{pocket_fit_folder}/filtered_subset_without_weird_chemistry_no_core_ligs_with_step{step}_dG.pickle\",\n",
    "                                      max_cache_Mem_MB=1024*6,\n",
    "                                     )\n",
    "#     raise()\n",
    "\n",
    "print(\"Done.\")"
   ]
  }
 ],
 "metadata": {
  "kernelspec": {
   "display_name": "Python 3",
   "language": "python",
   "name": "python3"
  },
  "language_info": {
   "codemirror_mode": {
    "name": "ipython",
    "version": 3
   },
   "file_extension": ".py",
   "mimetype": "text/x-python",
   "name": "python",
   "nbconvert_exporter": "python",
   "pygments_lexer": "ipython3",
   "version": "3.6.13"
  },
  "varInspector": {
   "cols": {
    "lenName": 16,
    "lenType": 16,
    "lenVar": 40
   },
   "kernels_config": {
    "python": {
     "delete_cmd_postfix": "",
     "delete_cmd_prefix": "del ",
     "library": "var_list.py",
     "varRefreshCmd": "print(var_dic_list())"
    },
    "r": {
     "delete_cmd_postfix": ") ",
     "delete_cmd_prefix": "rm(",
     "library": "var_list.r",
     "varRefreshCmd": "cat(var_dic_list()) "
    }
   },
   "types_to_exclude": [
    "module",
    "function",
    "builtin_function_or_method",
    "instance",
    "_Feature"
   ],
   "window_display": false
  }
 },
 "nbformat": 4,
 "nbformat_minor": 2
}
