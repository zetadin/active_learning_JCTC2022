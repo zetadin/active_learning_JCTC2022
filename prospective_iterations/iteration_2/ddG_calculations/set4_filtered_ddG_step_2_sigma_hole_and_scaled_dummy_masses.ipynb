{
 "cells": [
  {
   "cell_type": "code",
   "execution_count": 1,
   "metadata": {},
   "outputs": [
    {
     "name": "stdout",
     "output_type": "stream",
     "text": [
      "Populating the interactive namespace from numpy and matplotlib\n"
     ]
    }
   ],
   "source": [
    "import pmx\n",
    "from pmx.utils import create_folder\n",
    "from pmx import gmx, ligand_alchemy, jobscript\n",
    "import sys\n",
    "import matplotlib.pyplot as plt\n",
    "import numpy as np\n",
    "%matplotlib inline \n",
    "%pylab inline\n",
    "from IPython.core.display import clear_output\n",
    "import os,shutil\n",
    "import re\n",
    "import subprocess\n",
    "import glob\n",
    "import random\n",
    "import pandas as pd\n",
    "import importlib\n",
    "if 'AZtutorial' in sys.modules:\n",
    "    importlib.reload(sys.modules['AZtutorial'])\n",
    "else:\n",
    "    import AZtutorial\n",
    "from AZtutorial import *\n",
    "from IPython.display import Image\n",
    "\n",
    "\n",
    "from rdkit import Chem\n",
    "from rdkit.Chem import AllChem, Draw, Descriptors, rdmolfiles, rdMolAlign, rdmolops, rdchem, PyMol, Crippen, PropertyMol\n",
    "from rdkit import DataStructs\n",
    "from rdkit import RDLogger\n",
    "\n",
    "from rdkit.Chem.Draw import IPythonConsole\n",
    "from rdkit.Geometry import Point3D\n",
    "from rdkit.Numerics.rdAlignment import GetAlignmentTransform\n",
    "from rdkit.Chem.AtomPairs import Pairs\n",
    "from rdkit import DataStructs\n",
    "from rdkit.Chem import MACCSkeys\n",
    "from rdkit.Chem import rdFMCS\n",
    "from rdkit.Chem import rdMolTransforms\n",
    "from tqdm import tqdm\n",
    "from copy import deepcopy\n",
    "\n",
    "try:\n",
    "    import cPickle as pickle\n",
    "except:\n",
    "    import pickle\n",
    "import os\n",
    "from contextlib import contextmanager,redirect_stderr,redirect_stdout\n",
    "from os import devnull\n",
    "\n",
    "\n",
    "@contextmanager\n",
    "def suppress_stdout_stderr():\n",
    "    \"\"\"A context manager that redirects stdout and stderr to devnull\"\"\"\n",
    "    with open(devnull, 'w') as fnull:\n",
    "        with redirect_stderr(fnull) as err, redirect_stdout(fnull) as out:\n",
    "            yield (err, out)"
   ]
  },
  {
   "cell_type": "markdown",
   "metadata": {},
   "source": [
    "# Step -3. Set up paths for the workflow"
   ]
  },
  {
   "cell_type": "code",
   "execution_count": 2,
   "metadata": {},
   "outputs": [],
   "source": [
    "\n",
    "# initialize the free energy environment object: it will store the main parameters for the calculations\n",
    "fe = AZtutorial( )\n",
    "\n",
    "# set the workpath\n",
    "fe.workPath = 'workpath'\n",
    "# set the path to the molecular dynamics parameter files\n",
    "fe.mdpPath = 'input/mdppath'\n",
    "# set the number of replicas (several repetitions of calculation are useful to obtain reliable statistics)\n",
    "fe.replicas = 3\n",
    "# provide the path to the protein structure and topology\n",
    "fe.proteinPath = 'input/protein_amber'\n",
    "# provide the path to the folder with ligand structures and topologies\n",
    "fe.ligandPath = 'input/ligands'\n",
    "\n",
    "\n",
    "os.environ['GMXLIB'] = \"/home/ykhalak/private/gmx_share_top_w_new_vdwradii\""
   ]
  },
  {
   "cell_type": "code",
   "execution_count": 3,
   "metadata": {},
   "outputs": [
    {
     "name": "stdout",
     "output_type": "stream",
     "text": [
      "/home/ykhalak/private/gmx_share_top_w_new_vdwradii\r\n"
     ]
    }
   ],
   "source": [
    "! echo $GMXLIB"
   ]
  },
  {
   "cell_type": "markdown",
   "metadata": {},
   "source": [
    "# Step -2. Select ligands"
   ]
  },
  {
   "cell_type": "code",
   "execution_count": 4,
   "metadata": {
    "scrolled": true
   },
   "outputs": [
    {
     "name": "stdout",
     "output_type": "stream",
     "text": [
      "54\n"
     ]
    },
    {
     "data": {
      "text/plain": [
       "0"
      ]
     },
     "execution_count": 4,
     "metadata": {},
     "output_type": "execute_result"
    }
   ],
   "source": [
    "training_ligand_databse_fn=\"/home/ykhalak/Projects/ML_dG/pde2_dG/how_do_ligs_fit_in_pocket_4d09_protein/processed_69_cl13_ligs_in_4d09_for_ddG_calc.pickle\"\n",
    "with open(training_ligand_databse_fn, 'rb') as f:\n",
    "    training_ligs = pickle.load(f)\n",
    "\n",
    "reference_lig_name=\"JAN_PDE2_1345\"\n",
    "for i,l in enumerate(training_ligs):\n",
    "    if(reference_lig_name in l.GetProp(\"ID\")):\n",
    "        print(i)\n",
    "        reference_lig_id=i\n",
    "        \n",
    "reference_lig=training_ligs[reference_lig_id]\n",
    "\n",
    "del training_ligand_databse_fn,training_ligs\n",
    "import gc\n",
    "gc.collect()"
   ]
  },
  {
   "cell_type": "code",
   "execution_count": 5,
   "metadata": {},
   "outputs": [],
   "source": [
    "folder=\"/home/ykhalak/Projects/ML_dG/pde2_dG/generators/structures/set_4\"\n",
    "pocket_fit_folder=f\"{folder}/morphing_annealing_4d09_filtered_subset/\"\n",
    "\n",
    "with open(pocket_fit_folder+\"/step_2_picks.pickle\", 'rb') as f:\n",
    "    test_ligs = pickle.load(f)"
   ]
  },
  {
   "cell_type": "code",
   "execution_count": null,
   "metadata": {
    "scrolled": false
   },
   "outputs": [],
   "source": [
    "Draw.MolsToGridImage(test_ligs+[reference_lig],\n",
    "                     legends=[l.GetProp(\"ID\") for l in test_ligs+[reference_lig]],\n",
    "                     subImgSize = (400,400), molsPerRow=5, maxMols=101)"
   ]
  },
  {
   "cell_type": "markdown",
   "metadata": {},
   "source": [
    "# Step -1. Properly parametrize ligands"
   ]
  },
  {
   "cell_type": "code",
   "execution_count": 7,
   "metadata": {},
   "outputs": [
    {
     "name": "stdout",
     "output_type": "stream",
     "text": [
      "set4_375162 \t starting in process 13832\n",
      "set4_246679 \t starting in process 13833\n",
      "set4_231 \t starting in process 13834\n",
      "set4_117375 \t starting in process 13835\n",
      "set4_231 \t done parametrizing\n",
      "set4_15250 \t starting in process 13834\n",
      "set4_246679 \t done parametrizing\n",
      "set4_240184 \t starting in process 13833\n",
      "set4_117375 \t done parametrizing\n",
      "set4_353431 \t starting in process 13835\n",
      "set4_375162 \t done parametrizing\n",
      "set4_12137 \t starting in process 13832\n",
      "set4_15250 \t done parametrizing\n",
      "set4_16619 \t starting in process 13834\n",
      "set4_12137 \t done parametrizing\n",
      "set4_315126 \t starting in process 13832\n",
      "set4_240184 \t done parametrizing\n",
      "set4_283331 \t starting in process 13833\n",
      "set4_16619 \t done parametrizing\n",
      "set4_42008 \t starting in process 13834\n",
      "set4_42008 \t done parametrizing\n",
      "set4_119838 \t starting in process 13834\n",
      "set4_353431 \t done parametrizing\n",
      "set4_141299 \t starting in process 13835\n",
      "set4_283331 \t done parametrizing\n",
      "set4_40342 \t starting in process 13833\n",
      "set4_315126 \t done parametrizing\n",
      "set4_117548 \t starting in process 13832\n",
      "set4_40342 \t done parametrizing\n",
      "set4_142392 \t starting in process 13833\n",
      "set4_119838 \t done parametrizing\n",
      "set4_246669 \t starting in process 13834\n",
      "set4_141299 \t done parametrizing\n",
      "set4_8534 \t starting in process 13835\n",
      "set4_117548 \t done parametrizing\n",
      "set4_358213 \t starting in process 13832\n",
      "set4_8534 \t done parametrizing\n",
      "set4_141085 \t starting in process 13835\n",
      "set4_246669 \t done parametrizing\n",
      "set4_141768 \t starting in process 13834\n",
      "set4_358213 \t done parametrizing\n",
      "set4_73592 \t starting in process 13832\n",
      "set4_142392 \t done parametrizing\n",
      "set4_143033 \t starting in process 13833\n",
      "set4_141085 \t done parametrizing\n",
      "set4_142300 \t starting in process 13835\n",
      "set4_141768 \t done parametrizing\n",
      "set4_11493 \t starting in process 13834\n",
      "set4_142300 \t done parametrizing\n",
      "set4_16251 \t starting in process 13835\n",
      "set4_11493 \t done parametrizing\n",
      "set4_141883 \t starting in process 13834\n",
      "set4_143033 \t done parametrizing\n",
      "set4_15755 \t starting in process 13833\n",
      "set4_15755 \t done parametrizing\n",
      "set4_8894 \t starting in process 13833\n",
      "set4_16251 \t done parametrizing\n",
      "set4_45093 \t starting in process 13835\n",
      "set4_73592 \t done parametrizing\n",
      "set4_142407 \t starting in process 13832\n",
      "set4_141883 \t done parametrizing\n",
      "set4_117324 \t starting in process 13834\n",
      "set4_142407 \t done parametrizing\n",
      "set4_44830 \t starting in process 13832\n",
      "set4_45093 \t done parametrizing\n",
      "set4_44679 \t starting in process 13835\n",
      "set4_8894 \t done parametrizing\n",
      "set4_283464 \t starting in process 13833\n",
      "set4_117324 \t done parametrizing\n",
      "set4_376269 \t starting in process 13834\n",
      "set4_44830 \t done parametrizing\n",
      "set4_12134 \t starting in process 13832\n",
      "set4_44679 \t done parametrizing\n",
      "set4_45101 \t starting in process 13835\n",
      "set4_283464 \t done parametrizing\n",
      "set4_9514 \t starting in process 13833\n",
      "set4_376269 \t done parametrizing\n",
      "set4_138671 \t starting in process 13834\n",
      "set4_12134 \t done parametrizing\n",
      "set4_316734 \t starting in process 13832\n",
      "set4_45101 \t done parametrizing\n",
      "set4_314457 \t starting in process 13835\n",
      "set4_138671 \t done parametrizing\n",
      "set4_356810 \t starting in process 13834\n",
      "set4_9514 \t done parametrizing\n",
      "set4_186083 \t starting in process 13833\n",
      "set4_186083 \t done parametrizing\n",
      "set4_117475 \t starting in process 13833\n",
      "set4_314457 \t done parametrizing\n",
      "set4_6961 \t starting in process 13835\n",
      "set4_316734 \t done parametrizing\n",
      "set4_118481 \t starting in process 13832\n",
      "set4_356810 \t done parametrizing\n",
      "set4_10028 \t starting in process 13834\n",
      "set4_118481 \t done parametrizing\n",
      "set4_27799 \t starting in process 13832\n",
      "set4_6961 \t done parametrizing\n",
      "set4_74407 \t starting in process 13835\n",
      "set4_117475 \t done parametrizing\n",
      "set4_45104 \t starting in process 13833\n",
      "set4_45104 \t done parametrizing\n",
      "set4_82644 \t starting in process 13833\n",
      "set4_27799 \t done parametrizing\n",
      "set4_49123 \t starting in process 13832\n",
      "set4_82644 \t done parametrizing\n",
      "set4_47834 \t starting in process 13833\n",
      "set4_49123 \t done parametrizing\n",
      "set4_39994 \t starting in process 13832\n",
      "set4_10028 \t done parametrizing\n",
      "set4_8165 \t starting in process 13834\n",
      "set4_74407 \t done parametrizing\n",
      "set4_46924 \t starting in process 13835\n",
      "set4_8165 \t done parametrizing\n",
      "set4_200507 \t starting in process 13834\n",
      "set4_39994 \t done parametrizing\n",
      "set4_240226 \t starting in process 13832\n",
      "set4_46924 \t done parametrizing\n",
      "set4_44858 \t starting in process 13835\n",
      "set4_47834 \t done parametrizing\n",
      "set4_44819 \t starting in process 13833\n",
      "set4_240226 \t done parametrizing\n",
      "set4_121640 \t starting in process 13832\n",
      "set4_200507 \t done parametrizing\n",
      "set4_190861 \t starting in process 13834\n",
      "set4_44858 \t done parametrizing\n",
      "set4_7737 \t starting in process 13835\n",
      "set4_121640 \t done parametrizing\n",
      "set4_121712 \t starting in process 13832\n",
      "set4_190861 \t done parametrizing\n",
      "set4_3887 \t starting in process 13834\n",
      "set4_44819 \t done parametrizing\n",
      "set4_26175 \t starting in process 13833\n",
      "set4_7737 \t done parametrizing\n",
      "set4_187934 \t starting in process 13835\n",
      "set4_3887 \t done parametrizing\n",
      "set4_1818 \t starting in process 13834\n",
      "set4_26175 \t done parametrizing\n",
      "set4_46360 \t starting in process 13833\n",
      "set4_121712 \t done parametrizing\n",
      "set4_236707 \t starting in process 13832\n",
      "set4_187934 \t done parametrizing\n",
      "set4_138493 \t starting in process 13835\n",
      "set4_46360 \t done parametrizing\n",
      "set4_5512 \t starting in process 13833\n",
      "set4_1818 \t done parametrizing\n",
      "set4_354276 \t starting in process 13834\n",
      "set4_236707 \t done parametrizing\n",
      "set4_284377 \t starting in process 13832\n",
      "set4_284377 \t done parametrizing\n",
      "set4_44228 \t starting in process 13832\n",
      "set4_5512 \t done parametrizing\n",
      "set4_141477 \t starting in process 13833\n",
      "set4_138493 \t done parametrizing\n",
      "set4_5558 \t starting in process 13835\n",
      "set4_5558 \t done parametrizing\n",
      "set4_46898 \t starting in process 13835\n",
      "set4_354276 \t done parametrizing\n",
      "set4_12338 \t starting in process 13834\n",
      "set4_44228 \t done parametrizing\n",
      "set4_122343 \t starting in process 13832\n",
      "set4_12338 \t done parametrizing\n",
      "set4_74426 \t starting in process 13834\n",
      "set4_141477 \t done parametrizing\n",
      "set4_122155 \t starting in process 13833\n",
      "set4_122343 \t done parametrizing\n",
      "set4_200861 \t starting in process 13832\n",
      "set4_46898 \t done parametrizing\n",
      "set4_27771 \t starting in process 13835\n",
      "set4_74426 \t done parametrizing\n",
      "set4_358524 \t starting in process 13834\n",
      "set4_200861 \t done parametrizing\n",
      "set4_28072 \t starting in process 13832\n",
      "set4_358524 \t done parametrizing\n",
      "set4_357502 \t starting in process 13834\n",
      "set4_27771 \t done parametrizing\n",
      "set4_187936 \t starting in process 13835\n",
      "set4_122155 \t done parametrizing\n",
      "set4_28072 \t done parametrizing\n",
      "set4_186355 \t starting in process 13832\n",
      "set4_187936 \t done parametrizing\n",
      "set4_190859 \t starting in process 13835\n",
      "set4_357502 \t done parametrizing\n",
      "set4_202521 \t starting in process 13834\n",
      "set4_186355 \t done parametrizing\n",
      "set4_20492 \t starting in process 13832\n",
      "set4_202521 \t done parametrizing\n",
      "set4_295199 \t starting in process 13834\n",
      "set4_20492 \t done parametrizing\n",
      "set4_18112 \t starting in process 13832\n",
      "set4_18112 \t done parametrizing\n",
      "set4_188476 \t starting in process 13832\n",
      "set4_295199 \t done parametrizing\n",
      "set4_48420 \t starting in process 13834\n",
      "set4_190859 \t done parametrizing\n",
      "JAN_PDE2_1345 \t starting in process 13835\n",
      "set4_188476 \t done parametrizing\n",
      "set4_74593 \t starting in process 13832\n",
      "JAN_PDE2_1345 \t done parametrizing\n",
      "set4_74593 \t done parametrizing\n",
      "set4_48420 \t done parametrizing\n",
      "set4_46871 \t starting in process 13834\n",
      "set4_46871 \t done parametrizing\n",
      "Now the pool is closed and no longer available\n"
     ]
    }
   ],
   "source": [
    "# parametrize in parallel\n",
    "from multiprocessing import Process, Queue, Pool, TimeoutError, Lock\n",
    "\n",
    "mp_lock = Lock()\n",
    "cur_folder=os.path.abspath(os.getcwd())\n",
    "\n",
    "def mp_worker(mol):\n",
    "    mp_lock.acquire()\n",
    "    print(mol.GetProp('ID'),\"\\t starting in process\", os.getpid())\n",
    "    mp_lock.release()\n",
    "    \n",
    "    mol_folder=f\"{fe.ligandPath}/lig_{mol.GetProp('ID')}/\"\n",
    "    os.makedirs(mol_folder, exist_ok=True)\n",
    "    \n",
    "    mol_pdb=f\"{mol_folder}/mol_gmx.pdb\"\n",
    "    if(not os.path.exists(mol_pdb)):\n",
    "        with open(mol_pdb,\"w\") as f:\n",
    "            f.write(rdmolfiles.MolToPDBBlock(mol))\n",
    "            \n",
    "    mol_itp=mol_folder+\"/MOL.acpype/MOL_GMX.itp\"\n",
    "    if(not os.path.exists(mol_itp)):\n",
    "        mol_file=mol_folder+\"/MOL.mol\"\n",
    "        rdmolfiles.MolToMolFile(mol, mol_file)\n",
    "\n",
    "        #find total charge\n",
    "        totQ=rdmolops.GetFormalCharge(mol)\n",
    "\n",
    "        #acpype\n",
    "        os.chdir(mol_folder)\n",
    "        mol_file = \"MOL.mol\"\n",
    "        process = subprocess.Popen(['acpype', '-i', mol_file, '-a', 'gaff', '-c', 'bcc', '-b', \"MOL\", '-n', repr(totQ)],\n",
    "                    stdout=subprocess.PIPE,\n",
    "                    stderr=subprocess.PIPE)\n",
    "        process.wait()\n",
    "#         out=process.stdout.read().decode(\"utf-8\")\n",
    "#         err=process.stderr.read().decode(\"utf-8\")\n",
    "#         print(out)\n",
    "#         print(err)\n",
    "\n",
    "        os.system(\"sed '/\\\\[ moleculetype \\\\]/Q' MOL.acpype/MOL_GMX.itp > ffMOL.itp 2>&1\")\n",
    "        os.system(\"sed -n '/\\\\[ moleculetype \\\\]/,$p' MOL.acpype/MOL_GMX.itp > MOL.itp  2>&1\")\n",
    "\n",
    "#         #make sigmahole versions\n",
    "#         os.system(\"python /home/ykhalak/custom_scripts/sigmahole.py -itp MOL.itp -pdb mol_gmx.pdb -ffitp ffMOL.itp\"+\\\n",
    "#                   \" -oitp MOL_sigmahole.itp -offitp ffMOL_sigmahole.itp -opdb mol_sigmahole.pdb\"+\\\n",
    "#                   \" -ff gaff -rule ibrahim 2>&1\")\n",
    "\n",
    "        os.chdir(cur_folder)\n",
    "        \n",
    "        mp_lock.acquire()\n",
    "        if(not os.path.exists(mol_itp)):\n",
    "            print(mol.GetProp('ID'),\"\\t parametrization failed.\")\n",
    "        else:\n",
    "            print(mol.GetProp('ID'),\"\\t done parametrizing\")\n",
    "        mp_lock.release()\n",
    "#         break;\n",
    "    else:\n",
    "        mp_lock.acquire()\n",
    "        print(mol.GetProp('ID'),\"\\t previously done\")\n",
    "        mp_lock.release()\n",
    "        \n",
    "use_cores=4\n",
    "with Pool(processes=use_cores) as pool:\n",
    "    res=pool.map(mp_worker, test_ligs+[reference_lig])\n",
    "\n",
    "print(\"Now the pool is closed and no longer available\")"
   ]
  },
  {
   "cell_type": "code",
   "execution_count": 8,
   "metadata": {
    "scrolled": true
   },
   "outputs": [
    {
     "name": "stdout",
     "output_type": "stream",
     "text": [
      "set4_375162 set4_246679\t starting in process \t starting in process 12962 12963\n",
      "\n",
      "set4_231 \t starting in process 12964set4_117375\n",
      " \t starting in process 12965\n",
      "set4_246679 \t done parametrizing\n",
      "set4_240184 \t starting in process 12963\n",
      "set4_231 \t done parametrizingset4_375162\n",
      "set4_117375set4_15250  \t done parametrizing \t starting in process\n",
      "\t done parametrizingset4_12137 \n",
      " 12964set4_353431\t starting in process  \n",
      "12962\t starting in process\n",
      " 12965\n",
      "set4_12137 \t done parametrizing\n",
      "set4_315126 \t starting in process 12962\n",
      "set4_240184 \t done parametrizing\n",
      "set4_283331 \t starting in process 12963\n",
      "set4_353431set4_15250  \t done parametrizing\t done parametrizing\n",
      "\n",
      "set4_141299set4_16619  \t starting in process\t starting in process 12965 \n",
      "12964\n",
      "set4_16619 \t done parametrizing\n",
      "set4_42008 \t starting in process 12964\n",
      "set4_315126 \t done parametrizing\n",
      "set4_117548 \t starting in process 12962\n",
      "set4_141299 \t done parametrizing\n",
      "set4_8534 \t starting in process 12965\n",
      "set4_283331 \t done parametrizing\n",
      "set4_40342 \t starting in process 12963\n",
      "set4_40342 \t done parametrizing\n",
      "set4_142392 \t starting in process 12963\n",
      "set4_117548 \t done parametrizing\n",
      "set4_358213 \t starting in process 12962\n",
      "set4_42008 \t done parametrizing\n",
      "set4_119838 \t starting in process 12964\n",
      "set4_8534 \t done parametrizing\n",
      "set4_141085 \t starting in process 12965\n",
      "set4_142392 \t done parametrizing\n",
      "set4_143033 \t starting in process 12963\n",
      "set4_141085 \t done parametrizing\n",
      "set4_142300 \t starting in process 12965\n",
      "set4_358213 \t done parametrizing\n",
      "set4_73592 \t starting in process 12962\n",
      "set4_119838 \t done parametrizing\n",
      "set4_246669 \t starting in process 12964\n",
      "set4_143033 \t done parametrizing\n",
      "set4_15755 \t starting in process 12963\n",
      "set4_73592 \t done parametrizing\n",
      "set4_142407 \t starting in process 12962\n",
      "set4_142300 \t done parametrizing\n",
      "set4_16251 \t starting in process 12965\n",
      "set4_246669 \t done parametrizing\n",
      "set4_141768 \t starting in process 12964\n",
      "set4_16251set4_142407 \t done parametrizing \n",
      "\t done parametrizingset4_11493\n",
      "set4_8894 \t starting in process 12965\n",
      " \t starting in process 12962\n",
      "set4_141768 \t done parametrizing\n",
      "set4_45093 \t starting in process 12964\n",
      "set4_15755 \t done parametrizing\n",
      "set4_44830 \t starting in process 12963\n",
      "set4_45093set4_44830  \t done parametrizing\n",
      "set4_11493\t done parametrizing\n",
      "set4_12134  set4_44679\t done parametrizing\t starting in process \n",
      "\t starting in processset4_141883 12964 \n",
      "\t starting in process  1296312965\n",
      "\n",
      "set4_8894 \t done parametrizing\n",
      "set4_283464 \t starting in process 12962\n",
      "set4_12134 \t done parametrizing\n",
      "set4_316734 \t starting in process 12963\n",
      "set4_141883 \t done parametrizingset4_283464\n",
      " set4_117324\t done parametrizing \n",
      "\t starting in processset4_9514  12965\t starting in process\n",
      " 12962\n",
      "set4_44679 \t done parametrizing\n",
      "set4_45101 \t starting in process 12964\n",
      "set4_9514set4_117324set4_45101   \t done parametrizing\t done parametrizing\n",
      "\n",
      "set4_314457set4_186083  \t starting in process\t starting in process  1296412962\t done parametrizing\n",
      "\n",
      "\n",
      "set4_376269 \t starting in process 12965\n",
      "set4_316734 \t done parametrizing\n",
      "set4_118481 \t starting in process 12963\n",
      "set4_186083 \t done parametrizing\n",
      "set4_117475 \t starting in process 12962\n",
      "set4_314457 \t done parametrizing\n",
      "set4_6961 \t starting in process 12964\n",
      "set4_376269 \t done parametrizing\n",
      "set4_138671 \t starting in process 12965\n",
      "set4_118481 \t done parametrizing\n",
      "set4_27799 \t starting in process 12963\n",
      "set4_117475 \t done parametrizing\n",
      "set4_45104 \t starting in process 12962\n",
      "set4_6961 \t done parametrizing\n",
      "set4_74407 \t starting in process 12964\n",
      "set4_27799 \t done parametrizing\n",
      "set4_49123 \t starting in process 12963\n",
      "set4_138671 \t done parametrizing\n",
      "set4_356810 \t starting in process 12965\n",
      "set4_74407set4_49123 \t done parametrizing \n",
      "set4_46924\t done parametrizing\n",
      " set4_39994\t starting in process 12964\n",
      " \t starting in process 12963\n",
      "set4_356810 \t done parametrizing\n",
      "set4_10028 \t starting in process 12965\n",
      "set4_45104 \t done parametrizing\n",
      "set4_82644 \t starting in process 12962\n",
      "set4_39994 \t done parametrizing\n",
      "set4_47834 \t starting in process 12963\n",
      "set4_46924 \t done parametrizing\n",
      "set4_8165set4_82644 \t starting in process set4_1002812964\n",
      " \t done parametrizing \n",
      "\t done parametrizing\n",
      "set4_240226set4_44858  \t starting in process\t starting in process "
     ]
    }
   ],
   "source": [
    "# parametrize in parallel\n",
    "from multiprocessing import Process, Queue, Pool, TimeoutError, Lock\n",
    "\n",
    "mp_lock = Lock()\n",
    "cur_folder=os.path.abspath(os.getcwd())\n",
    "\n",
    "def mp_worker(mol):\n",
    "#     mp_lock.acquire()\n",
    "    print(mol.GetProp('ID'),\"\\t starting in process\", os.getpid())\n",
    "#     mp_lock.release()\n",
    "    \n",
    "    mol_folder=f\"{fe.ligandPath}/lig_{mol.GetProp('ID')}/\"\n",
    "    os.makedirs(mol_folder, exist_ok=True)\n",
    "            \n",
    "    mol_sigmahole_itp=mol_folder+\"/MOL_sigmahole.itp\"\n",
    "    if(not os.path.exists(mol_sigmahole_itp)):\n",
    "        mol_file=mol_folder+\"/MOL.mol\"\n",
    "        rdmolfiles.MolToMolFile(mol, mol_file)\n",
    "\n",
    "        #find total charge\n",
    "        totQ=rdmolops.GetFormalCharge(mol)\n",
    "\n",
    "        #acpype\n",
    "        os.chdir(mol_folder)\n",
    "        \n",
    "        #make sigmahole versions\n",
    "        os.system(\"python /home/ykhalak/custom_scripts/sigmahole.py -itp MOL.itp -pdb mol_gmx.pdb -ffitp ffMOL.itp\"+\\\n",
    "                  \" -oitp MOL_sigmahole.itp -offitp ffMOL_sigmahole.itp -opdb mol_sigmahole.pdb\"+\\\n",
    "                  f\" -q {totQ} -ff gaff -rule ibrahim 2>&1\")\n",
    "\n",
    "        os.chdir(cur_folder)\n",
    "        \n",
    "#         mp_lock.acquire()\n",
    "        if(not os.path.exists(mol_sigmahole_itp)):\n",
    "            print(mol.GetProp('ID'),\"\\t parametrization failed.\")\n",
    "        else:\n",
    "            print(mol.GetProp('ID'),\"\\t done parametrizing\")\n",
    "#         mp_lock.release()\n",
    "#         break;\n",
    "    else:\n",
    "#         mp_lock.acquire()\n",
    "        print(mol.GetProp('ID'),\"\\t previously done\")\n",
    "#         mp_lock.release()\n",
    "        \n",
    "use_cores=4\n",
    "with Pool(processes=use_cores) as pool:\n",
    "    res=pool.map(mp_worker, test_ligs+[reference_lig])\n",
    "\n"
   ]
  },
  {
   "cell_type": "markdown",
   "metadata": {},
   "source": [
    "----------------\n",
    "Step 0. Initialize working environment\n",
    "-----------------\n",
    "\n",
    "Here, we will define the paths to the protein and ligand topologies, as well as to the molecular dynamics parameter files (.mdp).\n",
    "\n",
    "We will also set some main parameters: water model, salt concentration, number of simulation replicas to use."
   ]
  },
  {
   "cell_type": "code",
   "execution_count": 9,
   "metadata": {
    "scrolled": true
   },
   "outputs": [],
   "source": [
    "# provide edges\n",
    "fe.edges = [ [reference_lig.GetProp('ID'), mol.GetProp('ID')] for mol in test_ligs]\n",
    "fe.simTypes = ['em','eq_posre','eq','transitions']\n",
    "#fe.simTypes = ['em','eq','transitions']\n",
    "\n",
    "# finally, let's prepare the overall free energy calculation directory structure\n",
    "fe.prepareFreeEnergyDir( )\n"
   ]
  },
  {
   "cell_type": "markdown",
   "metadata": {},
   "source": [
    "`1a. Firstly, let's create a hybrid structure/topology for the two ligands forming an edge.\n",
    "For that we will establish a mapping of atoms to be morphed between the molecules.`"
   ]
  },
  {
   "cell_type": "code",
   "execution_count": 10,
   "metadata": {
    "scrolled": true
   },
   "outputs": [],
   "source": [
    "# this command will map the atoms of all edges found in the 'fe' object\n",
    "# bVerbose flag prints the output of the command\n",
    "fe.atom_mapping(bVerbose=False, n_processes=8)\n",
    "#fe.atom_mapping(bVerbose=True)"
   ]
  },
  {
   "cell_type": "markdown",
   "metadata": {},
   "source": [
    "`1b. Secondly, we will construct a hybrid structure and topology based on the established mapping`"
   ]
  },
  {
   "cell_type": "code",
   "execution_count": 11,
   "metadata": {},
   "outputs": [],
   "source": [
    "# import importlib\n",
    "# if 'AZtutorial' in sys.modules:\n",
    "#     importlib.reload(sys.modules['AZtutorial'])\n",
    "# else:\n",
    "#     import AZtutorial\n",
    "# from AZtutorial import *\n",
    "\n",
    "# # initialize the free energy environment object: it will store the main parameters for the calculations\n",
    "# fe = AZtutorial( )\n",
    "\n",
    "# # set the workpath\n",
    "# fe.workPath = 'workpath'\n",
    "# # set the path to the molecular dynamics parameter files\n",
    "# fe.mdpPath = 'input/mdppath'\n",
    "# # set the number of replicas (several repetitions of calculation are useful to obtain reliable statistics)\n",
    "# fe.replicas = 3\n",
    "# # provide the path to the protein structure and topology\n",
    "# fe.proteinPath = 'input/protein_amber'\n",
    "# # provide the path to the folder with ligand structures and topologies\n",
    "# fe.ligandPath = 'input/ligands'\n",
    "\n",
    "# # provide edges\n",
    "# fe.edges = [ [reference_lig.GetProp('ID'), mol.GetProp('ID')] for mol in test_ligs]\n",
    "# fe.simTypes = ['em','eq_posre','eq','transitions']\n",
    "# #fe.simTypes = ['em','eq','transitions']\n",
    "\n",
    "# # finally, let's prepare the overall free energy calculation directory structure\n",
    "# fe.prepareFreeEnergyDir( )"
   ]
  },
  {
   "cell_type": "code",
   "execution_count": 12,
   "metadata": {
    "scrolled": true
   },
   "outputs": [],
   "source": [
    "fe.hybrid_structure_topology(bVerbose=False, n_processes=1, DummyMassScale=0.001)"
   ]
  },
  {
   "cell_type": "markdown",
   "metadata": {},
   "source": [
    "`1c. Generate position restraints for the ligands`"
   ]
  },
  {
   "cell_type": "code",
   "execution_count": 13,
   "metadata": {
    "scrolled": true
   },
   "outputs": [],
   "source": [
    "fe.hybrid_structure_restraints(bVerbose=False, n_processes=8)"
   ]
  },
  {
   "cell_type": "markdown",
   "metadata": {},
   "source": [
    "`1d. Finally, we assemble the ligand and ligand+protein systems, i.e. create structures and topologies that will be used further in the step 2.`"
   ]
  },
  {
   "cell_type": "code",
   "execution_count": 14,
   "metadata": {
    "scrolled": true
   },
   "outputs": [],
   "source": [
    "prot_extra_mols={}\n",
    "prot_extra_mols[\"MG\"]=1\n",
    "prot_extra_mols[\"ZN\"]=1\n",
    "prot_extra_mols[\"SOL\"]=88\n",
    "\n",
    "fe.assemble_systems( filter_prot_water=True, prot_extra_mols=prot_extra_mols)"
   ]
  },
  {
   "cell_type": "markdown",
   "metadata": {},
   "source": [
    "------------------\n",
    "Step 2. Prepare equilibrium simulations.\n",
    "---------------------\n",
    "Prepare simulation boxes with solvent and ions.\n",
    "Subsequently energy minimize the systems, prepare equilibrium simulations and start the runs."
   ]
  },
  {
   "cell_type": "markdown",
   "metadata": {},
   "source": [
    "`2a. Build boxes, solvate, add ions`"
   ]
  },
  {
   "cell_type": "code",
   "execution_count": 15,
   "metadata": {
    "scrolled": true
   },
   "outputs": [],
   "source": [
    "fe.boxWaterIons(    bBoxLig=True, bBoxProt=True, \n",
    "                    bWatLig=True, bWatProt=True,\n",
    "                    bIonLig=True, bIonProt=True, n_processes=4 )"
   ]
  },
  {
   "cell_type": "markdown",
   "metadata": {},
   "source": [
    "`2b. Energy minimization.`<br>\n",
    "Prepare the simulation and subsequently either<br>\n",
    " a) run locally (suitable for the tutorial purpose)<br>\n",
    " b) create jobscripts to submit to the cluster"
   ]
  },
  {
   "cell_type": "code",
   "execution_count": 16,
   "metadata": {
    "scrolled": true
   },
   "outputs": [],
   "source": [
    "fe.prepare_simulation( simType='em', bLig=True, bProt=True, n_processes=8  )"
   ]
  },
  {
   "cell_type": "markdown",
   "metadata": {},
   "source": [
    "Running energy minimization locally (e.g. on a laptop) will take 10-15 minutes for one edge.<br>\n",
    "You can use the command below for that.\n",
    "If you do not want to wait that long and have an access to a cluster, skip this step and proceed to the next step."
   ]
  },
  {
   "cell_type": "code",
   "execution_count": null,
   "metadata": {
    "scrolled": true
   },
   "outputs": [],
   "source": [
    "#fe.run_simulation_locally( simType='em', bProt=True, bLig=False, bVerbose=True, mdrun=[\"mdrun_threads_d\"])"
   ]
  },
  {
   "cell_type": "markdown",
   "metadata": {},
   "source": [
    "We can also submit the jobs to run on the cluster.<br>\n",
    "This, naturally, requires some knowledge of the cluster available, queueing system and some dependencies. Several jobscript parameters allow to define the environment on the cluster. If there are additional cluster specifics, the jobscripts can be easily modified.<br>\n",
    "\n",
    "Together with the jobscripts, a script `submit.py` will be generated. This script can be used to simply submit all the jobs to the cluster."
   ]
  },
  {
   "cell_type": "code",
   "execution_count": null,
   "metadata": {},
   "outputs": [],
   "source": [
    "# set several parameters\n",
    "#fe.JOBqueue = 'SGE'\n",
    "#fe.JOBsource = ['/etc/profile.d/modules.sh','/usr/local/gromacs/GMXRC2021']\n",
    "#fe.JOBmodules = ['shared','owl/intel-mpi-default','cuda91']\n",
    "fe.JOBqueue = 'SLURM'\n",
    "fe.JOBsource = ['/usr/local/gromacs/GMXRC2021']\n",
    "fe.JOBmodules = []\n",
    "fe.JOBbGPU = True\n",
    "fe.JOBgmx = 'mdrun_threads_d'\n",
    "#fe.JOBsimcpu = 20\n",
    "fe.JOBsimtime = 2 # hours\n",
    "#fe.JOBpartition = 'p20'\n",
    "\n",
    "fe.JOBsimcpu = None\n",
    "fe.JOBpartition = 'p20,p16,p10,p08'\n",
    "\n",
    "# create the jobscripts\n",
    "fe.prepare_jobscripts(simType='em', bProt=True, bLig=True)"
   ]
  },
  {
   "cell_type": "code",
   "execution_count": 18,
   "metadata": {},
   "outputs": [],
   "source": [
    "# set several parameters\n",
    "fe.JOBqueue = 'SGE'\n",
    "fe.JOBsource = ['/etc/profile.d/modules.sh','/usr/local/gromacs/GMXRC2021']\n",
    "fe.JOBmodules = ['shared','owl/intel-mpi-default','cuda91']\n",
    "fe.JOBbGPU = True\n",
    "fe.JOBgmx = 'mdrun_threads_d'\n",
    "fe.JOBsimcpu = 10\n",
    "fe.JOBsimtime = 2 # hours\n",
    "\n",
    "# create the jobscripts\n",
    "fe.prepare_jobscripts(simType='em', bProt=True, bLig=True)"
   ]
  },
  {
   "cell_type": "markdown",
   "metadata": {},
   "source": [
    "# Check what stages are finished"
   ]
  },
  {
   "cell_type": "code",
   "execution_count": 27,
   "metadata": {},
   "outputs": [
    {
     "name": "stdout",
     "output_type": "stream",
     "text": [
      "protein:\n",
      "\t em\n",
      "\t eq_posre\n",
      "\t eq\n",
      "Not finished: edge_JAN_PDE2_1345_set4_48420 stateB 3\n",
      "Not finished: edge_JAN_PDE2_1345_set4_188476 stateB 2\n"
     ]
    }
   ],
   "source": [
    "print(\"protein:\")\n",
    "\n",
    "simType='em'\n",
    "print(\"\\t\", simType)\n",
    "for edge in fe.edges:\n",
    "    for state in fe.states:\n",
    "        for r in range(1,fe.replicas+1):\n",
    "            simpath = fe._get_specific_path(edge=edge,wp='protein',state=state,r=r,sim=simType)\n",
    "            if(not os.path.exists(f\"{simpath}/confout.gro\")):\n",
    "                print(f\"Not finished: {edge} {state} {r}\")\n",
    "                \n",
    "\n",
    "\n",
    "simType='eq_posre'\n",
    "print(\"\\t\", simType)\n",
    "for edge in fe.edges:\n",
    "    for state in fe.states:\n",
    "        for r in range(1,fe.replicas+1):\n",
    "            simpath = fe._get_specific_path(edge=edge,wp='protein',state=state,r=r,sim=simType)\n",
    "            if(not os.path.exists(f\"{simpath}/confout.gro\")):\n",
    "                print(f\"Not finished: {edge} {state} {r}\")\n",
    "                \n",
    "simType='eq'\n",
    "print(\"\\t\", simType)\n",
    "for edge in fe.edges:\n",
    "    for state in fe.states:\n",
    "        for r in range(1,fe.replicas+1):\n",
    "            simpath = fe._get_specific_path(edge=edge,wp='protein',state=state,r=r,sim=simType)\n",
    "            if(not os.path.exists(f\"{simpath}/confout.gro\")):\n",
    "                print(f\"Not finished: {edge} {state} {r}\")"
   ]
  },
  {
   "cell_type": "code",
   "execution_count": 26,
   "metadata": {},
   "outputs": [
    {
     "name": "stdout",
     "output_type": "stream",
     "text": [
      "water:\n",
      "\t em\n",
      "\t eq\n"
     ]
    }
   ],
   "source": [
    "print(\"water:\")\n",
    "\n",
    "simType='em'\n",
    "print(\"\\t\", simType)\n",
    "for edge in fe.edges:\n",
    "    for state in fe.states:\n",
    "        for r in range(1,fe.replicas+1):\n",
    "            simpath = fe._get_specific_path(edge=edge,wp='water',state=state,r=r,sim=simType)\n",
    "            if(not os.path.exists(f\"{simpath}/confout.gro\")):\n",
    "                print(f\"Not finished: {edge} {state} {r}\")\n",
    "                \n",
    "simType='eq'\n",
    "print(\"\\t\", simType)\n",
    "for edge in fe.edges:\n",
    "    for state in fe.states:\n",
    "        for r in range(1,fe.replicas+1):\n",
    "            simpath = fe._get_specific_path(edge=edge,wp='water',state=state,r=r,sim=simType)\n",
    "            if(not os.path.exists(f\"{simpath}/confout.gro\")):\n",
    "                print(f\"Not finished: {edge} {state} {r}\")"
   ]
  },
  {
   "cell_type": "markdown",
   "metadata": {},
   "source": [
    "# calculate water NPT separately, as no NVT_posre is needed"
   ]
  },
  {
   "cell_type": "code",
   "execution_count": 16,
   "metadata": {},
   "outputs": [],
   "source": [
    "import importlib\n",
    "import sys\n",
    "importlib.reload(sys.modules['AZtutorial'])\n",
    "from AZtutorial import AZtutorial"
   ]
  },
  {
   "cell_type": "code",
   "execution_count": 19,
   "metadata": {
    "scrolled": true
   },
   "outputs": [
    {
     "name": "stdout",
     "output_type": "stream",
     "text": [
      "edge_JAN_PDE2_1345_set4_259\n",
      "edge_JAN_PDE2_1345_set4_355663\n",
      "edge_JAN_PDE2_1345_set4_215398\n",
      "edge_JAN_PDE2_1345_set4_28086\n",
      "edge_JAN_PDE2_1345_set4_139383\n",
      "edge_JAN_PDE2_1345_set4_5006\n",
      "edge_JAN_PDE2_1345_set4_357494\n",
      "edge_JAN_PDE2_1345_set4_140962\n",
      "edge_JAN_PDE2_1345_set4_143451\n",
      "edge_JAN_PDE2_1345_set4_122372\n",
      "edge_JAN_PDE2_1345_set4_139799\n",
      "edge_JAN_PDE2_1345_set4_358360\n",
      "edge_JAN_PDE2_1345_set4_70692\n",
      "edge_JAN_PDE2_1345_set4_7608\n",
      "edge_JAN_PDE2_1345_set4_375671\n",
      "edge_JAN_PDE2_1345_set4_375143\n",
      "edge_JAN_PDE2_1345_set4_376387\n",
      "edge_JAN_PDE2_1345_set4_375702\n",
      "edge_JAN_PDE2_1345_set4_374975\n",
      "edge_JAN_PDE2_1345_set4_142593\n",
      "edge_JAN_PDE2_1345_set4_72021\n",
      "edge_JAN_PDE2_1345_set4_186467\n",
      "edge_JAN_PDE2_1345_set4_187172\n",
      "edge_JAN_PDE2_1345_set4_20500\n",
      "edge_JAN_PDE2_1345_set4_186126\n",
      "edge_JAN_PDE2_1345_set4_316679\n",
      "edge_JAN_PDE2_1345_set4_316514\n",
      "edge_JAN_PDE2_1345_set4_202093\n",
      "edge_JAN_PDE2_1345_set4_7052\n",
      "edge_JAN_PDE2_1345_set4_200502\n",
      "edge_JAN_PDE2_1345_set4_10012\n",
      "edge_JAN_PDE2_1345_set4_284724\n",
      "edge_JAN_PDE2_1345_set4_40298\n",
      "edge_JAN_PDE2_1345_set4_316075\n",
      "edge_JAN_PDE2_1345_set4_200690\n",
      "edge_JAN_PDE2_1345_set4_297042\n",
      "edge_JAN_PDE2_1345_set4_200505\n",
      "edge_JAN_PDE2_1345_set4_318411\n",
      "edge_JAN_PDE2_1345_set4_282772\n",
      "edge_JAN_PDE2_1345_set4_7061\n",
      "edge_JAN_PDE2_1345_set4_74324\n",
      "edge_JAN_PDE2_1345_set4_200508\n",
      "edge_JAN_PDE2_1345_set4_355274\n",
      "edge_JAN_PDE2_1345_set4_141090\n",
      "edge_JAN_PDE2_1345_set4_376018\n",
      "edge_JAN_PDE2_1345_set4_143323\n",
      "edge_JAN_PDE2_1345_set4_143309\n",
      "edge_JAN_PDE2_1345_set4_140016\n",
      "edge_JAN_PDE2_1345_set4_121667\n",
      "edge_JAN_PDE2_1345_set4_354538\n",
      "edge_JAN_PDE2_1345_set4_40159\n",
      "edge_JAN_PDE2_1345_set4_48422\n",
      "edge_JAN_PDE2_1345_set4_376050\n",
      "edge_JAN_PDE2_1345_set4_331033\n",
      "edge_JAN_PDE2_1345_set4_122391\n",
      "edge_JAN_PDE2_1345_set4_315424\n",
      "edge_JAN_PDE2_1345_set4_19544\n",
      "edge_JAN_PDE2_1345_set4_15467\n",
      "edge_JAN_PDE2_1345_set4_26046\n",
      "edge_JAN_PDE2_1345_set4_26898\n",
      "edge_JAN_PDE2_1345_set4_190868\n",
      "edge_JAN_PDE2_1345_set4_382656\n",
      "edge_JAN_PDE2_1345_set4_12861\n",
      "edge_JAN_PDE2_1345_set4_293742\n",
      "edge_JAN_PDE2_1345_set4_7727\n",
      "edge_JAN_PDE2_1345_set4_316588\n",
      "edge_JAN_PDE2_1345_set4_19562\n",
      "edge_JAN_PDE2_1345_set4_12885\n",
      "edge_JAN_PDE2_1345_set4_240194\n",
      "edge_JAN_PDE2_1345_set4_140302\n",
      "edge_JAN_PDE2_1345_set4_375488\n",
      "edge_JAN_PDE2_1345_set4_332467\n",
      "edge_JAN_PDE2_1345_set4_258\n",
      "edge_JAN_PDE2_1345_set4_10964\n",
      "edge_JAN_PDE2_1345_set4_5164\n",
      "edge_JAN_PDE2_1345_set4_14086\n",
      "edge_JAN_PDE2_1345_set4_139770\n",
      "edge_JAN_PDE2_1345_set4_7581\n",
      "edge_JAN_PDE2_1345_set4_5523\n",
      "edge_JAN_PDE2_1345_set4_118484\n",
      "edge_JAN_PDE2_1345_set4_143374\n",
      "edge_JAN_PDE2_1345_set4_141768\n",
      "edge_JAN_PDE2_1345_set4_142133\n",
      "edge_JAN_PDE2_1345_set4_382711\n",
      "edge_JAN_PDE2_1345_set4_122328\n",
      "edge_JAN_PDE2_1345_set4_355867\n",
      "edge_JAN_PDE2_1345_set4_4003\n",
      "edge_JAN_PDE2_1345_set4_12864\n",
      "edge_JAN_PDE2_1345_set4_139230\n",
      "edge_JAN_PDE2_1345_set4_353585\n",
      "edge_JAN_PDE2_1345_set4_293757\n",
      "edge_JAN_PDE2_1345_set4_292805\n",
      "edge_JAN_PDE2_1345_set4_16232\n",
      "edge_JAN_PDE2_1345_set4_45312\n",
      "edge_JAN_PDE2_1345_set4_139365\n",
      "edge_JAN_PDE2_1345_set4_139386\n",
      "edge_JAN_PDE2_1345_set4_7623\n",
      "edge_JAN_PDE2_1345_set4_204414\n",
      "edge_JAN_PDE2_1345_set4_355722\n",
      "edge_JAN_PDE2_1345_set4_139339\n",
      "\n",
      "---------------------\n",
      "Summary of the setup:\n",
      "---------------------\n",
      "\n",
      "   workpath: /home/ykhalak/Projects/ML_dG/pde2_dG/generators/structures/set_4/morphing_annealing_4d09_filtered_subset/ddG_step_1_sigmahole_scaled_dummy_masses/workpath\n",
      "   mdp path: /home/ykhalak/Projects/ML_dG/pde2_dG/generators/structures/set_4/morphing_annealing_4d09_filtered_subset/ddG_step_1_sigmahole_scaled_dummy_masses/input/mdppath\n",
      "   protein files: /home/ykhalak/Projects/ML_dG/pde2_dG/generators/structures/set_4/morphing_annealing_4d09_filtered_subset/ddG_step_1_sigmahole_scaled_dummy_masses/input/protein_amber\n",
      "   ligand files: /home/ykhalak/Projects/ML_dG/pde2_dG/generators/structures/set_4/morphing_annealing_4d09_filtered_subset/ddG_step_1_sigmahole_scaled_dummy_masses/input/ligands\n",
      "   number of replicase: 3\n",
      "   edges:\n",
      "        edge_JAN_PDE2_1345_set4_259\n",
      "        edge_JAN_PDE2_1345_set4_355663\n",
      "        edge_JAN_PDE2_1345_set4_215398\n",
      "        edge_JAN_PDE2_1345_set4_28086\n",
      "        edge_JAN_PDE2_1345_set4_139383\n",
      "        edge_JAN_PDE2_1345_set4_5006\n",
      "        edge_JAN_PDE2_1345_set4_357494\n",
      "        edge_JAN_PDE2_1345_set4_140962\n",
      "        edge_JAN_PDE2_1345_set4_143451\n",
      "        edge_JAN_PDE2_1345_set4_122372\n",
      "        edge_JAN_PDE2_1345_set4_139799\n",
      "        edge_JAN_PDE2_1345_set4_358360\n",
      "        edge_JAN_PDE2_1345_set4_70692\n",
      "        edge_JAN_PDE2_1345_set4_7608\n",
      "        edge_JAN_PDE2_1345_set4_375671\n",
      "        edge_JAN_PDE2_1345_set4_375143\n",
      "        edge_JAN_PDE2_1345_set4_376387\n",
      "        edge_JAN_PDE2_1345_set4_375702\n",
      "        edge_JAN_PDE2_1345_set4_374975\n",
      "        edge_JAN_PDE2_1345_set4_142593\n",
      "        edge_JAN_PDE2_1345_set4_72021\n",
      "        edge_JAN_PDE2_1345_set4_186467\n",
      "        edge_JAN_PDE2_1345_set4_187172\n",
      "        edge_JAN_PDE2_1345_set4_20500\n",
      "        edge_JAN_PDE2_1345_set4_186126\n",
      "        edge_JAN_PDE2_1345_set4_316679\n",
      "        edge_JAN_PDE2_1345_set4_316514\n",
      "        edge_JAN_PDE2_1345_set4_202093\n",
      "        edge_JAN_PDE2_1345_set4_7052\n",
      "        edge_JAN_PDE2_1345_set4_200502\n",
      "        edge_JAN_PDE2_1345_set4_10012\n",
      "        edge_JAN_PDE2_1345_set4_284724\n",
      "        edge_JAN_PDE2_1345_set4_40298\n",
      "        edge_JAN_PDE2_1345_set4_316075\n",
      "        edge_JAN_PDE2_1345_set4_200690\n",
      "        edge_JAN_PDE2_1345_set4_297042\n",
      "        edge_JAN_PDE2_1345_set4_200505\n",
      "        edge_JAN_PDE2_1345_set4_318411\n",
      "        edge_JAN_PDE2_1345_set4_282772\n",
      "        edge_JAN_PDE2_1345_set4_7061\n",
      "        edge_JAN_PDE2_1345_set4_74324\n",
      "        edge_JAN_PDE2_1345_set4_200508\n",
      "        edge_JAN_PDE2_1345_set4_355274\n",
      "        edge_JAN_PDE2_1345_set4_141090\n",
      "        edge_JAN_PDE2_1345_set4_376018\n",
      "        edge_JAN_PDE2_1345_set4_143323\n",
      "        edge_JAN_PDE2_1345_set4_143309\n",
      "        edge_JAN_PDE2_1345_set4_140016\n",
      "        edge_JAN_PDE2_1345_set4_121667\n",
      "        edge_JAN_PDE2_1345_set4_354538\n",
      "        edge_JAN_PDE2_1345_set4_40159\n",
      "        edge_JAN_PDE2_1345_set4_48422\n",
      "        edge_JAN_PDE2_1345_set4_376050\n",
      "        edge_JAN_PDE2_1345_set4_331033\n",
      "        edge_JAN_PDE2_1345_set4_122391\n",
      "        edge_JAN_PDE2_1345_set4_315424\n",
      "        edge_JAN_PDE2_1345_set4_19544\n",
      "        edge_JAN_PDE2_1345_set4_15467\n",
      "        edge_JAN_PDE2_1345_set4_26046\n",
      "        edge_JAN_PDE2_1345_set4_26898\n",
      "        edge_JAN_PDE2_1345_set4_190868\n",
      "        edge_JAN_PDE2_1345_set4_382656\n",
      "        edge_JAN_PDE2_1345_set4_12861\n",
      "        edge_JAN_PDE2_1345_set4_293742\n",
      "        edge_JAN_PDE2_1345_set4_7727\n",
      "        edge_JAN_PDE2_1345_set4_316588\n",
      "        edge_JAN_PDE2_1345_set4_19562\n",
      "        edge_JAN_PDE2_1345_set4_12885\n",
      "        edge_JAN_PDE2_1345_set4_240194\n",
      "        edge_JAN_PDE2_1345_set4_140302\n",
      "        edge_JAN_PDE2_1345_set4_375488\n",
      "        edge_JAN_PDE2_1345_set4_332467\n",
      "        edge_JAN_PDE2_1345_set4_258\n",
      "        edge_JAN_PDE2_1345_set4_10964\n",
      "        edge_JAN_PDE2_1345_set4_5164\n",
      "        edge_JAN_PDE2_1345_set4_14086\n",
      "        edge_JAN_PDE2_1345_set4_139770\n",
      "        edge_JAN_PDE2_1345_set4_7581\n",
      "        edge_JAN_PDE2_1345_set4_5523\n",
      "        edge_JAN_PDE2_1345_set4_118484\n",
      "        edge_JAN_PDE2_1345_set4_143374\n",
      "        edge_JAN_PDE2_1345_set4_141768\n",
      "        edge_JAN_PDE2_1345_set4_142133\n",
      "        edge_JAN_PDE2_1345_set4_382711\n",
      "        edge_JAN_PDE2_1345_set4_122328\n",
      "        edge_JAN_PDE2_1345_set4_355867\n",
      "        edge_JAN_PDE2_1345_set4_4003\n",
      "        edge_JAN_PDE2_1345_set4_12864\n",
      "        edge_JAN_PDE2_1345_set4_139230\n",
      "        edge_JAN_PDE2_1345_set4_353585\n",
      "        edge_JAN_PDE2_1345_set4_293757\n",
      "        edge_JAN_PDE2_1345_set4_292805\n",
      "        edge_JAN_PDE2_1345_set4_16232\n",
      "        edge_JAN_PDE2_1345_set4_45312\n",
      "        edge_JAN_PDE2_1345_set4_139365\n",
      "        edge_JAN_PDE2_1345_set4_139386\n",
      "        edge_JAN_PDE2_1345_set4_7623\n",
      "        edge_JAN_PDE2_1345_set4_204414\n",
      "        edge_JAN_PDE2_1345_set4_355722\n",
      "        edge_JAN_PDE2_1345_set4_139339\n",
      "\n",
      "---------------------\n",
      "Directory structure:\n",
      "---------------------\n",
      "\n",
      "/home/ykhalak/Projects/ML_dG/pde2_dG/generators/structures/set_4/morphing_annealing_4d09_filtered_subset/ddG_step_1_sigmahole_scaled_dummy_masses/workpath/\n",
      "|\n",
      "|--edge_X_Y\n",
      "|--|--water\n",
      "|--|--|--stateA\n",
      "|--|--|--|--run1/2/3\n",
      "|--|--|--|--|--em/eq_posre/eq/transitions\n",
      "|--|--|--stateB\n",
      "|--|--|--|--run1/2/3\n",
      "|--|--|--|--|--em/eq_posre/eq/transitions\n",
      "|--|--protein\n",
      "|--|--|--stateA\n",
      "|--|--|--|--run1/2/3\n",
      "|--|--|--|--|--em/eq_posre/eq/transitions\n",
      "|--|--|--stateB\n",
      "|--|--|--|--run1/2/3\n",
      "|--|--|--|--|--em/eq_posre/eq/transitions\n",
      "|--|--hybridStrTop\n",
      "|--edge_..\n",
      "DONE\n"
     ]
    }
   ],
   "source": [
    "fe_water_only = AZtutorial( )\n",
    "fe_water_only.workPath = 'workpath'\n",
    "fe_water_only.mdpPath = 'input/mdppath'\n",
    "fe_water_only.replicas = 3\n",
    "fe_water_only.proteinPath = 'input/protein_amber'\n",
    "fe_water_only.ligandPath = 'input/ligands'\n",
    "\n",
    "fe_water_only.edges = [ [reference_lig.GetProp('ID'), mol.GetProp('ID')] for mol in test_ligs]\n",
    "fe_water_only.simTypes = ['em','eq','transitions']\n",
    "fe_water_only.prepareFreeEnergyDir( )"
   ]
  },
  {
   "cell_type": "code",
   "execution_count": 20,
   "metadata": {
    "scrolled": true
   },
   "outputs": [
    {
     "name": "stdout",
     "output_type": "stream",
     "text": [
      "-----------------------------------------\n",
      "Preparing simulation: eq\n",
      "-----------------------------------------\n",
      "edge_JAN_PDE2_1345_set4_259\n",
      "edge_JAN_PDE2_1345_set4_139383\n",
      "edge_JAN_PDE2_1345_set4_143451\n",
      "edge_JAN_PDE2_1345_set4_70692\n",
      "edge_JAN_PDE2_1345_set4_376387\n",
      "edge_JAN_PDE2_1345_set4_72021\n",
      "edge_JAN_PDE2_1345_set4_186126\n",
      "edge_JAN_PDE2_1345_set4_7052\n",
      "edge_JAN_PDE2_1345_set4_7608\n",
      "edge_JAN_PDE2_1345_set4_316679\n",
      "edge_JAN_PDE2_1345_set4_122372\n",
      "edge_JAN_PDE2_1345_set4_355663\n",
      "edge_JAN_PDE2_1345_set4_5006\n",
      "edge_JAN_PDE2_1345_set4_186467\n",
      "edge_JAN_PDE2_1345_set4_375702\n",
      "edge_JAN_PDE2_1345_set4_200502\n",
      "edge_JAN_PDE2_1345_set4_357494\n",
      "edge_JAN_PDE2_1345_set4_375671\n",
      "edge_JAN_PDE2_1345_set4_316514\n",
      "edge_JAN_PDE2_1345_set4_187172\n",
      "edge_JAN_PDE2_1345_set4_374975\n",
      "edge_JAN_PDE2_1345_set4_215398\n",
      "edge_JAN_PDE2_1345_set4_10012\n",
      "edge_JAN_PDE2_1345_set4_139799\n",
      "edge_JAN_PDE2_1345_set4_142593\n",
      "edge_JAN_PDE2_1345_set4_28086\n",
      "edge_JAN_PDE2_1345_set4_202093\n",
      "edge_JAN_PDE2_1345_set4_358360\n",
      "edge_JAN_PDE2_1345_set4_375143\n",
      "edge_JAN_PDE2_1345_set4_284724\n",
      "edge_JAN_PDE2_1345_set4_140962\n",
      "edge_JAN_PDE2_1345_set4_20500\n",
      "edge_JAN_PDE2_1345_set4_40298\n",
      "edge_JAN_PDE2_1345_set4_200505\n",
      "edge_JAN_PDE2_1345_set4_74324\n",
      "edge_JAN_PDE2_1345_set4_376018\n",
      "edge_JAN_PDE2_1345_set4_121667\n",
      "edge_JAN_PDE2_1345_set4_376050\n",
      "edge_JAN_PDE2_1345_set4_19544\n",
      "edge_JAN_PDE2_1345_set4_190868\n",
      "edge_JAN_PDE2_1345_set4_318411\n",
      "edge_JAN_PDE2_1345_set4_143323\n",
      "edge_JAN_PDE2_1345_set4_354538\n",
      "edge_JAN_PDE2_1345_set4_200508\n",
      "edge_JAN_PDE2_1345_set4_316075\n",
      "edge_JAN_PDE2_1345_set4_331033\n",
      "edge_JAN_PDE2_1345_set4_382656\n",
      "edge_JAN_PDE2_1345_set4_15467\n",
      "edge_JAN_PDE2_1345_set4_200690\n",
      "edge_JAN_PDE2_1345_set4_40159\n",
      "edge_JAN_PDE2_1345_set4_355274\n",
      "edge_JAN_PDE2_1345_set4_297042\n",
      "edge_JAN_PDE2_1345_set4_48422\n",
      "edge_JAN_PDE2_1345_set4_141090\n",
      "edge_JAN_PDE2_1345_set4_122391\n",
      "edge_JAN_PDE2_1345_set4_143309\n",
      "edge_JAN_PDE2_1345_set4_12861\n",
      "edge_JAN_PDE2_1345_set4_282772\n",
      "edge_JAN_PDE2_1345_set4_7727\n",
      "edge_JAN_PDE2_1345_set4_240194\n",
      "edge_JAN_PDE2_1345_set4_258\n",
      "edge_JAN_PDE2_1345_set4_26046\n",
      "edge_JAN_PDE2_1345_set4_140016\n",
      "edge_JAN_PDE2_1345_set4_315424\n",
      "edge_JAN_PDE2_1345_set4_293742\n",
      "edge_JAN_PDE2_1345_set4_7061\n",
      "edge_JAN_PDE2_1345_set4_26898\n",
      "edge_JAN_PDE2_1345_set4_139770\n",
      "edge_JAN_PDE2_1345_set4_143374\n",
      "edge_JAN_PDE2_1345_set4_122328\n",
      "edge_JAN_PDE2_1345_set4_139230\n",
      "edge_JAN_PDE2_1345_set4_16232\n",
      "edge_JAN_PDE2_1345_set4_316588\n",
      "edge_JAN_PDE2_1345_set4_140302\n",
      "edge_JAN_PDE2_1345_set4_355867\n",
      "edge_JAN_PDE2_1345_set4_7581\n",
      "edge_JAN_PDE2_1345_set4_45312\n",
      "edge_JAN_PDE2_1345_set4_353585\n",
      "edge_JAN_PDE2_1345_set4_141768\n",
      "edge_JAN_PDE2_1345_set4_10964\n",
      "edge_JAN_PDE2_1345_set4_19562\n",
      "edge_JAN_PDE2_1345_set4_139365\n",
      "edge_JAN_PDE2_1345_set4_5523\n",
      "edge_JAN_PDE2_1345_set4_375488\n",
      "edge_JAN_PDE2_1345_set4_4003\n",
      "edge_JAN_PDE2_1345_set4_5164\n",
      "edge_JAN_PDE2_1345_set4_142133\n",
      "edge_JAN_PDE2_1345_set4_12885\n",
      "edge_JAN_PDE2_1345_set4_293757\n",
      "edge_JAN_PDE2_1345_set4_118484\n",
      "edge_JAN_PDE2_1345_set4_139386\n",
      "edge_JAN_PDE2_1345_set4_332467\n",
      "edge_JAN_PDE2_1345_set4_12864\n",
      "edge_JAN_PDE2_1345_set4_14086\n",
      "edge_JAN_PDE2_1345_set4_7623\n",
      "edge_JAN_PDE2_1345_set4_382711\n",
      "edge_JAN_PDE2_1345_set4_292805\n",
      "edge_JAN_PDE2_1345_set4_204414\n",
      "edge_JAN_PDE2_1345_set4_355722\n",
      "edge_JAN_PDE2_1345_set4_139339\n",
      "---------------------------------------------\n",
      "Preparing jobscripts for: eq\n",
      "---------------------------------------------\n",
      "DONE\n"
     ]
    }
   ],
   "source": [
    "fe_water_only.prepare_simulation( simType='eq', bLig=True, bProt=False, n_processes=8)\n",
    "\n",
    "# set several parameters\n",
    "# fe_water_only.JOBqueue = 'SLURM'\n",
    "# fe_water_only.JOBsource = ['/usr/local/gromacs/GMXRC2021']\n",
    "# fe_water_only.JOBmodules = []\n",
    "# fe_water_only.JOBbGPU = True\n",
    "# fe_water_only.JOBgmx = 'mdrun_threads'\n",
    "# fe_water_only.JOBsimcpu = 8\n",
    "# fe_water_only.JOBsimtime = 10 # hours\n",
    "# fe_water_only.JOBpartition = 'p08'\n",
    "# fe_water_only.prepare_jobscripts( simType='eq', bProt=False, bLig=True, job_folder_suffix=\"_water\")\n",
    "\n",
    "# # set several parameters\n",
    "fe_water_only.JOBqueue = 'SGE'\n",
    "fe_water_only.JOBsource = ['/etc/profile.d/modules.sh','/usr/local/gromacs/GMXRC2021']\n",
    "fe_water_only.JOBmodules = ['shared','owl/intel-mpi-default','cuda91']\n",
    "fe_water_only.JOBbGPU = True\n",
    "fe_water_only.JOBgmx = 'mdrun_threads'\n",
    "fe_water_only.JOBsimcpu = 8\n",
    "fe_water_only.JOBsimtime = 23 # hours\n",
    "fe_water_only.prepare_jobscripts( simType='eq', bProt=False, bLig=True, job_folder_suffix=\"_water\")"
   ]
  },
  {
   "cell_type": "code",
   "execution_count": null,
   "metadata": {},
   "outputs": [],
   "source": [
    "fe_water_only.prepare_transitions( bGenTpr=True, bProt=False, bLig=True )\n",
    "\n",
    "# set several parameters\n",
    "fe_water_only.JOBqueue = 'SGE'\n",
    "fe_water_only.JOBsource = ['/etc/profile.d/modules.sh','/usr/local/gromacs/GMXRC2021']\n",
    "fe_water_only.JOBmodules = ['shared','owl/intel-mpi-default','cuda91']\n",
    "fe_water_only.JOBgmx = 'mdrun_threads'\n",
    "fe_water_only.JOBsimcpu = 10\n",
    "fe_water_only.JOBsimtime = 24 # hours\n",
    "fe_water_only.prepare_jobscripts(simType='transitions', bProt=False, bLig=True,  job_folder_suffix=\"_water\" )"
   ]
  },
  {
   "cell_type": "code",
   "execution_count": null,
   "metadata": {},
   "outputs": [],
   "source": [
    "# set several parameters\n",
    "fe_water_only.JOBqueue = 'SLURM'\n",
    "fe_water_only.JOBsource = ['/usr/local/gromacs/GMXRC2021']\n",
    "fe_water_only.JOBmodules = []\n",
    "fe_water_only.JOBbGPU = True\n",
    "fe_water_only.JOBgmx = 'mdrun_threads'\n",
    "fe_water_only.JOBsimcpu = 8\n",
    "fe_water_only.JOBsimtime = 24 # hours\n",
    "fe_water_only.JOBpartition = 'p08'\n",
    "fe_water_only.prepare_jobscripts( simType='transitions', bProt=False, bLig=True, job_folder_suffix=\"_water\")"
   ]
  },
  {
   "cell_type": "code",
   "execution_count": null,
   "metadata": {},
   "outputs": [],
   "source": [
    "fe_water_only.run_analysis( bProt=False, bLig=True, bVerbose=False)"
   ]
  },
  {
   "cell_type": "code",
   "execution_count": null,
   "metadata": {},
   "outputs": [],
   "source": [
    "fe_water_only.analysis_summary()"
   ]
  },
  {
   "cell_type": "markdown",
   "metadata": {},
   "source": [
    "# Posre only for Prot"
   ]
  },
  {
   "cell_type": "markdown",
   "metadata": {},
   "source": [
    "`prepare and run NVT with simulated annealing to get the temp up smoothly`"
   ]
  },
  {
   "cell_type": "code",
   "execution_count": 22,
   "metadata": {
    "scrolled": true
   },
   "outputs": [
    {
     "name": "stdout",
     "output_type": "stream",
     "text": [
      "-----------------------------------------\n",
      "Preparing simulation: eq_posre\n",
      "-----------------------------------------\n",
      "edge_JAN_PDE2_1345_set4_358213\n",
      "edge_JAN_PDE2_1345_set4_16619\n",
      "edge_JAN_PDE2_1345_set4_240184\n",
      "edge_JAN_PDE2_1345_set4_141768\n",
      "edge_JAN_PDE2_1345_set4_143033\n",
      "edge_JAN_PDE2_1345_set4_375162\n",
      "edge_JAN_PDE2_1345_set4_11493\n",
      "edge_JAN_PDE2_1345_set4_8534\n",
      "edge_JAN_PDE2_1345_set4_42008\n",
      "edge_JAN_PDE2_1345_set4_12137\n",
      "edge_JAN_PDE2_1345_set4_117375\n",
      "edge_JAN_PDE2_1345_set4_141883\n",
      "edge_JAN_PDE2_1345_set4_73592\n",
      "edge_JAN_PDE2_1345_set4_15755\n",
      "edge_JAN_PDE2_1345_set4_141085\n",
      "edge_JAN_PDE2_1345_set4_283331\n",
      "edge_JAN_PDE2_1345_set4_315126\n",
      "edge_JAN_PDE2_1345_set4_119838\n",
      "edge_JAN_PDE2_1345_set4_353431\n",
      "edge_JAN_PDE2_1345_set4_117324\n",
      "edge_JAN_PDE2_1345_set4_142300\n",
      "edge_JAN_PDE2_1345_set4_231\n",
      "edge_JAN_PDE2_1345_set4_40342\n",
      "edge_JAN_PDE2_1345_set4_142407\n",
      "edge_JAN_PDE2_1345_set4_117548\n",
      "edge_JAN_PDE2_1345_set4_141299\n",
      "edge_JAN_PDE2_1345_set4_376269\n",
      "edge_JAN_PDE2_1345_set4_246669\n",
      "edge_JAN_PDE2_1345_set4_16251\n",
      "edge_JAN_PDE2_1345_set4_15250\n",
      "edge_JAN_PDE2_1345_set4_142392\n",
      "edge_JAN_PDE2_1345_set4_246679\n",
      "edge_JAN_PDE2_1345_set4_138671\n",
      "edge_JAN_PDE2_1345_set4_283464\n",
      "edge_JAN_PDE2_1345_set4_45104\n",
      "edge_JAN_PDE2_1345_set4_45101\n",
      "edge_JAN_PDE2_1345_set4_46924\n",
      "edge_JAN_PDE2_1345_set4_118481\n",
      "edge_JAN_PDE2_1345_set4_47834\n",
      "edge_JAN_PDE2_1345_set4_5512\n",
      "edge_JAN_PDE2_1345_set4_356810\n",
      "edge_JAN_PDE2_1345_set4_9514\n",
      "edge_JAN_PDE2_1345_set4_82644\n",
      "edge_JAN_PDE2_1345_set4_44830\n",
      "edge_JAN_PDE2_1345_set4_27799\n",
      "edge_JAN_PDE2_1345_set4_314457\n",
      "edge_JAN_PDE2_1345_set4_44819\n",
      "edge_JAN_PDE2_1345_set4_141477\n",
      "edge_JAN_PDE2_1345_set4_186083\n",
      "edge_JAN_PDE2_1345_set4_10028\n",
      "edge_JAN_PDE2_1345_set4_45093\n",
      "edge_JAN_PDE2_1345_set4_12134\n",
      "edge_JAN_PDE2_1345_set4_49123\n",
      "edge_JAN_PDE2_1345_set4_6961\n",
      "edge_JAN_PDE2_1345_set4_26175\n",
      "edge_JAN_PDE2_1345_set4_122155\n",
      "edge_JAN_PDE2_1345_set4_117475\n",
      "edge_JAN_PDE2_1345_set4_8894\n",
      "edge_JAN_PDE2_1345_set4_44679\n",
      "edge_JAN_PDE2_1345_set4_39994\n",
      "edge_JAN_PDE2_1345_set4_316734\n",
      "edge_JAN_PDE2_1345_set4_46360\n",
      "edge_JAN_PDE2_1345_set4_74407\n",
      "edge_JAN_PDE2_1345_set4_8165\n",
      "edge_JAN_PDE2_1345_set4_200507\n",
      "edge_JAN_PDE2_1345_set4_354276\n",
      "edge_JAN_PDE2_1345_set4_121712\n",
      "edge_JAN_PDE2_1345_set4_122343\n",
      "edge_JAN_PDE2_1345_set4_138493\n",
      "edge_JAN_PDE2_1345_set4_74426\n",
      "edge_JAN_PDE2_1345_set4_295199\n",
      "edge_JAN_PDE2_1345_set4_28072\n",
      "edge_JAN_PDE2_1345_set4_190861\n",
      "edge_JAN_PDE2_1345_set4_12338\n",
      "edge_JAN_PDE2_1345_set4_236707\n",
      "edge_JAN_PDE2_1345_set4_44858\n",
      "edge_JAN_PDE2_1345_set4_5558\n",
      "edge_JAN_PDE2_1345_set4_358524\n",
      "edge_JAN_PDE2_1345_set4_186355\n",
      "edge_JAN_PDE2_1345_set4_48420\n",
      "edge_JAN_PDE2_1345_set4_3887\n",
      "edge_JAN_PDE2_1345_set4_240226\n",
      "edge_JAN_PDE2_1345_set4_46898\n",
      "edge_JAN_PDE2_1345_set4_284377\n",
      "edge_JAN_PDE2_1345_set4_7737\n",
      "edge_JAN_PDE2_1345_set4_357502\n",
      "edge_JAN_PDE2_1345_set4_20492\n",
      "edge_JAN_PDE2_1345_set4_46871\n",
      "edge_JAN_PDE2_1345_set4_1818\n",
      "edge_JAN_PDE2_1345_set4_44228\n",
      "edge_JAN_PDE2_1345_set4_121640\n",
      "edge_JAN_PDE2_1345_set4_27771\n",
      "edge_JAN_PDE2_1345_set4_187934\n",
      "edge_JAN_PDE2_1345_set4_202521\n",
      "edge_JAN_PDE2_1345_set4_18112\n",
      "edge_JAN_PDE2_1345_set4_200861\n",
      "edge_JAN_PDE2_1345_set4_188476\n",
      "edge_JAN_PDE2_1345_set4_74593\n",
      "edge_JAN_PDE2_1345_set4_187936\n",
      "edge_JAN_PDE2_1345_set4_190859\n"
     ]
    }
   ],
   "source": [
    "fe.prepare_simulation( simType='eq_posre', bProt=True, bLig=False, n_processes=8)"
   ]
  },
  {
   "cell_type": "code",
   "execution_count": null,
   "metadata": {},
   "outputs": [],
   "source": [
    "#fe.run_simulation_locally( simType='eq_posre', bProt=True, bLig=False, bVerbose=True, mdrun=[\"mdrun_threads\"])"
   ]
  },
  {
   "cell_type": "code",
   "execution_count": 23,
   "metadata": {},
   "outputs": [
    {
     "name": "stdout",
     "output_type": "stream",
     "text": [
      "---------------------------------------------\n",
      "Preparing jobscripts for: eq_posre\n",
      "---------------------------------------------\n",
      "DONE\n"
     ]
    }
   ],
   "source": [
    "fe.JOBqueue = 'SLURM'\n",
    "fe.JOBsource = ['/usr/local/gromacs/GMXRC2021']\n",
    "fe.JOBmodules = []\n",
    "fe.JOBbGPU = True\n",
    "fe.JOBgmx = 'mdrun_threads'\n",
    "fe.JOBsimcpu = 20\n",
    "fe.JOBsimtime = 2 # hours\n",
    "fe.JOBpartition = 'p20'\n",
    "\n",
    "fe.prepare_jobscripts(simType='eq_posre', bProt=True, bLig=False)"
   ]
  },
  {
   "cell_type": "code",
   "execution_count": 23,
   "metadata": {},
   "outputs": [
    {
     "name": "stdout",
     "output_type": "stream",
     "text": [
      "---------------------------------------------\n",
      "Preparing jobscripts for: eq_posre\n",
      "---------------------------------------------\n",
      "DONE\n"
     ]
    }
   ],
   "source": [
    "# set several parameters\n",
    "fe.JOBqueue = 'SGE'\n",
    "fe.JOBsource = ['/etc/profile.d/modules.sh','/usr/local/gromacs/GMXRC2021']\n",
    "fe.JOBmodules = ['shared','owl/intel-mpi-default','cuda91']\n",
    "fe.JOBbGPU = True\n",
    "fe.JOBgmx = 'mdrun_threads'\n",
    "fe.JOBsimcpu = 10\n",
    "fe.JOBsimtime = 2 # hours\n",
    "\n",
    "# create the jobscripts\n",
    "fe.prepare_jobscripts(simType='eq_posre', bProt=True, bLig=False)"
   ]
  },
  {
   "cell_type": "markdown",
   "metadata": {},
   "source": [
    "### Check eq_posre completition"
   ]
  },
  {
   "cell_type": "code",
   "execution_count": 23,
   "metadata": {},
   "outputs": [],
   "source": [
    "simType='eq_posre'\n",
    "for edge in fe.edges:\n",
    "    for state in fe.states:\n",
    "        for r in range(1,fe.replicas+1):\n",
    "            simpath = fe._get_specific_path(edge=edge,wp='protein',state=state,r=r,sim=simType)\n",
    "            if(not os.path.exists(f\"{simpath}/confout.gro\")):\n",
    "                print(f\"Not finished: {edge} {state} {r}\")"
   ]
  },
  {
   "cell_type": "markdown",
   "metadata": {},
   "source": [
    "`2c. Once the energy minimization has finished, we can prepare equilibrium simulations.`"
   ]
  },
  {
   "cell_type": "code",
   "execution_count": 34,
   "metadata": {
    "scrolled": true
   },
   "outputs": [],
   "source": [
    "#fe.prepare_simulation( simType='eq', bProt=True, bLig=True, n_processes=8, edges=stable_edges)\n",
    "# fe.prepare_simulation( simType='eq', bProt=True, bLig=True, n_processes=8, edges=rerun_edges)"
   ]
  },
  {
   "cell_type": "code",
   "execution_count": null,
   "metadata": {
    "scrolled": true
   },
   "outputs": [],
   "source": [
    "#fe.run_simulation_locally( simType='eq', bProt=True, bLig=False, bVerbose=True, mdrun=[\"mdrun_threads\"])"
   ]
  },
  {
   "cell_type": "markdown",
   "metadata": {},
   "source": [
    "Again, prepare and submit the equilibrium simulation jobs to the cluster.<br>\n",
    "This time the calculation will take longer (we are performing 6 ns simulations).<br>\n",
    "On a node with a GPU and 8 CPUs simulations of ligand in water will take ~2 hours, ligand-protein complex will take ~10 hours."
   ]
  },
  {
   "cell_type": "code",
   "execution_count": 63,
   "metadata": {},
   "outputs": [
    {
     "name": "stdout",
     "output_type": "stream",
     "text": [
      "---------------------------------------------\n",
      "Preparing jobscripts for: eq\n",
      "---------------------------------------------\n",
      "DONE\n"
     ]
    }
   ],
   "source": [
    "# fe.JOBqueue = 'SLURM'\n",
    "# fe.JOBsource = ['/usr/local/gromacs/GMXRC2021']\n",
    "# fe.JOBmodules = []\n",
    "# fe.JOBbGPU = True\n",
    "# fe.JOBgmx = 'mdrun_threads'\n",
    "# #fe.JOBsimcpu = 20\n",
    "# fe.JOBsimtime = 23 # hours\n",
    "# #fe.JOBpartition = 'p20'\n",
    "# fe.JOBsimcpu = None\n",
    "# fe.JOBpartition = 'p20,p16,p10,p08'\n",
    "\n",
    "# #fe.prepare_jobscripts(simType='eq',  bLig=True, bProt=True, edges=stable_edges)\n",
    "# #fe.prepare_jobscripts(simType='eq',  bLig=True, bProt=True, edges=stable_edges2)\n",
    "# fe.prepare_jobscripts(simType='eq',  bLig=True, bProt=True, edges=rerun_edges)"
   ]
  },
  {
   "cell_type": "code",
   "execution_count": 25,
   "metadata": {},
   "outputs": [
    {
     "name": "stdout",
     "output_type": "stream",
     "text": [
      "-----------------------------------------\n",
      "Preparing simulation: eq\n",
      "-----------------------------------------\n",
      "edge_JAN_PDE2_1345_set4_8534\n",
      "edge_JAN_PDE2_1345_set4_375162\n",
      "edge_JAN_PDE2_1345_set4_358213\n",
      "edge_JAN_PDE2_1345_set4_240184\n",
      "edge_JAN_PDE2_1345_set4_143033\n",
      "edge_JAN_PDE2_1345_set4_16619\n",
      "edge_JAN_PDE2_1345_set4_141768\n",
      "edge_JAN_PDE2_1345_set4_11493\n",
      "edge_JAN_PDE2_1345_set4_117375\n",
      "edge_JAN_PDE2_1345_set4_141883\n",
      "edge_JAN_PDE2_1345_set4_141085\n",
      "edge_JAN_PDE2_1345_set4_73592\n",
      "edge_JAN_PDE2_1345_set4_12137\n",
      "edge_JAN_PDE2_1345_set4_15755\n",
      "edge_JAN_PDE2_1345_set4_42008\n",
      "edge_JAN_PDE2_1345_set4_283331\n",
      "edge_JAN_PDE2_1345_set4_117324\n",
      "edge_JAN_PDE2_1345_set4_353431\n",
      "edge_JAN_PDE2_1345_set4_315126\n",
      "edge_JAN_PDE2_1345_set4_142300\n",
      "edge_JAN_PDE2_1345_set4_142407\n",
      "edge_JAN_PDE2_1345_set4_40342\n",
      "edge_JAN_PDE2_1345_set4_231\n",
      "edge_JAN_PDE2_1345_set4_119838\n",
      "edge_JAN_PDE2_1345_set4_141299\n",
      "edge_JAN_PDE2_1345_set4_376269\n",
      "edge_JAN_PDE2_1345_set4_16251\n",
      "edge_JAN_PDE2_1345_set4_246679\n",
      "edge_JAN_PDE2_1345_set4_117548\n",
      "edge_JAN_PDE2_1345_set4_142392\n",
      "edge_JAN_PDE2_1345_set4_15250\n",
      "edge_JAN_PDE2_1345_set4_246669\n",
      "edge_JAN_PDE2_1345_set4_138671\n",
      "edge_JAN_PDE2_1345_set4_283464\n",
      "edge_JAN_PDE2_1345_set4_45104\n",
      "edge_JAN_PDE2_1345_set4_45101\n",
      "edge_JAN_PDE2_1345_set4_46924\n",
      "edge_JAN_PDE2_1345_set4_118481\n",
      "edge_JAN_PDE2_1345_set4_47834\n",
      "edge_JAN_PDE2_1345_set4_5512\n",
      "edge_JAN_PDE2_1345_set4_356810\n",
      "edge_JAN_PDE2_1345_set4_9514\n",
      "edge_JAN_PDE2_1345_set4_314457\n",
      "edge_JAN_PDE2_1345_set4_44830\n",
      "edge_JAN_PDE2_1345_set4_82644\n",
      "edge_JAN_PDE2_1345_set4_44819\n",
      "edge_JAN_PDE2_1345_set4_27799\n",
      "edge_JAN_PDE2_1345_set4_141477\n",
      "edge_JAN_PDE2_1345_set4_12134\n",
      "edge_JAN_PDE2_1345_set4_26175\n",
      "edge_JAN_PDE2_1345_set4_10028\n",
      "edge_JAN_PDE2_1345_set4_45093\n",
      "edge_JAN_PDE2_1345_set4_6961\n",
      "edge_JAN_PDE2_1345_set4_186083\n",
      "edge_JAN_PDE2_1345_set4_122155\n",
      "edge_JAN_PDE2_1345_set4_49123\n",
      "edge_JAN_PDE2_1345_set4_316734\n",
      "edge_JAN_PDE2_1345_set4_8894\n",
      "edge_JAN_PDE2_1345_set4_46360\n",
      "edge_JAN_PDE2_1345_set4_44679\n",
      "edge_JAN_PDE2_1345_set4_8165\n",
      "edge_JAN_PDE2_1345_set4_117475\n",
      "edge_JAN_PDE2_1345_set4_74407\n",
      "edge_JAN_PDE2_1345_set4_39994\n",
      "edge_JAN_PDE2_1345_set4_200507\n",
      "edge_JAN_PDE2_1345_set4_354276\n",
      "edge_JAN_PDE2_1345_set4_121712\n",
      "edge_JAN_PDE2_1345_set4_122343\n",
      "edge_JAN_PDE2_1345_set4_138493\n",
      "edge_JAN_PDE2_1345_set4_74426\n",
      "edge_JAN_PDE2_1345_set4_28072\n",
      "edge_JAN_PDE2_1345_set4_295199\n",
      "edge_JAN_PDE2_1345_set4_236707\n",
      "edge_JAN_PDE2_1345_set4_12338\n",
      "edge_JAN_PDE2_1345_set4_44858\n",
      "edge_JAN_PDE2_1345_set4_190861\n",
      "edge_JAN_PDE2_1345_set4_186355\n",
      "edge_JAN_PDE2_1345_set4_5558\n",
      "edge_JAN_PDE2_1345_set4_358524\n",
      "edge_JAN_PDE2_1345_set4_48420\n",
      "edge_JAN_PDE2_1345_set4_284377\n",
      "edge_JAN_PDE2_1345_set4_3887\n",
      "edge_JAN_PDE2_1345_set4_46898\n",
      "edge_JAN_PDE2_1345_set4_240226\n",
      "edge_JAN_PDE2_1345_set4_20492\n",
      "edge_JAN_PDE2_1345_set4_7737\n",
      "edge_JAN_PDE2_1345_set4_46871\n",
      "edge_JAN_PDE2_1345_set4_357502\n",
      "edge_JAN_PDE2_1345_set4_44228\n",
      "edge_JAN_PDE2_1345_set4_1818\n",
      "edge_JAN_PDE2_1345_set4_27771\n",
      "edge_JAN_PDE2_1345_set4_121640\n",
      "edge_JAN_PDE2_1345_set4_200861\n",
      "edge_JAN_PDE2_1345_set4_18112\n",
      "edge_JAN_PDE2_1345_set4_187934\n",
      "edge_JAN_PDE2_1345_set4_202521\n",
      "edge_JAN_PDE2_1345_set4_188476\n",
      "edge_JAN_PDE2_1345_set4_74593\n",
      "edge_JAN_PDE2_1345_set4_187936\n",
      "edge_JAN_PDE2_1345_set4_190859\n",
      "---------------------------------------------\n",
      "Preparing jobscripts for: eq\n",
      "---------------------------------------------\n",
      "DONE\n"
     ]
    }
   ],
   "source": [
    "#fe.prepare_simulation( simType='eq', bProt=True, bLig=True, n_processes=8, edges=rerun_edges)\n",
    "fe.prepare_simulation( simType='eq', bProt=True, bLig=True, n_processes=8)\n",
    "\n",
    "fe.JOBqueue = 'SGE'\n",
    "fe.JOBsource = ['/etc/profile.d/modules.sh','/usr/local/gromacs/GMXRC2021']\n",
    "fe.JOBmodules = ['shared','owl/intel-mpi-default','cuda91']\n",
    "fe.JOBgmx = 'mdrun_threads'\n",
    "fe.JOBsimcpu = 20\n",
    "fe.JOBsimtime = 24 # hours\n",
    "\n",
    "# fe.prepare_jobscripts(simType='eq',  bLig=True, bProt=True, edges=rerun_edges)\n",
    "fe.prepare_jobscripts(simType='eq',  bLig=True, bProt=True)"
   ]
  },
  {
   "cell_type": "markdown",
   "metadata": {},
   "source": [
    "# exclude slow running edges (NPT not done yet)"
   ]
  },
  {
   "cell_type": "code",
   "execution_count": 34,
   "metadata": {},
   "outputs": [],
   "source": [
    "slow_edges_names=[\n",
    "    \"edge_JAN_PDE2_1345_set4_48420\",\n",
    "    \"edge_JAN_PDE2_1345_set4_188476\"\n",
    "]"
   ]
  },
  {
   "cell_type": "code",
   "execution_count": 35,
   "metadata": {},
   "outputs": [
    {
     "name": "stdout",
     "output_type": "stream",
     "text": [
      "{'edge_JAN_PDE2_1345_set4_48420': ['JAN_PDE2_1345', 'set4_48420'], 'edge_JAN_PDE2_1345_set4_188476': ['JAN_PDE2_1345', 'set4_188476']}\n"
     ]
    }
   ],
   "source": [
    "normal_edges={e:fe.edges[e] for e in fe.edges if e not in slow_edges_names}\n",
    "slow_edges={e:fe.edges[e] for e in fe.edges if e in slow_edges_names}\n",
    "print(slow_edges)"
   ]
  },
  {
   "cell_type": "markdown",
   "metadata": {},
   "source": [
    "# Run TI on the edges that finished eq\n",
    "no unstable opnes this time"
   ]
  },
  {
   "cell_type": "code",
   "execution_count": 41,
   "metadata": {},
   "outputs": [
    {
     "name": "stdout",
     "output_type": "stream",
     "text": [
      "---------------------------------------------\n",
      "Preparing jobscripts for: transitions\n",
      "---------------------------------------------\n",
      "DONE\n"
     ]
    }
   ],
   "source": [
    "fe.JOBqueue = 'SGE'\n",
    "fe.JOBsource = ['/etc/profile.d/modules.sh','/usr/local/gromacs/GMXRC2021']\n",
    "fe.JOBmodules = ['shared','owl/intel-mpi-default','cuda91']\n",
    "fe.JOBgmx = 'mdrun_threads'\n",
    "fe.JOBsimcpu = 10\n",
    "fe.JOBsimtime = 24 # hours\n",
    "#fe.prepare_jobscripts(simType='transitions',  bLig=True, bProt=True, edges=normal_edges )\n",
    "fe.prepare_jobscripts(simType='transitions',  bLig=True, bProt=True, edges=slow_edges, job_folder_suffix=\"_from_slow_NPT\" )\n",
    "# fe.prepare_jobscripts(simType='transitions',  bLig=True, bProt=True )"
   ]
  },
  {
   "cell_type": "code",
   "execution_count": null,
   "metadata": {},
   "outputs": [],
   "source": []
  },
  {
   "cell_type": "code",
   "execution_count": 33,
   "metadata": {},
   "outputs": [
    {
     "data": {
      "text/plain": [
       "{}"
      ]
     },
     "execution_count": 33,
     "metadata": {},
     "output_type": "execute_result"
    }
   ],
   "source": [
    "fe.edges"
   ]
  },
  {
   "cell_type": "markdown",
   "metadata": {
    "heading_collapsed": true
   },
   "source": [
    "# Finish running eq on edge_JAN_PDE2_1345_set4_39509 stateB 3 water"
   ]
  },
  {
   "cell_type": "code",
   "execution_count": 15,
   "metadata": {
    "hidden": true
   },
   "outputs": [
    {
     "name": "stdout",
     "output_type": "stream",
     "text": [
      "---------------------------------------------\n",
      "Preparing jobscripts for: eq\n",
      "---------------------------------------------\n",
      "DONE\n"
     ]
    }
   ],
   "source": [
    "saveabale_edges_names=[\n",
    "    \"edge_JAN_PDE2_1345_set4_39509\"\n",
    "]\n",
    "saveable_edges={e:fe.edges[e] for e in fe.edges if e in saveabale_edges_names}\n",
    "\n",
    "#fe.prepare_simulation(edges=saveable_edges, simType='eq', bProt=False, bLig=True, n_processes=8)\n",
    "\n",
    "fe.JOBqueue = 'SGE'\n",
    "fe.JOBsource = ['/etc/profile.d/modules.sh','/usr/local/gromacs/GMXRC2021']\n",
    "fe.JOBmodules = ['shared','owl/intel-mpi-default','cuda91']\n",
    "fe.JOBgmx = 'mdrun_threads'\n",
    "fe.JOBsimcpu = 10\n",
    "fe.JOBsimtime = 12 # hours\n",
    "\n",
    "fe.prepare_jobscripts(edges=saveable_edges, simType='eq',  bLig=True, bProt=False)"
   ]
  },
  {
   "cell_type": "markdown",
   "metadata": {
    "heading_collapsed": true
   },
   "source": [
    "# Check if NPT complete now"
   ]
  },
  {
   "cell_type": "code",
   "execution_count": 30,
   "metadata": {
    "hidden": true
   },
   "outputs": [
    {
     "name": "stdout",
     "output_type": "stream",
     "text": [
      "water:\n",
      "\t eq\n"
     ]
    }
   ],
   "source": [
    "print(\"water:\")\n",
    "                \n",
    "simType='eq'\n",
    "print(\"\\t\", simType)\n",
    "for edge in fe.edges:\n",
    "    for state in fe.states:\n",
    "        for r in range(1,fe.replicas+1):\n",
    "            simpath = fe._get_specific_path(edge=edge,wp='water',state=state,r=r,sim=simType)\n",
    "            if(not os.path.exists(f\"{simpath}/confout.gro\")):\n",
    "                print(f\"Not finished: {edge} {state} {r}\")"
   ]
  },
  {
   "cell_type": "code",
   "execution_count": 23,
   "metadata": {
    "hidden": true
   },
   "outputs": [
    {
     "name": "stdout",
     "output_type": "stream",
     "text": [
      "99\n"
     ]
    }
   ],
   "source": []
  },
  {
   "cell_type": "markdown",
   "metadata": {},
   "source": [
    "# (Re)run TI for missing"
   ]
  },
  {
   "cell_type": "code",
   "execution_count": 48,
   "metadata": {},
   "outputs": [
    {
     "name": "stdout",
     "output_type": "stream",
     "text": [
      "---------------------------------------------\n",
      "Preparing jobscripts for: transitions\n",
      "---------------------------------------------\n",
      "DONE\n"
     ]
    }
   ],
   "source": [
    "fe.JOBqueue = 'SGE'\n",
    "fe.JOBsource = ['/etc/profile.d/modules.sh','/usr/local/gromacs/GMXRC2021']\n",
    "fe.JOBmodules = ['shared','owl/intel-mpi-default','cuda91']\n",
    "fe.JOBgmx = 'mdrun_threads'\n",
    "fe.JOBsimcpu = 20\n",
    "fe.JOBsimtime = 24 # hours\n",
    "fe.prepare_jobscripts(simType='transitions',  bLig=True, bProt=True, edges=stable_edges )"
   ]
  },
  {
   "cell_type": "markdown",
   "metadata": {
    "heading_collapsed": true
   },
   "source": [
    "# rerun eq on the unstable edges\n",
    "After manually clearing their folders"
   ]
  },
  {
   "cell_type": "code",
   "execution_count": 16,
   "metadata": {
    "hidden": true
   },
   "outputs": [],
   "source": [
    "# no point. Every NPT sim crashed for this ligand."
   ]
  },
  {
   "cell_type": "markdown",
   "metadata": {
    "heading_collapsed": true
   },
   "source": [
    "# Check structure of unstable lig"
   ]
  },
  {
   "cell_type": "code",
   "execution_count": 108,
   "metadata": {
    "hidden": true
   },
   "outputs": [],
   "source": []
  },
  {
   "cell_type": "code",
   "execution_count": 19,
   "metadata": {
    "hidden": true
   },
   "outputs": [
    {
     "data": {
      "image/png": "[encoded data removed]",
      "text/plain": [
       "<IPython.core.display.Image object>"
      ]
     },
     "execution_count": 19,
     "metadata": {},
     "output_type": "execute_result"
    }
   ],
   "source": [
    "unstable_ligs=[]\n",
    "unstable_lignames=[]\n",
    "for i,l in enumerate(test_ligs):\n",
    "    if(\"edge_JAN_PDE2_1345_\"+l.GetProp(\"ID\") in unstable_edges_names):\n",
    "        unstable_ligs.append(l)\n",
    "        unstable_lignames.append(l.GetProp(\"ID\"))\n",
    "\n",
    "Draw.MolsToGridImage([Chem.MolFromSmiles(Chem.MolToSmiles(lig))for lig in unstable_ligs], legends=unstable_lignames,\n",
    "                     subImgSize = (200,200), molsPerRow=2, maxMols=10)"
   ]
  },
  {
   "cell_type": "markdown",
   "metadata": {},
   "source": [
    "# Analysis"
   ]
  },
  {
   "cell_type": "markdown",
   "metadata": {},
   "source": [
    "----------------\n",
    "Step 4. Analysis\n",
    "------------------"
   ]
  },
  {
   "cell_type": "markdown",
   "metadata": {},
   "source": [
    "`4a.` Firstly, let's process the calculated work values and estimate free energy differences.<br>\n",
    "The `pmx analyse` program will integrate the dhdl.xvg files to obtain the forward and reverse work values.<br>\n",
    "Subsequently, the Crooks fluctuation theorem and Jarzynski estimators will be applied to relate the work distributions to $\\Delta G$"
   ]
  },
  {
   "cell_type": "code",
   "execution_count": 47,
   "metadata": {},
   "outputs": [],
   "source": [
    "# TI xvgs are incomplete and NPT took a long time\n",
    "not_finsished_edges_names=[\n",
    "    \"edge_JAN_PDE2_1345_set4_141768\",\n",
    "]\n",
    "\n",
    "finished_edges={e:fe.edges[e] for e in fe.edges if e not in not_finsished_edges_names}"
   ]
  },
  {
   "cell_type": "code",
   "execution_count": 48,
   "metadata": {
    "scrolled": true
   },
   "outputs": [
    {
     "name": "stdout",
     "output_type": "stream",
     "text": [
      "----------------\n",
      "Running analysis\n",
      "----------------\n",
      "edge_JAN_PDE2_1345_set4_141085\n",
      "edge_JAN_PDE2_1345_set4_375162\n",
      "edge_JAN_PDE2_1345_set4_358213\n",
      "edge_JAN_PDE2_1345_set4_240184\n",
      "edge_JAN_PDE2_1345_set4_143033\n",
      "edge_JAN_PDE2_1345_set4_16619\n",
      "edge_JAN_PDE2_1345_set4_117375\n",
      "edge_JAN_PDE2_1345_set4_141883\n",
      "edge_JAN_PDE2_1345_set4_12137\n",
      "edge_JAN_PDE2_1345_set4_15755\n",
      "edge_JAN_PDE2_1345_set4_353431\n",
      "edge_JAN_PDE2_1345_set4_73592\n",
      "edge_JAN_PDE2_1345_set4_142300\n",
      "edge_JAN_PDE2_1345_set4_117324\n",
      "edge_JAN_PDE2_1345_set4_42008\n",
      "edge_JAN_PDE2_1345_set4_141299\n",
      "edge_JAN_PDE2_1345_set4_283331\n",
      "edge_JAN_PDE2_1345_set4_231\n",
      "edge_JAN_PDE2_1345_set4_376269\n",
      "edge_JAN_PDE2_1345_set4_119838\n",
      "edge_JAN_PDE2_1345_set4_16251\n",
      "edge_JAN_PDE2_1345_set4_315126\n",
      "edge_JAN_PDE2_1345_set4_8534\n",
      "edge_JAN_PDE2_1345_set4_142407\n",
      "edge_JAN_PDE2_1345_set4_15250\n",
      "edge_JAN_PDE2_1345_set4_138671\n",
      "edge_JAN_PDE2_1345_set4_246679\n",
      "edge_JAN_PDE2_1345_set4_40342\n",
      "edge_JAN_PDE2_1345_set4_11493\n",
      "edge_JAN_PDE2_1345_set4_117548\n",
      "edge_JAN_PDE2_1345_set4_356810\n",
      "edge_JAN_PDE2_1345_set4_9514\n",
      "edge_JAN_PDE2_1345_set4_82644\n",
      "edge_JAN_PDE2_1345_set4_10028\n",
      "edge_JAN_PDE2_1345_set4_314457\n",
      "edge_JAN_PDE2_1345_set4_44830\n",
      "edge_JAN_PDE2_1345_set4_27799\n",
      "edge_JAN_PDE2_1345_set4_142392\n",
      "edge_JAN_PDE2_1345_set4_186083\n",
      "edge_JAN_PDE2_1345_set4_246669\n",
      "edge_JAN_PDE2_1345_set4_44819\n",
      "edge_JAN_PDE2_1345_set4_8894\n",
      "edge_JAN_PDE2_1345_set4_283464\n",
      "edge_JAN_PDE2_1345_set4_141477\n",
      "edge_JAN_PDE2_1345_set4_6961\n",
      "edge_JAN_PDE2_1345_set4_49123\n",
      "edge_JAN_PDE2_1345_set4_74407\n",
      "edge_JAN_PDE2_1345_set4_46924\n",
      "edge_JAN_PDE2_1345_set4_190861\n",
      "edge_JAN_PDE2_1345_set4_117475\n",
      "edge_JAN_PDE2_1345_set4_3887\n",
      "edge_JAN_PDE2_1345_set4_1818\n",
      "edge_JAN_PDE2_1345_set4_45104\n",
      "edge_JAN_PDE2_1345_set4_354276\n",
      "edge_JAN_PDE2_1345_set4_12134\n",
      "edge_JAN_PDE2_1345_set4_12338\n",
      "edge_JAN_PDE2_1345_set4_240226\n",
      "edge_JAN_PDE2_1345_set4_122155\n",
      "edge_JAN_PDE2_1345_set4_121640\n",
      "edge_JAN_PDE2_1345_set4_121712\n",
      "edge_JAN_PDE2_1345_set4_236707\n",
      "edge_JAN_PDE2_1345_set4_8165\n",
      "edge_JAN_PDE2_1345_set4_200507\n",
      "edge_JAN_PDE2_1345_set4_284377\n",
      "edge_JAN_PDE2_1345_set4_26175\n",
      "edge_JAN_PDE2_1345_set4_39994\n",
      "edge_JAN_PDE2_1345_set4_44858\n",
      "edge_JAN_PDE2_1345_set4_44228\n",
      "edge_JAN_PDE2_1345_set4_316734\n",
      "edge_JAN_PDE2_1345_set4_47834\n",
      "edge_JAN_PDE2_1345_set4_45093\n",
      "edge_JAN_PDE2_1345_set4_122343\n",
      "edge_JAN_PDE2_1345_set4_7737\n",
      "edge_JAN_PDE2_1345_set4_118481\n",
      "edge_JAN_PDE2_1345_set4_5558\n",
      "edge_JAN_PDE2_1345_set4_187934\n",
      "edge_JAN_PDE2_1345_set4_46898\n",
      "edge_JAN_PDE2_1345_set4_138493\n",
      "edge_JAN_PDE2_1345_set4_27771\n",
      "edge_JAN_PDE2_1345_set4_358524\n",
      "edge_JAN_PDE2_1345_set4_74426\n",
      "edge_JAN_PDE2_1345_set4_357502\n",
      "edge_JAN_PDE2_1345_set4_48420\n",
      "edge_JAN_PDE2_1345_set4_202521\n",
      "edge_JAN_PDE2_1345_set4_46871\n",
      "edge_JAN_PDE2_1345_set4_295199\n",
      "edge_JAN_PDE2_1345_set4_200861\n",
      "edge_JAN_PDE2_1345_set4_186355\n",
      "edge_JAN_PDE2_1345_set4_28072\n",
      "edge_JAN_PDE2_1345_set4_44679\n",
      "edge_JAN_PDE2_1345_set4_74593\n",
      "edge_JAN_PDE2_1345_set4_45101\n",
      "edge_JAN_PDE2_1345_set4_187936\n",
      "edge_JAN_PDE2_1345_set4_20492\n",
      "edge_JAN_PDE2_1345_set4_190859\n",
      "edge_JAN_PDE2_1345_set4_18112\n",
      "edge_JAN_PDE2_1345_set4_188476\n",
      "edge_JAN_PDE2_1345_set4_46360\n",
      "edge_JAN_PDE2_1345_set4_5512\n",
      "DONE\n"
     ]
    }
   ],
   "source": [
    "#fe.run_analysis( bVerbose=True)\n",
    "\n",
    "# excluded=[\"edge_JAN_PDE2_1345_JAN_PDE2_994\"] # we don't have water for this one yet\n",
    "# ana_edges={x: fe.edges[x] for x in fe.edges if x not in excluded}\n",
    "# fe.run_analysis(edges=ana_edges, bLig=False, bProt=True, bVerbose=False)\n",
    "\n",
    "# fe.run_analysis( bLig=False, bProt=True, bVerbose=False)\n",
    "#fe.run_analysis( bLig=True, bProt=True, bVerbose=False, only_check_completition=True)\n",
    "fe.run_analysis( bLig=True, bProt=True, bVerbose=False, n_processes=8, edges=finished_edges)\n",
    "# fe.run_analysis( bLig=True, bProt=True, bVerbose=False, n_processes=8)"
   ]
  },
  {
   "cell_type": "markdown",
   "metadata": {},
   "source": [
    "`4b.` Finally, we can collect all the results into one data structure and investigate the outcome.<br>\n",
    "Let's also set the number of replicas back to 3, because results from three repeats have been pre-calculated for this tutorial.<br>\n",
    "Here, we read the $\\Delta G$ values and calculate $\\Delta\\Delta G$.<br>\n",
    "The calculated error reflects the statistical uncertainty and the variation between multiple calculation repeats."
   ]
  },
  {
   "cell_type": "code",
   "execution_count": 49,
   "metadata": {},
   "outputs": [
    {
     "data": {
      "text/html": [
       "<div>\n",
       "<style scoped>\n",
       "    .dataframe tbody tr th:only-of-type {\n",
       "        vertical-align: middle;\n",
       "    }\n",
       "\n",
       "    .dataframe tbody tr th {\n",
       "        vertical-align: top;\n",
       "    }\n",
       "\n",
       "    .dataframe thead th {\n",
       "        text-align: right;\n",
       "    }\n",
       "</style>\n",
       "<table border=\"1\" class=\"dataframe\">\n",
       "  <thead>\n",
       "    <tr style=\"text-align: right;\">\n",
       "      <th></th>\n",
       "      <th>val</th>\n",
       "      <th>err_analyt</th>\n",
       "      <th>err_boot</th>\n",
       "      <th>framesA</th>\n",
       "      <th>framesB</th>\n",
       "    </tr>\n",
       "  </thead>\n",
       "  <tbody>\n",
       "    <tr>\n",
       "      <th>edge_JAN_PDE2_1345_set4_375162_water_1</th>\n",
       "      <td>-586.53</td>\n",
       "      <td>1.31</td>\n",
       "      <td>1.39</td>\n",
       "      <td>80.0</td>\n",
       "      <td>80.0</td>\n",
       "    </tr>\n",
       "    <tr>\n",
       "      <th>edge_JAN_PDE2_1345_set4_375162_protein_1</th>\n",
       "      <td>-586.78</td>\n",
       "      <td>2.28</td>\n",
       "      <td>2.96</td>\n",
       "      <td>80.0</td>\n",
       "      <td>80.0</td>\n",
       "    </tr>\n",
       "    <tr>\n",
       "      <th>edge_JAN_PDE2_1345_set4_375162_water_2</th>\n",
       "      <td>-587.91</td>\n",
       "      <td>1.39</td>\n",
       "      <td>2.04</td>\n",
       "      <td>80.0</td>\n",
       "      <td>80.0</td>\n",
       "    </tr>\n",
       "    <tr>\n",
       "      <th>edge_JAN_PDE2_1345_set4_375162_protein_2</th>\n",
       "      <td>-588.18</td>\n",
       "      <td>3.05</td>\n",
       "      <td>4.66</td>\n",
       "      <td>80.0</td>\n",
       "      <td>80.0</td>\n",
       "    </tr>\n",
       "    <tr>\n",
       "      <th>edge_JAN_PDE2_1345_set4_375162_water_3</th>\n",
       "      <td>-589.28</td>\n",
       "      <td>1.59</td>\n",
       "      <td>1.17</td>\n",
       "      <td>80.0</td>\n",
       "      <td>80.0</td>\n",
       "    </tr>\n",
       "    <tr>\n",
       "      <th>...</th>\n",
       "      <td>...</td>\n",
       "      <td>...</td>\n",
       "      <td>...</td>\n",
       "      <td>...</td>\n",
       "      <td>...</td>\n",
       "    </tr>\n",
       "    <tr>\n",
       "      <th>edge_JAN_PDE2_1345_set4_246669_protein_1</th>\n",
       "      <td>-94.50</td>\n",
       "      <td>15.86</td>\n",
       "      <td>2.66</td>\n",
       "      <td>80.0</td>\n",
       "      <td>80.0</td>\n",
       "    </tr>\n",
       "    <tr>\n",
       "      <th>edge_JAN_PDE2_1345_set4_246669_water_2</th>\n",
       "      <td>-109.48</td>\n",
       "      <td>2.22</td>\n",
       "      <td>1.13</td>\n",
       "      <td>80.0</td>\n",
       "      <td>80.0</td>\n",
       "    </tr>\n",
       "    <tr>\n",
       "      <th>edge_JAN_PDE2_1345_set4_246669_protein_2</th>\n",
       "      <td>-101.29</td>\n",
       "      <td>21.47</td>\n",
       "      <td>1.04</td>\n",
       "      <td>80.0</td>\n",
       "      <td>80.0</td>\n",
       "    </tr>\n",
       "    <tr>\n",
       "      <th>edge_JAN_PDE2_1345_set4_246669_water_3</th>\n",
       "      <td>-113.46</td>\n",
       "      <td>1.63</td>\n",
       "      <td>1.59</td>\n",
       "      <td>80.0</td>\n",
       "      <td>80.0</td>\n",
       "    </tr>\n",
       "    <tr>\n",
       "      <th>edge_JAN_PDE2_1345_set4_246669_protein_3</th>\n",
       "      <td>-113.83</td>\n",
       "      <td>3.20</td>\n",
       "      <td>1.79</td>\n",
       "      <td>80.0</td>\n",
       "      <td>80.0</td>\n",
       "    </tr>\n",
       "  </tbody>\n",
       "</table>\n",
       "<p>120 rows × 5 columns</p>\n",
       "</div>"
      ],
      "text/plain": [
       "                                             val  err_analyt  err_boot  \\\n",
       "edge_JAN_PDE2_1345_set4_375162_water_1   -586.53        1.31      1.39   \n",
       "edge_JAN_PDE2_1345_set4_375162_protein_1 -586.78        2.28      2.96   \n",
       "edge_JAN_PDE2_1345_set4_375162_water_2   -587.91        1.39      2.04   \n",
       "edge_JAN_PDE2_1345_set4_375162_protein_2 -588.18        3.05      4.66   \n",
       "edge_JAN_PDE2_1345_set4_375162_water_3   -589.28        1.59      1.17   \n",
       "...                                          ...         ...       ...   \n",
       "edge_JAN_PDE2_1345_set4_246669_protein_1  -94.50       15.86      2.66   \n",
       "edge_JAN_PDE2_1345_set4_246669_water_2   -109.48        2.22      1.13   \n",
       "edge_JAN_PDE2_1345_set4_246669_protein_2 -101.29       21.47      1.04   \n",
       "edge_JAN_PDE2_1345_set4_246669_water_3   -113.46        1.63      1.59   \n",
       "edge_JAN_PDE2_1345_set4_246669_protein_3 -113.83        3.20      1.79   \n",
       "\n",
       "                                          framesA  framesB  \n",
       "edge_JAN_PDE2_1345_set4_375162_water_1       80.0     80.0  \n",
       "edge_JAN_PDE2_1345_set4_375162_protein_1     80.0     80.0  \n",
       "edge_JAN_PDE2_1345_set4_375162_water_2       80.0     80.0  \n",
       "edge_JAN_PDE2_1345_set4_375162_protein_2     80.0     80.0  \n",
       "edge_JAN_PDE2_1345_set4_375162_water_3       80.0     80.0  \n",
       "...                                           ...      ...  \n",
       "edge_JAN_PDE2_1345_set4_246669_protein_1     80.0     80.0  \n",
       "edge_JAN_PDE2_1345_set4_246669_water_2       80.0     80.0  \n",
       "edge_JAN_PDE2_1345_set4_246669_protein_2     80.0     80.0  \n",
       "edge_JAN_PDE2_1345_set4_246669_water_3       80.0     80.0  \n",
       "edge_JAN_PDE2_1345_set4_246669_protein_3     80.0     80.0  \n",
       "\n",
       "[120 rows x 5 columns]"
      ]
     },
     "execution_count": 49,
     "metadata": {},
     "output_type": "execute_result"
    }
   ],
   "source": [
    "fe.resultsAll"
   ]
  },
  {
   "cell_type": "code",
   "execution_count": 50,
   "metadata": {},
   "outputs": [
    {
     "name": "stdout",
     "output_type": "stream",
     "text": [
      "                                             val  err_analyt  err_boot  \\\n",
      "edge_JAN_PDE2_1345_set4_375162_water_1   -586.53        1.31      1.39   \n",
      "edge_JAN_PDE2_1345_set4_375162_protein_1 -586.78        2.28      2.96   \n",
      "edge_JAN_PDE2_1345_set4_375162_water_2   -587.91        1.39      2.04   \n",
      "edge_JAN_PDE2_1345_set4_375162_protein_2 -588.18        3.05      4.66   \n",
      "edge_JAN_PDE2_1345_set4_375162_water_3   -589.28        1.59      1.17   \n",
      "edge_JAN_PDE2_1345_set4_375162_protein_3 -587.28        3.98      1.83   \n",
      "edge_JAN_PDE2_1345_set4_12137_water_1    -408.40        1.77      2.41   \n",
      "edge_JAN_PDE2_1345_set4_12137_protein_1  -401.13       29.67      3.30   \n",
      "edge_JAN_PDE2_1345_set4_12137_water_2    -406.75        2.09      1.91   \n",
      "edge_JAN_PDE2_1345_set4_12137_protein_2  -409.89        9.55      3.59   \n",
      "edge_JAN_PDE2_1345_set4_12137_water_3    -408.50        1.56      1.44   \n",
      "edge_JAN_PDE2_1345_set4_12137_protein_3  -412.00      113.27      2.18   \n",
      "edge_JAN_PDE2_1345_set4_315126_water_1   -271.40        2.20      1.50   \n",
      "edge_JAN_PDE2_1345_set4_315126_protein_1 -283.53       78.05      1.73   \n",
      "edge_JAN_PDE2_1345_set4_315126_water_2   -271.37        1.53      1.17   \n",
      "edge_JAN_PDE2_1345_set4_315126_protein_2 -284.44        3.33      3.06   \n",
      "edge_JAN_PDE2_1345_set4_315126_water_3   -272.68        1.85      1.15   \n",
      "edge_JAN_PDE2_1345_set4_315126_protein_3 -279.25      240.39      1.90   \n",
      "edge_JAN_PDE2_1345_set4_117548_water_1   -121.39        2.10      2.07   \n",
      "edge_JAN_PDE2_1345_set4_117548_protein_1 -135.63       30.78      4.07   \n",
      "edge_JAN_PDE2_1345_set4_117548_water_2   -115.31        2.21      0.94   \n",
      "edge_JAN_PDE2_1345_set4_117548_protein_2 -125.97        5.70      2.11   \n",
      "edge_JAN_PDE2_1345_set4_117548_water_3   -118.83        1.56      2.21   \n",
      "edge_JAN_PDE2_1345_set4_117548_protein_3 -133.00        5.87      3.81   \n",
      "edge_JAN_PDE2_1345_set4_358213_water_1     97.96        2.53      1.58   \n",
      "edge_JAN_PDE2_1345_set4_358213_protein_1   90.54        2.82      3.59   \n",
      "edge_JAN_PDE2_1345_set4_358213_water_2     93.19        3.14      4.43   \n",
      "edge_JAN_PDE2_1345_set4_358213_protein_2   91.03       53.64      2.06   \n",
      "edge_JAN_PDE2_1345_set4_358213_water_3     96.38        3.21      2.12   \n",
      "edge_JAN_PDE2_1345_set4_358213_protein_3   86.04        6.65      4.62   \n",
      "edge_JAN_PDE2_1345_set4_73592_water_1      75.83        2.04      1.76   \n",
      "edge_JAN_PDE2_1345_set4_73592_protein_1    58.91       15.73      2.23   \n",
      "edge_JAN_PDE2_1345_set4_73592_water_2      77.59        1.72      1.39   \n",
      "edge_JAN_PDE2_1345_set4_73592_protein_2    64.74       11.84      3.88   \n",
      "edge_JAN_PDE2_1345_set4_73592_water_3      67.63        1.45      1.17   \n",
      "edge_JAN_PDE2_1345_set4_73592_protein_3    57.19       13.94      1.00   \n",
      "edge_JAN_PDE2_1345_set4_142407_water_1   -365.01        3.31      0.84   \n",
      "edge_JAN_PDE2_1345_set4_142407_protein_1 -355.89        6.49      1.39   \n",
      "edge_JAN_PDE2_1345_set4_142407_water_2   -361.14        1.89      1.40   \n",
      "edge_JAN_PDE2_1345_set4_142407_protein_2 -365.66        1.92      1.35   \n",
      "edge_JAN_PDE2_1345_set4_142407_water_3   -362.82        2.59      1.01   \n",
      "edge_JAN_PDE2_1345_set4_142407_protein_3 -364.13        4.14      1.86   \n",
      "edge_JAN_PDE2_1345_set4_246679_water_1   -102.37        1.15      0.84   \n",
      "edge_JAN_PDE2_1345_set4_246679_protein_1  -96.88        2.51      1.65   \n",
      "edge_JAN_PDE2_1345_set4_246679_water_2   -100.63        1.35      1.31   \n",
      "edge_JAN_PDE2_1345_set4_246679_protein_2 -100.21        3.63      1.72   \n",
      "edge_JAN_PDE2_1345_set4_246679_water_3   -102.60        1.43      1.22   \n",
      "edge_JAN_PDE2_1345_set4_246679_protein_3  -97.76        2.17      2.22   \n",
      "edge_JAN_PDE2_1345_set4_240184_water_1   -435.34        8.78      2.49   \n",
      "edge_JAN_PDE2_1345_set4_240184_protein_1 -457.17     1521.50      1.94   \n",
      "edge_JAN_PDE2_1345_set4_240184_water_2   -445.70        3.89      1.85   \n",
      "edge_JAN_PDE2_1345_set4_240184_protein_2 -460.26      256.57      3.86   \n",
      "edge_JAN_PDE2_1345_set4_240184_water_3   -444.26        3.02      4.03   \n",
      "edge_JAN_PDE2_1345_set4_240184_protein_3 -457.01      153.33      3.02   \n",
      "edge_JAN_PDE2_1345_set4_283331_water_1     21.41        2.07      2.81   \n",
      "edge_JAN_PDE2_1345_set4_283331_protein_1    1.40        5.03      1.68   \n",
      "edge_JAN_PDE2_1345_set4_283331_water_2     17.67        1.98      1.73   \n",
      "edge_JAN_PDE2_1345_set4_283331_protein_2   10.80       51.36      1.24   \n",
      "edge_JAN_PDE2_1345_set4_283331_water_3     17.18        2.35      1.78   \n",
      "edge_JAN_PDE2_1345_set4_283331_protein_3    3.02       20.16      2.19   \n",
      "edge_JAN_PDE2_1345_set4_40342_water_1    -402.09        1.69      1.22   \n",
      "edge_JAN_PDE2_1345_set4_40342_protein_1  -418.78        6.31      2.26   \n",
      "edge_JAN_PDE2_1345_set4_40342_water_2    -404.61        1.74      1.73   \n",
      "edge_JAN_PDE2_1345_set4_40342_protein_2  -413.11       10.19      3.02   \n",
      "edge_JAN_PDE2_1345_set4_40342_water_3    -400.79        1.44      1.58   \n",
      "edge_JAN_PDE2_1345_set4_40342_protein_3  -401.46        4.97      3.01   \n",
      "edge_JAN_PDE2_1345_set4_142392_water_1   -314.12        2.16      2.48   \n",
      "edge_JAN_PDE2_1345_set4_142392_protein_1 -319.35        2.82      1.48   \n",
      "edge_JAN_PDE2_1345_set4_142392_water_2   -316.55        2.00      2.34   \n",
      "edge_JAN_PDE2_1345_set4_142392_protein_2 -315.95        2.51      2.20   \n",
      "edge_JAN_PDE2_1345_set4_142392_water_3   -319.20        2.13      2.44   \n",
      "edge_JAN_PDE2_1345_set4_142392_protein_3 -322.56        6.92      1.09   \n",
      "edge_JAN_PDE2_1345_set4_143033_water_1   -114.58        5.01      0.78   \n",
      "edge_JAN_PDE2_1345_set4_143033_protein_1 -111.01       30.66      1.33   \n",
      "edge_JAN_PDE2_1345_set4_143033_water_2   -116.22        3.16      1.30   \n",
      "edge_JAN_PDE2_1345_set4_143033_protein_2  -99.97       78.87      1.99   \n",
      "edge_JAN_PDE2_1345_set4_143033_water_3   -114.79        4.46      1.38   \n",
      "edge_JAN_PDE2_1345_set4_143033_protein_3 -116.04        2.41      1.44   \n",
      "edge_JAN_PDE2_1345_set4_15755_water_1      55.44        1.83      1.50   \n",
      "edge_JAN_PDE2_1345_set4_15755_protein_1    39.75        2.64      3.14   \n",
      "edge_JAN_PDE2_1345_set4_15755_water_2      56.95        2.16      2.32   \n",
      "edge_JAN_PDE2_1345_set4_15755_protein_2    41.05       11.16      6.31   \n",
      "edge_JAN_PDE2_1345_set4_15755_water_3      53.35        2.22      2.03   \n",
      "edge_JAN_PDE2_1345_set4_15755_protein_3    44.02      250.34      0.94   \n",
      "edge_JAN_PDE2_1345_set4_231_water_1      -208.91        0.54      0.50   \n",
      "edge_JAN_PDE2_1345_set4_231_protein_1    -218.20        1.60      1.10   \n",
      "edge_JAN_PDE2_1345_set4_231_water_2      -210.16        0.70      0.64   \n",
      "edge_JAN_PDE2_1345_set4_231_protein_2    -215.39        1.65      1.18   \n",
      "edge_JAN_PDE2_1345_set4_231_water_3      -210.25        0.57      0.58   \n",
      "edge_JAN_PDE2_1345_set4_231_protein_3    -215.27        0.81      1.22   \n",
      "edge_JAN_PDE2_1345_set4_15250_water_1      56.44        1.81      1.49   \n",
      "edge_JAN_PDE2_1345_set4_15250_protein_1    38.22        5.01      2.24   \n",
      "edge_JAN_PDE2_1345_set4_15250_water_2      54.33        1.36      1.12   \n",
      "edge_JAN_PDE2_1345_set4_15250_protein_2    31.55        2.51      2.57   \n",
      "edge_JAN_PDE2_1345_set4_15250_water_3      53.92        1.88      1.08   \n",
      "edge_JAN_PDE2_1345_set4_15250_protein_3    42.05        3.27      1.34   \n",
      "edge_JAN_PDE2_1345_set4_16619_water_1      -3.83        2.19      1.95   \n",
      "edge_JAN_PDE2_1345_set4_16619_protein_1   -19.54        3.07      2.45   \n",
      "edge_JAN_PDE2_1345_set4_16619_water_2      -4.86        2.04      1.97   \n",
      "edge_JAN_PDE2_1345_set4_16619_protein_2   -12.65       11.79      1.11   \n",
      "edge_JAN_PDE2_1345_set4_16619_water_3      -4.58        2.10      1.81   \n",
      "edge_JAN_PDE2_1345_set4_16619_protein_3    -7.05       44.67      1.04   \n",
      "edge_JAN_PDE2_1345_set4_42008_water_1      29.24        1.82      1.47   \n",
      "edge_JAN_PDE2_1345_set4_42008_protein_1    14.34       16.45      1.02   \n",
      "edge_JAN_PDE2_1345_set4_42008_water_2      27.64        2.00      1.45   \n",
      "edge_JAN_PDE2_1345_set4_42008_protein_2    -0.38        3.26      5.16   \n",
      "edge_JAN_PDE2_1345_set4_42008_water_3      26.27        1.61      1.56   \n",
      "edge_JAN_PDE2_1345_set4_42008_protein_3    19.69       29.59      1.85   \n",
      "edge_JAN_PDE2_1345_set4_119838_water_1     37.35        2.09      1.49   \n",
      "edge_JAN_PDE2_1345_set4_119838_protein_1   24.44        5.18      1.66   \n",
      "edge_JAN_PDE2_1345_set4_119838_water_2     35.80        1.91      1.08   \n",
      "edge_JAN_PDE2_1345_set4_119838_protein_2   22.81       10.26      1.66   \n",
      "edge_JAN_PDE2_1345_set4_119838_water_3     35.03        1.76      1.26   \n",
      "edge_JAN_PDE2_1345_set4_119838_protein_3   32.62       41.79      1.66   \n",
      "edge_JAN_PDE2_1345_set4_246669_water_1   -115.08        1.23      1.31   \n",
      "edge_JAN_PDE2_1345_set4_246669_protein_1  -94.50       15.86      2.66   \n",
      "edge_JAN_PDE2_1345_set4_246669_water_2   -109.48        2.22      1.13   \n",
      "edge_JAN_PDE2_1345_set4_246669_protein_2 -101.29       21.47      1.04   \n",
      "edge_JAN_PDE2_1345_set4_246669_water_3   -113.46        1.63      1.59   \n",
      "edge_JAN_PDE2_1345_set4_246669_protein_3 -113.83        3.20      1.79   \n",
      "\n",
      "                                          framesA  framesB  \n",
      "edge_JAN_PDE2_1345_set4_375162_water_1       80.0     80.0  \n",
      "edge_JAN_PDE2_1345_set4_375162_protein_1     80.0     80.0  \n",
      "edge_JAN_PDE2_1345_set4_375162_water_2       80.0     80.0  \n",
      "edge_JAN_PDE2_1345_set4_375162_protein_2     80.0     80.0  \n",
      "edge_JAN_PDE2_1345_set4_375162_water_3       80.0     80.0  \n",
      "edge_JAN_PDE2_1345_set4_375162_protein_3     80.0     80.0  \n",
      "edge_JAN_PDE2_1345_set4_12137_water_1        80.0     80.0  \n",
      "edge_JAN_PDE2_1345_set4_12137_protein_1      80.0     80.0  \n",
      "edge_JAN_PDE2_1345_set4_12137_water_2        80.0     80.0  \n",
      "edge_JAN_PDE2_1345_set4_12137_protein_2      80.0     80.0  \n",
      "edge_JAN_PDE2_1345_set4_12137_water_3        80.0     80.0  \n",
      "edge_JAN_PDE2_1345_set4_12137_protein_3      80.0     80.0  \n",
      "edge_JAN_PDE2_1345_set4_315126_water_1       80.0     80.0  \n",
      "edge_JAN_PDE2_1345_set4_315126_protein_1     80.0     80.0  \n",
      "edge_JAN_PDE2_1345_set4_315126_water_2       80.0     80.0  \n",
      "edge_JAN_PDE2_1345_set4_315126_protein_2     80.0     80.0  \n",
      "edge_JAN_PDE2_1345_set4_315126_water_3       80.0     80.0  \n",
      "edge_JAN_PDE2_1345_set4_315126_protein_3     80.0     80.0  \n",
      "edge_JAN_PDE2_1345_set4_117548_water_1       80.0     80.0  \n",
      "edge_JAN_PDE2_1345_set4_117548_protein_1     80.0     80.0  \n",
      "edge_JAN_PDE2_1345_set4_117548_water_2       80.0     80.0  \n",
      "edge_JAN_PDE2_1345_set4_117548_protein_2     80.0     80.0  \n",
      "edge_JAN_PDE2_1345_set4_117548_water_3       80.0     80.0  \n",
      "edge_JAN_PDE2_1345_set4_117548_protein_3     80.0     80.0  \n",
      "edge_JAN_PDE2_1345_set4_358213_water_1       80.0     80.0  \n",
      "edge_JAN_PDE2_1345_set4_358213_protein_1     80.0     80.0  \n",
      "edge_JAN_PDE2_1345_set4_358213_water_2       80.0     80.0  \n",
      "edge_JAN_PDE2_1345_set4_358213_protein_2     80.0     80.0  \n",
      "edge_JAN_PDE2_1345_set4_358213_water_3       80.0     80.0  \n",
      "edge_JAN_PDE2_1345_set4_358213_protein_3     80.0     80.0  \n",
      "edge_JAN_PDE2_1345_set4_73592_water_1        80.0     80.0  \n",
      "edge_JAN_PDE2_1345_set4_73592_protein_1      80.0     80.0  \n",
      "edge_JAN_PDE2_1345_set4_73592_water_2        80.0     80.0  \n",
      "edge_JAN_PDE2_1345_set4_73592_protein_2      80.0     80.0  \n",
      "edge_JAN_PDE2_1345_set4_73592_water_3        80.0     80.0  \n",
      "edge_JAN_PDE2_1345_set4_73592_protein_3      80.0     80.0  \n",
      "edge_JAN_PDE2_1345_set4_142407_water_1       80.0     80.0  \n",
      "edge_JAN_PDE2_1345_set4_142407_protein_1     80.0     80.0  \n",
      "edge_JAN_PDE2_1345_set4_142407_water_2       80.0     80.0  \n",
      "edge_JAN_PDE2_1345_set4_142407_protein_2     80.0     80.0  \n",
      "edge_JAN_PDE2_1345_set4_142407_water_3       80.0     80.0  \n",
      "edge_JAN_PDE2_1345_set4_142407_protein_3     80.0     80.0  \n",
      "edge_JAN_PDE2_1345_set4_246679_water_1       80.0     80.0  \n",
      "edge_JAN_PDE2_1345_set4_246679_protein_1     80.0     80.0  \n",
      "edge_JAN_PDE2_1345_set4_246679_water_2       80.0     80.0  \n",
      "edge_JAN_PDE2_1345_set4_246679_protein_2     80.0     80.0  \n",
      "edge_JAN_PDE2_1345_set4_246679_water_3       80.0     80.0  \n",
      "edge_JAN_PDE2_1345_set4_246679_protein_3     80.0     80.0  \n",
      "edge_JAN_PDE2_1345_set4_240184_water_1       80.0     80.0  \n",
      "edge_JAN_PDE2_1345_set4_240184_protein_1     80.0     80.0  \n",
      "edge_JAN_PDE2_1345_set4_240184_water_2       80.0     80.0  \n",
      "edge_JAN_PDE2_1345_set4_240184_protein_2     80.0     80.0  \n",
      "edge_JAN_PDE2_1345_set4_240184_water_3       80.0     80.0  \n",
      "edge_JAN_PDE2_1345_set4_240184_protein_3     80.0     80.0  \n",
      "edge_JAN_PDE2_1345_set4_283331_water_1       80.0     80.0  \n",
      "edge_JAN_PDE2_1345_set4_283331_protein_1     80.0     80.0  \n",
      "edge_JAN_PDE2_1345_set4_283331_water_2       80.0     80.0  \n",
      "edge_JAN_PDE2_1345_set4_283331_protein_2     80.0     80.0  \n",
      "edge_JAN_PDE2_1345_set4_283331_water_3       80.0     80.0  \n",
      "edge_JAN_PDE2_1345_set4_283331_protein_3     80.0     80.0  \n",
      "edge_JAN_PDE2_1345_set4_40342_water_1        80.0     80.0  \n",
      "edge_JAN_PDE2_1345_set4_40342_protein_1      80.0     80.0  \n",
      "edge_JAN_PDE2_1345_set4_40342_water_2        80.0     80.0  \n",
      "edge_JAN_PDE2_1345_set4_40342_protein_2      80.0     80.0  \n",
      "edge_JAN_PDE2_1345_set4_40342_water_3        80.0     80.0  \n",
      "edge_JAN_PDE2_1345_set4_40342_protein_3      80.0     80.0  \n",
      "edge_JAN_PDE2_1345_set4_142392_water_1       80.0     80.0  \n",
      "edge_JAN_PDE2_1345_set4_142392_protein_1     80.0     80.0  \n",
      "edge_JAN_PDE2_1345_set4_142392_water_2       80.0     80.0  \n",
      "edge_JAN_PDE2_1345_set4_142392_protein_2     80.0     80.0  \n",
      "edge_JAN_PDE2_1345_set4_142392_water_3       80.0     80.0  \n",
      "edge_JAN_PDE2_1345_set4_142392_protein_3     80.0     80.0  \n",
      "edge_JAN_PDE2_1345_set4_143033_water_1       80.0     80.0  \n",
      "edge_JAN_PDE2_1345_set4_143033_protein_1     80.0     80.0  \n",
      "edge_JAN_PDE2_1345_set4_143033_water_2       80.0     80.0  \n",
      "edge_JAN_PDE2_1345_set4_143033_protein_2     80.0     80.0  \n",
      "edge_JAN_PDE2_1345_set4_143033_water_3       80.0     80.0  \n",
      "edge_JAN_PDE2_1345_set4_143033_protein_3     80.0     80.0  \n",
      "edge_JAN_PDE2_1345_set4_15755_water_1        80.0     80.0  \n",
      "edge_JAN_PDE2_1345_set4_15755_protein_1      80.0     80.0  \n",
      "edge_JAN_PDE2_1345_set4_15755_water_2        80.0     80.0  \n",
      "edge_JAN_PDE2_1345_set4_15755_protein_2      80.0     80.0  \n",
      "edge_JAN_PDE2_1345_set4_15755_water_3        80.0     80.0  \n",
      "edge_JAN_PDE2_1345_set4_15755_protein_3      80.0     80.0  \n",
      "edge_JAN_PDE2_1345_set4_231_water_1          80.0     80.0  \n",
      "edge_JAN_PDE2_1345_set4_231_protein_1        80.0     80.0  \n",
      "edge_JAN_PDE2_1345_set4_231_water_2          80.0     80.0  \n",
      "edge_JAN_PDE2_1345_set4_231_protein_2        80.0     80.0  \n",
      "edge_JAN_PDE2_1345_set4_231_water_3          80.0     80.0  \n",
      "edge_JAN_PDE2_1345_set4_231_protein_3        80.0     80.0  \n",
      "edge_JAN_PDE2_1345_set4_15250_water_1        80.0     80.0  \n",
      "edge_JAN_PDE2_1345_set4_15250_protein_1      80.0     80.0  \n",
      "edge_JAN_PDE2_1345_set4_15250_water_2        80.0     80.0  \n",
      "edge_JAN_PDE2_1345_set4_15250_protein_2      80.0     80.0  \n",
      "edge_JAN_PDE2_1345_set4_15250_water_3        80.0     80.0  \n",
      "edge_JAN_PDE2_1345_set4_15250_protein_3      80.0     80.0  \n",
      "edge_JAN_PDE2_1345_set4_16619_water_1        80.0     80.0  \n",
      "edge_JAN_PDE2_1345_set4_16619_protein_1      80.0     80.0  \n",
      "edge_JAN_PDE2_1345_set4_16619_water_2        80.0     80.0  \n",
      "edge_JAN_PDE2_1345_set4_16619_protein_2      80.0     80.0  \n",
      "edge_JAN_PDE2_1345_set4_16619_water_3        80.0     80.0  \n",
      "edge_JAN_PDE2_1345_set4_16619_protein_3      80.0     80.0  \n",
      "edge_JAN_PDE2_1345_set4_42008_water_1        80.0     80.0  \n",
      "edge_JAN_PDE2_1345_set4_42008_protein_1      80.0     80.0  \n",
      "edge_JAN_PDE2_1345_set4_42008_water_2        80.0     80.0  \n",
      "edge_JAN_PDE2_1345_set4_42008_protein_2      80.0     80.0  \n",
      "edge_JAN_PDE2_1345_set4_42008_water_3        80.0     80.0  \n",
      "edge_JAN_PDE2_1345_set4_42008_protein_3      80.0     80.0  \n",
      "edge_JAN_PDE2_1345_set4_119838_water_1       80.0     80.0  \n",
      "edge_JAN_PDE2_1345_set4_119838_protein_1     80.0     80.0  \n",
      "edge_JAN_PDE2_1345_set4_119838_water_2       80.0     80.0  \n",
      "edge_JAN_PDE2_1345_set4_119838_protein_2     80.0     80.0  \n",
      "edge_JAN_PDE2_1345_set4_119838_water_3       80.0     80.0  \n",
      "edge_JAN_PDE2_1345_set4_119838_protein_3     80.0     80.0  \n",
      "edge_JAN_PDE2_1345_set4_246669_water_1       80.0     80.0  \n",
      "edge_JAN_PDE2_1345_set4_246669_protein_1     80.0     80.0  \n",
      "edge_JAN_PDE2_1345_set4_246669_water_2       80.0     80.0  \n",
      "edge_JAN_PDE2_1345_set4_246669_protein_2     80.0     80.0  \n",
      "edge_JAN_PDE2_1345_set4_246669_water_3       80.0     80.0  \n",
      "edge_JAN_PDE2_1345_set4_246669_protein_3     80.0     80.0  \n"
     ]
    }
   ],
   "source": [
    "#fe.resultsSummary\n",
    "with pd.option_context('display.max_rows', None, 'display.max_columns', None):  # more options can be specified also\n",
    "    print(fe.resultsAll)"
   ]
  },
  {
   "cell_type": "code",
   "execution_count": 51,
   "metadata": {},
   "outputs": [],
   "source": [
    "fe.replicas = 3\n",
    "fe.analysis_summary( edges=finished_edges )\n",
    "# fe.analysis_summary()"
   ]
  },
  {
   "cell_type": "code",
   "execution_count": 52,
   "metadata": {
    "scrolled": true
   },
   "outputs": [
    {
     "name": "stdout",
     "output_type": "stream",
     "text": [
      "                                      val  err_analyt  err_boot\n",
      "edge_JAN_PDE2_1345_set4_375162   0.493333    2.128987  2.267032\n",
      "edge_JAN_PDE2_1345_set4_12137    0.210000   38.579221  3.470218\n",
      "edge_JAN_PDE2_1345_set4_315126 -10.590000   85.704730  2.012585\n",
      "edge_JAN_PDE2_1345_set4_117548 -13.023333   11.078709  3.544382\n",
      "edge_JAN_PDE2_1345_set4_358213  -6.640000   18.065695  3.191346\n",
      "edge_JAN_PDE2_1345_set4_73592  -13.403333    8.667709  3.573970\n",
      "edge_JAN_PDE2_1345_set4_142407   1.096667    4.076122  2.871708\n",
      "edge_JAN_PDE2_1345_set4_246679   3.583333    2.036725  1.563006\n",
      "edge_JAN_PDE2_1345_set4_240184 -16.380000  507.296210  3.711559\n",
      "edge_JAN_PDE2_1345_set4_283331 -13.680000   18.706328  3.050949\n",
      "edge_JAN_PDE2_1345_set4_40342   -8.620000    6.213060  4.640225\n",
      "edge_JAN_PDE2_1345_set4_142392  -2.663333    3.515214  2.567912\n",
      "edge_JAN_PDE2_1345_set4_143033   6.190000   29.496962  4.078637\n",
      "edge_JAN_PDE2_1345_set4_15755  -13.640000   80.576616  2.947959\n",
      "edge_JAN_PDE2_1345_set4_231     -6.513333    1.238207  1.137866\n",
      "edge_JAN_PDE2_1345_set4_15250  -17.623333    3.504898  2.924108\n",
      "edge_JAN_PDE2_1345_set4_16619   -8.656667   16.149111  3.301940\n",
      "edge_JAN_PDE2_1345_set4_42008  -16.500000   12.178677  5.363757\n",
      "edge_JAN_PDE2_1345_set4_119838  -9.436667   14.973328  2.823322\n",
      "edge_JAN_PDE2_1345_set4_246669   9.466667   10.340661  5.000919\n",
      "edge_JAN_PDE2_1345_set4_117375 -15.143333   10.427776  4.167964\n",
      "edge_JAN_PDE2_1345_set4_353431  -4.890000    9.160613  2.393683\n",
      "edge_JAN_PDE2_1345_set4_141299   7.740000    9.193470  3.236453\n",
      "edge_JAN_PDE2_1345_set4_8534    -3.316667    1.892088  1.849222\n",
      "edge_JAN_PDE2_1345_set4_141085   9.990000    4.131619  4.079768\n",
      "edge_JAN_PDE2_1345_set4_142300  -4.593333    2.784050  2.470140\n",
      "edge_JAN_PDE2_1345_set4_16251   -7.483333   18.689110  2.155708\n",
      "edge_JAN_PDE2_1345_set4_11493   -5.136667    7.185853  4.509468\n",
      "edge_JAN_PDE2_1345_set4_141883   4.213333    7.065594  1.990202\n",
      "edge_JAN_PDE2_1345_set4_117324 -11.743333    6.995597  2.987376\n",
      "edge_JAN_PDE2_1345_set4_376269 -21.663333    3.466582  2.335301\n",
      "edge_JAN_PDE2_1345_set4_138671  -3.656667    1.821202  1.575001\n",
      "edge_JAN_PDE2_1345_set4_356810 -14.590000   12.466850  2.447213\n",
      "edge_JAN_PDE2_1345_set4_10028   -5.006667    3.367764  2.670995\n",
      "edge_JAN_PDE2_1345_set4_8894    -3.470000    2.951705  2.882760\n",
      "edge_JAN_PDE2_1345_set4_283464 -10.456667    7.918757  3.210844\n",
      "edge_JAN_PDE2_1345_set4_9514   -13.223333   31.900016  2.095477\n",
      "edge_JAN_PDE2_1345_set4_186083 -16.820000   14.988424  2.321049\n",
      "edge_JAN_PDE2_1345_set4_117475 -19.923333   35.778936  2.012911\n",
      "edge_JAN_PDE2_1345_set4_45104   -7.370000    8.752479  2.110368\n",
      "edge_JAN_PDE2_1345_set4_82644  -19.190000    2.402025  2.643354\n",
      "edge_JAN_PDE2_1345_set4_45093  -10.793333    6.781214  4.660070\n",
      "edge_JAN_PDE2_1345_set4_44679  -12.100000    4.806473  4.811944\n",
      "edge_JAN_PDE2_1345_set4_45101  -12.676667   12.073636  5.121970\n",
      "edge_JAN_PDE2_1345_set4_314457 -20.626667   18.229759  4.209195\n",
      "edge_JAN_PDE2_1345_set4_6961    -9.773333    8.683133  2.683943\n",
      "edge_JAN_PDE2_1345_set4_74407   -5.930000   12.179596  2.568297\n",
      "edge_JAN_PDE2_1345_set4_46924  -14.520000   26.970072  2.402320\n",
      "edge_JAN_PDE2_1345_set4_44830  -17.650000    4.223212  2.312892\n",
      "edge_JAN_PDE2_1345_set4_12134  -10.696667    8.220921  3.009256\n",
      "edge_JAN_PDE2_1345_set4_316734 -20.110000   16.976345  2.835742\n",
      "edge_JAN_PDE2_1345_set4_118481 -11.906667    3.543591  1.947622\n",
      "edge_JAN_PDE2_1345_set4_27799  -14.456667   13.599923  2.439637\n",
      "edge_JAN_PDE2_1345_set4_49123  -13.253333    4.432759  3.607354\n",
      "edge_JAN_PDE2_1345_set4_39994  -11.616667    6.301502  5.708372\n",
      "edge_JAN_PDE2_1345_set4_47834   -5.363333   13.196445  5.246263\n",
      "edge_JAN_PDE2_1345_set4_44819  -10.543333    7.541516  7.347221\n",
      "edge_JAN_PDE2_1345_set4_26175   -9.663333    5.967805  4.582851\n",
      "edge_JAN_PDE2_1345_set4_46360  -13.943333    5.425550  4.977945\n",
      "edge_JAN_PDE2_1345_set4_5512     1.223333    4.358823  4.222075\n",
      "edge_JAN_PDE2_1345_set4_141477  -5.633333    3.804470  3.685901\n",
      "edge_JAN_PDE2_1345_set4_122155 -20.043333    9.065935  3.764396\n",
      "edge_JAN_PDE2_1345_set4_8165   -18.213333    2.597198  2.249893\n",
      "edge_JAN_PDE2_1345_set4_200507 -16.566667   16.139299  2.116029\n",
      "edge_JAN_PDE2_1345_set4_190861 -12.836667   12.090348  4.182853\n",
      "edge_JAN_PDE2_1345_set4_3887    -3.126667   26.933766  4.105473\n",
      "edge_JAN_PDE2_1345_set4_1818   -15.850000    2.607867  1.417592\n",
      "edge_JAN_PDE2_1345_set4_354276   4.150000   79.277135  6.077454\n",
      "edge_JAN_PDE2_1345_set4_12338   -8.736667    6.901977  2.541087\n",
      "edge_JAN_PDE2_1345_set4_240226  -6.160000   26.546485  3.249072\n",
      "edge_JAN_PDE2_1345_set4_121640  -1.933333  220.371947  3.459412\n",
      "edge_JAN_PDE2_1345_set4_121712   0.936667   35.620477  3.828313\n",
      "edge_JAN_PDE2_1345_set4_236707 -14.623333   43.246694  2.322025\n",
      "edge_JAN_PDE2_1345_set4_284377 -15.480000    6.636119  3.120096\n",
      "edge_JAN_PDE2_1345_set4_44228  -16.986667    3.685206  3.133753\n",
      "edge_JAN_PDE2_1345_set4_122343 -22.770000    4.208086  2.422560\n",
      "edge_JAN_PDE2_1345_set4_44858   -8.513333   10.271067  4.407081\n",
      "edge_JAN_PDE2_1345_set4_7737    -8.660000    7.134697  2.510171\n",
      "edge_JAN_PDE2_1345_set4_187934  -7.873333   20.132452  2.741239\n",
      "edge_JAN_PDE2_1345_set4_138493   0.180000    8.699047  7.828607\n",
      "edge_JAN_PDE2_1345_set4_5558    -1.823333    1.878582  1.637767\n",
      "edge_JAN_PDE2_1345_set4_46898  -16.956667    5.701065  2.312067\n",
      "edge_JAN_PDE2_1345_set4_27771  -12.770000    2.871003  2.783527\n",
      "edge_JAN_PDE2_1345_set4_74426   -7.806667  151.808748  2.946717\n",
      "edge_JAN_PDE2_1345_set4_358524  -9.396667   13.570191  3.346713\n",
      "edge_JAN_PDE2_1345_set4_357502 -14.956667   51.328750  4.560378\n",
      "edge_JAN_PDE2_1345_set4_202521 -12.610000   25.731600  3.541576\n",
      "edge_JAN_PDE2_1345_set4_295199 -16.206667   13.824305  3.260373\n",
      "edge_JAN_PDE2_1345_set4_48420  -24.160000    7.193680  3.057293\n",
      "edge_JAN_PDE2_1345_set4_46871  -10.703333    7.243060  2.545350\n",
      "edge_JAN_PDE2_1345_set4_200861 -21.566667    9.459001  2.205180\n",
      "edge_JAN_PDE2_1345_set4_28072   -7.653333    8.888423  1.480346\n",
      "edge_JAN_PDE2_1345_set4_186355 -21.306667    9.748915  2.981846\n",
      "edge_JAN_PDE2_1345_set4_20492  -16.600000    5.553503  5.406955\n",
      "edge_JAN_PDE2_1345_set4_18112  -12.913333    3.167258  2.520458\n",
      "edge_JAN_PDE2_1345_set4_188476 -22.300000    9.959287  3.299745\n",
      "edge_JAN_PDE2_1345_set4_74593   -8.803333   30.932771  3.194305\n",
      "edge_JAN_PDE2_1345_set4_187936 -20.620000    5.944510  2.673695\n",
      "edge_JAN_PDE2_1345_set4_190859 -17.213333    6.586721  2.510095\n"
     ]
    }
   ],
   "source": [
    "#fe.resultsSummary\n",
    "with pd.option_context('display.max_rows', None, 'display.max_columns', None):  # more options can be specified also\n",
    "    print(fe.resultsSummary)"
   ]
  },
  {
   "cell_type": "code",
   "execution_count": 53,
   "metadata": {},
   "outputs": [
    {
     "data": {
      "image/png": "[encoded data removed]",
      "text/plain": [
       "<IPython.core.display.Image object>"
      ]
     },
     "execution_count": 53,
     "metadata": {},
     "output_type": "execute_result"
    }
   ],
   "source": [
    "cutoff_ddg=-16\n",
    "tight_binders=[]\n",
    "legends=[]\n",
    "for i,l in enumerate(test_ligs):\n",
    "    edge=f\"edge_JAN_PDE2_1345_{l.GetProp('ID')}\"\n",
    "    if(edge in finished_edges):\n",
    "        val=fe.resultsSummary.at[edge,'val']\n",
    "        uncert=fe.resultsSummary.at[edge,'err_boot']\n",
    "        if(val<cutoff_ddg):\n",
    "            tight_binders.append(Chem.MolFromSmiles(Chem.MolToSmiles(l)))\n",
    "            legends.append(f\"{l.GetProp('ID')},\\nddG={val:.2f}+-{uncert:.2f} kJ/mol\")\n",
    "            \n",
    "Draw.MolsToGridImage(tight_binders,\n",
    "                     legends=legends,\n",
    "                     subImgSize = (200,200), molsPerRow=5, maxMols=101)"
   ]
  },
  {
   "cell_type": "markdown",
   "metadata": {},
   "source": [
    "# save the stable ligs as a pickle for training"
   ]
  },
  {
   "cell_type": "code",
   "execution_count": 54,
   "metadata": {},
   "outputs": [
    {
     "name": "stdout",
     "output_type": "stream",
     "text": [
      "99\n"
     ]
    }
   ],
   "source": [
    "cal2J = 4.184\n",
    "def lig_to_dG(lig):\n",
    "    RT=0.001985875*300 #kcal/mol\n",
    "    return(-RT*float(lig.GetProp('[V] hPDE2_pIC50'))*np.log(10))\n",
    "red_dG=lig_to_dG(reference_lig)\n",
    "\n",
    "save_ligs=[]\n",
    "for edge in fe.resultsSummary.index:\n",
    "    ligname=edge[19:]\n",
    "    for lig in test_ligs:\n",
    "        if lig.GetProp('ID')==ligname:\n",
    "            lig.SetProp(\"ddG\", str(fe.resultsSummary.loc[edge,'val']/cal2J) ) # kcal/mol\n",
    "            lig.SetProp(\"dG\", str(fe.resultsSummary.loc[edge,'val']/cal2J + red_dG) ) # kcal/mol\n",
    "            lig.SetProp(\"dG_err\", str(fe.resultsSummary.loc[edge,'err_boot']/cal2J) )  # kcal/mol\n",
    "            save_ligs.append(PropertyMol.PropertyMol(lig))\n",
    "            \n",
    "print(len(save_ligs))\n",
    "\n",
    "fname=\"stable_ligs.pickle\"\n",
    "\n",
    "with  open( fname, \"wb\" ) as f:\n",
    "    pickle.dump(save_ligs, f)"
   ]
  },
  {
   "cell_type": "code",
   "execution_count": 5,
   "metadata": {},
   "outputs": [
    {
     "name": "stdout",
     "output_type": "stream",
     "text": [
      "ref lig dG: -10.809735549543136 kcal/mol\n"
     ]
    }
   ],
   "source": [
    "# cal2J = 4.184\n",
    "# def lig_to_dG(lig):\n",
    "#     RT=0.001985875*300 #kcal/mol\n",
    "#     return(-RT*float(lig.GetProp('[V] hPDE2_pIC50'))*np.log(10))\n",
    "\n",
    "# print(f\"ref lig dG: {lig_to_dG(reference_lig)} kcal/mol\")"
   ]
  },
  {
   "cell_type": "code",
   "execution_count": 7,
   "metadata": {},
   "outputs": [],
   "source": [
    "# # fix the saved ligands' dG values\n",
    "# fname=\"stable_ligs.pickle\"\n",
    "# with open(fname, 'rb') as f:\n",
    "#     save_ligs = pickle.load(f)\n",
    "    \n",
    "# red_dG=lig_to_dG(reference_lig)\n",
    "    \n",
    "# for i,lig in enumerate(save_ligs):\n",
    "#     ddG=float(lig.GetProp(\"ddG\"))\n",
    "#     lig.SetProp(\"dG\", str(ddG + red_dG) ) # kcal/mol\n",
    "#     save_ligs[i]=PropertyMol.PropertyMol(lig)\n",
    "    \n",
    "# fname=\"stable_ligs_fixed_dG.pickle\"\n",
    "# with  open( fname, \"wb\" ) as f:\n",
    "#     pickle.dump(save_ligs, f)"
   ]
  },
  {
   "cell_type": "markdown",
   "metadata": {},
   "source": []
  },
  {
   "cell_type": "markdown",
   "metadata": {},
   "source": [
    "# Also write dG value into the big 34K lig DB pickle file"
   ]
  },
  {
   "cell_type": "code",
   "execution_count": 57,
   "metadata": {},
   "outputs": [],
   "source": [
    "all_ligs_db_file=f\"{pocket_fit_folder}/filtered_subset_without_weird_chemistry_with_2D_no_core_tSNE_and_step1_dG.pickle\"\n",
    "with open(all_ligs_db_file, 'rb') as f:\n",
    "    ligs_set4f = pickle.load(f)\n",
    "    \n",
    "with open(\"stable_ligs.pickle\", 'rb') as f:\n",
    "    step_known_ligs = pickle.load(f)\n",
    "\n",
    "known_lig_idxs_in_set4f=[]\n",
    "known_lig_idxs_in_step=[]\n",
    "known_lig_idxs=[l.GetProp('ID') for l in step_known_ligs]\n",
    "for i,lig in enumerate(ligs_set4f):\n",
    "    if(lig.GetProp('ID') in known_lig_idxs):\n",
    "        known_lig_idxs_in_set4f.append(i)\n",
    "        known_lig_idxs_in_step.append(known_lig_idxs.index(lig.GetProp('ID')))"
   ]
  },
  {
   "cell_type": "code",
   "execution_count": 58,
   "metadata": {},
   "outputs": [
    {
     "name": "stdout",
     "output_type": "stream",
     "text": [
      "[14, 66, 65, 59, 80, 45, 77, 62, 23, 34, 36, 33, 27, 49, 1, 68, 15, 13, 26, 16, 94, 93, 57, 82, 52, 91, 54, 10, 17, 74, 42, 56, 48, 76, 41, 43, 39, 58, 89, 81, 47, 55, 88, 53, 5, 46, 83, 96, 40, 29, 20, 38, 3, 51, 18, 70, 71, 61, 75, 79, 31, 24, 22, 60, 28, 25, 11, 6, 12, 37, 92, 78, 97, 95, 98, 64, 63, 90, 86, 72, 8, 69, 19, 7, 9, 35, 73, 87, 44, 2, 50, 21, 67, 32, 85, 4, 84, 0, 30]\n",
      "[177, 920, 1705, 2454, 2497, 2958, 3333, 3528, 3676, 3824, 4049, 4167, 4696, 4876, 4878, 4980, 5906, 6387, 6650, 6948, 7761, 8838, 9098, 9497, 9502, 9538, 10124, 10260, 10844, 11423, 11802, 11873, 11883, 11910, 11976, 11977, 11979, 12468, 12661, 12665, 12676, 12828, 12934, 13133, 14190, 14353, 14368, 14452, 14588, 14612, 14645, 14713, 14734, 14903, 15113, 15216, 15227, 15255, 15315, 15628, 15806, 18218, 18432, 18610, 19016, 19431, 19522, 19537, 20162, 20818, 20876, 20991, 20993, 21019, 21110, 21112, 21167, 21267, 21430, 22399, 22533, 22545, 23443, 23453, 27018, 27031, 27108, 27534, 27808, 27859, 28008, 29789, 29956, 30293, 30328, 30396, 30545, 31296, 32402]\n"
     ]
    }
   ],
   "source": [
    "print(known_lig_idxs_in_step)\n",
    "print(known_lig_idxs_in_set4f)"
   ]
  },
  {
   "cell_type": "code",
   "execution_count": 59,
   "metadata": {},
   "outputs": [],
   "source": [
    "for i in range(len(known_lig_idxs_in_step)):\n",
    "    idx_step=known_lig_idxs_in_step[i]\n",
    "    idx_set4f=known_lig_idxs_in_set4f[i]\n",
    "    \n",
    "    #print(idx_step0, idx_set4f)\n",
    "    \n",
    "    old_lig=step_known_ligs[idx_step]\n",
    "    new_lig=ligs_set4f[idx_set4f]\n",
    "    \n",
    "\n",
    "    new_lig.SetProp(\"ddG\", old_lig.GetProp(\"ddG\") ) # kcal/mol\n",
    "    new_lig.SetProp(\"dG\", old_lig.GetProp(\"dG\") ) # kcal/mol\n",
    "    new_lig.SetProp(\"dG_err\", old_lig.GetProp(\"dG_err\") ) # kcal/mol\n",
    "    \n",
    "    ligs_set4f[idx_set4f]=PropertyMol.PropertyMol(new_lig)\n",
    "    \n",
    "fname=f\"{pocket_fit_folder}/filtered_subset_without_weird_chemistry_with_2D_no_core_tSNE_and_step2_dG.pickle\"\n",
    "with  open( fname, \"wb\" ) as f:\n",
    "    pickle.dump(ligs_set4f, f)\n",
    "    \n",
    "del ligs_set4f"
   ]
  },
  {
   "cell_type": "code",
   "execution_count": 72,
   "metadata": {},
   "outputs": [],
   "source": [
    "all_no_core_ligs_db_file=f\"{pocket_fit_folder}/filtered_subset_without_weird_chemistry_no_core_ligs_with_step1_dG.pickle\"\n",
    "\n",
    "with open(all_no_core_ligs_db_file, 'rb') as f:\n",
    "    no_core_ligs_set4f = pickle.load(f)\n",
    "    \n",
    "    \n",
    "for i in range(len(known_lig_idxs_in_step)):\n",
    "    idx_step=known_lig_idxs_in_step[i]\n",
    "    idx_set4f=known_lig_idxs_in_set4f[i]\n",
    "    \n",
    "    #print(idx_step, idx_set4f)\n",
    "    \n",
    "    old_lig=step_known_ligs[idx_step]\n",
    "    new_lig=no_core_ligs_set4f[idx_set4f]\n",
    "    \n",
    "\n",
    "    new_lig.SetProp(\"ddG\", old_lig.GetProp(\"ddG\") ) # kcal/mol\n",
    "    new_lig.SetProp(\"dG\", old_lig.GetProp(\"dG\") ) # kcal/mol\n",
    "    new_lig.SetProp(\"dG_err\", old_lig.GetProp(\"dG_err\") ) # kcal/mol\n",
    "    \n",
    "    no_core_ligs_set4f[idx_set4f]=PropertyMol.PropertyMol(new_lig)\n",
    "    \n",
    "fname=f\"{pocket_fit_folder}/filtered_subset_without_weird_chemistry_no_core_ligs_with_step2_dG.pickle\"\n",
    "with  open( fname, \"wb\" ) as f:\n",
    "    pickle.dump(no_core_ligs_set4f, f)\n",
    "    \n",
    "del no_core_ligs_set4f"
   ]
  },
  {
   "cell_type": "markdown",
   "metadata": {},
   "source": [
    "# Check step1 full vs no_core lig dGs\n",
    "Wrong index was used when filling their dG values in step1 notebook"
   ]
  },
  {
   "cell_type": "code",
   "execution_count": 70,
   "metadata": {},
   "outputs": [],
   "source": [
    "all_no_core_ligs_db_file=f\"{pocket_fit_folder}/filtered_subset_without_weird_chemistry_no_core_ligs_with_step1_dG.pickle\"\n",
    "\n",
    "with open(all_no_core_ligs_db_file, 'rb') as f:\n",
    "    no_core_ligs_set4f = pickle.load(f)\n",
    "    \n",
    "all_ligs_db_file=f\"{pocket_fit_folder}/filtered_subset_without_weird_chemistry_with_2D_no_core_tSNE_and_step1_dG.pickle\"\n",
    "with open(all_ligs_db_file, 'rb') as f:\n",
    "    ligs_set4f = pickle.load(f)\n",
    "    \n",
    "for i in range(len(no_core_ligs_set4f)):\n",
    "    l=ligs_set4f[i]\n",
    "    ncl=no_core_ligs_set4f[i]\n",
    "    \n",
    "#     if(l.GetProp(\"ID\")!=ncl.GetProp(\"ID\")):\n",
    "#         print(\"NON MATCHING ID!\\t\\tfull:\",l.GetProp(\"ID\"), '\\t\\tno_core',ncl.GetProp(\"ID\"))\n",
    "    \n",
    "    if(l.HasProp(\"dG\")):\n",
    "        if(not ncl.HasProp(\"dG\")):\n",
    "            print(\"full:\",l.GetProp(\"ID\"), l.GetProp(\"dG\"), '\\t\\tno_core',ncl.GetProp(\"ID\"), 'N/A')\n",
    "        elif(l.GetProp(\"dG\")!=ncl.GetProp(\"dG\")):\n",
    "            print(\"full:\",l.GetProp(\"ID\"), l.GetProp(\"dG\"), '\\t\\tno_core',ncl.GetProp(\"ID\"), ncl.GetProp(\"dG\"))\n",
    "    "
   ]
  },
  {
   "cell_type": "markdown",
   "metadata": {},
   "source": [
    "## Fix no_core dG values"
   ]
  },
  {
   "cell_type": "code",
   "execution_count": 69,
   "metadata": {},
   "outputs": [],
   "source": [
    "for i in range(len(no_core_ligs_set4f)):\n",
    "    l=ligs_set4f[i]\n",
    "    ncl=no_core_ligs_set4f[i]\n",
    "    \n",
    "    if(l.HasProp(\"dG\")):\n",
    "        if(not ncl.HasProp(\"dG\") or l.GetProp(\"dG\")!=ncl.GetProp(\"dG\")):\n",
    "            ncl.SetProp('ddG', l.GetProp('ddG'))\n",
    "            ncl.SetProp('dG', l.GetProp('dG'))\n",
    "            ncl.SetProp('dG_err', l.GetProp('dG_err'))\n",
    "            no_core_ligs_set4f[i]=PropertyMol.PropertyMol(ncl)\n",
    "\n",
    "with  open( all_no_core_ligs_db_file, \"wb\" ) as f:\n",
    "    pickle.dump(no_core_ligs_set4f, f)"
   ]
  },
  {
   "cell_type": "markdown",
   "metadata": {},
   "source": [
    "# Check step2 full vs no_core lig dGs"
   ]
  },
  {
   "cell_type": "code",
   "execution_count": 73,
   "metadata": {},
   "outputs": [],
   "source": [
    "all_no_core_ligs_db_file=f\"{pocket_fit_folder}/filtered_subset_without_weird_chemistry_no_core_ligs_with_step2_dG.pickle\"\n",
    "\n",
    "with open(all_no_core_ligs_db_file, 'rb') as f:\n",
    "    no_core_ligs_set4f = pickle.load(f)\n",
    "    \n",
    "all_ligs_db_file=f\"{pocket_fit_folder}/filtered_subset_without_weird_chemistry_with_2D_no_core_tSNE_and_step2_dG.pickle\"\n",
    "with open(all_ligs_db_file, 'rb') as f:\n",
    "    ligs_set4f = pickle.load(f)\n",
    "    \n",
    "for i in range(len(no_core_ligs_set4f)):\n",
    "    l=ligs_set4f[i]\n",
    "    ncl=no_core_ligs_set4f[i]\n",
    "    \n",
    "    if(l.GetProp(\"ID\")!=ncl.GetProp(\"ID\")):\n",
    "        print(\"NON MATCHING ID!\\t\\tfull:\",l.GetProp(\"ID\"), '\\t\\tno_core',ncl.GetProp(\"ID\"))\n",
    "    \n",
    "    if(l.HasProp(\"dG\")):\n",
    "        if(not ncl.HasProp(\"dG\")):\n",
    "            print(\"full:\",l.GetProp(\"ID\"), l.GetProp(\"dG\"), '\\t\\tno_core',ncl.GetProp(\"ID\"), 'N/A')\n",
    "        elif(l.GetProp(\"dG\")!=ncl.GetProp(\"dG\")):\n",
    "            print(\"full:\",l.GetProp(\"ID\"), l.GetProp(\"dG\"), '\\t\\tno_core',ncl.GetProp(\"ID\"), ncl.GetProp(\"dG\"))\n",
    "    "
   ]
  },
  {
   "cell_type": "code",
   "execution_count": 74,
   "metadata": {},
   "outputs": [],
   "source": [
    "del no_core_ligs_set4f, ligs_set4f\n",
    "_=gc.collect()"
   ]
  },
  {
   "cell_type": "markdown",
   "metadata": {},
   "source": [
    "# rerun TI for the not_finsished edge"
   ]
  },
  {
   "cell_type": "code",
   "execution_count": 76,
   "metadata": {},
   "outputs": [
    {
     "name": "stdout",
     "output_type": "stream",
     "text": [
      "{'edge_JAN_PDE2_1345_set4_141768': ['JAN_PDE2_1345', 'set4_141768']}\n"
     ]
    }
   ],
   "source": [
    "# TI xvgs are incomplete and NPT took a long time\n",
    "not_finsished_edges_names=[\n",
    "    \"edge_JAN_PDE2_1345_set4_141768\",\n",
    "]\n",
    "\n",
    "finished_edges={e:fe.edges[e] for e in fe.edges if e not in not_finsished_edges_names}\n",
    "notfinished_edges={e:fe.edges[e] for e in fe.edges if e in not_finsished_edges_names}\n",
    "print(notfinished_edges)"
   ]
  },
  {
   "cell_type": "code",
   "execution_count": 77,
   "metadata": {},
   "outputs": [
    {
     "name": "stdout",
     "output_type": "stream",
     "text": [
      "/home/ykhalak/Projects/ML_dG/pde2_dG/generators/structures/set_4/morphing_annealing_4d09_filtered_subset/ddG_step_2_sigmahole_scaled_dummy_masses\r\n"
     ]
    }
   ],
   "source": [
    "! pwd"
   ]
  },
  {
   "cell_type": "markdown",
   "metadata": {},
   "source": [
    "## clean bad dHdl files"
   ]
  },
  {
   "cell_type": "code",
   "execution_count": 95,
   "metadata": {},
   "outputs": [],
   "source": [
    "# dHdl_files = glob.glob('/home/ykhalak/Projects/ML_dG/pde2_dG/generators/structures/set_4/morphing_annealing_4d09_filtered_subset/ddG_step_2_sigmahole_scaled_dummy_masses/workpath/edge_JAN_PDE2_1345_set4_141768/water/stateA/run3/transitions/*xvg')\n",
    "import glob\n",
    "\n",
    "for edge in notfinished_edges:\n",
    "    for state in fe.states:\n",
    "        for r in range(1,fe.replicas+1):\n",
    "            wp = 'water'\n",
    "            simpath = fe._get_specific_path(edge=edge,wp=wp,state=state,r=r,sim='transitions')\n",
    "            dHdl_files = glob.glob('{0}/*xvg'.format(simpath))\n",
    "            for f in dHdl_files:\n",
    "                with open(f, \"r\") as file:\n",
    "                    last_line = file.readlines()[-1]\n",
    "                    t=float(last_line.split()[0])\n",
    "                if(t<50.0):\n",
    "#                     print(f,\":\\t\\t\",t)\n",
    "                    os.remove(f)\n",
    "    \n",
    "            wp = 'protein'\n",
    "            simpath = fe._get_specific_path(edge=edge,wp=wp,state=state,r=r,sim='transitions')\n",
    "            dHdl_files = glob.glob('{0}/*xvg'.format(simpath))\n",
    "            for f in dHdl_files:\n",
    "                with open(f, \"r\") as file:\n",
    "                    last_line = file.readlines()[-1]\n",
    "                    t=float(last_line.split()[0])\n",
    "                if(t<50.0):\n",
    "#                     print(f,\":\\t\\t\",t)\n",
    "                    os.remove(f)"
   ]
  },
  {
   "cell_type": "markdown",
   "metadata": {},
   "source": [
    "## run"
   ]
  },
  {
   "cell_type": "code",
   "execution_count": 97,
   "metadata": {},
   "outputs": [
    {
     "name": "stdout",
     "output_type": "stream",
     "text": [
      "---------------------------------------------\n",
      "Preparing jobscripts for: transitions\n",
      "---------------------------------------------\n",
      "DONE\n"
     ]
    }
   ],
   "source": [
    "fe.JOBqueue = 'SGE'\n",
    "fe.JOBsource = ['/etc/profile.d/modules.sh','/usr/local/gromacs/GMXRC2021']\n",
    "fe.JOBmodules = ['shared','owl/intel-mpi-default','cuda91']\n",
    "fe.JOBgmx = 'mdrun_threads'\n",
    "fe.JOBsimcpu = 10\n",
    "fe.JOBsimtime = 24 # hours\n",
    "fe.prepare_jobscripts(simType='transitions',  bLig=True, bProt=True, edges=notfinished_edges )"
   ]
  }
 ],
 "metadata": {
  "kernelspec": {
   "display_name": "Python 3",
   "language": "python",
   "name": "python3"
  },
  "language_info": {
   "codemirror_mode": {
    "name": "ipython",
    "version": 3
   },
   "file_extension": ".py",
   "mimetype": "text/x-python",
   "name": "python",
   "nbconvert_exporter": "python",
   "pygments_lexer": "ipython3",
   "version": "3.6.13"
  }
 },
 "nbformat": 4,
 "nbformat_minor": 2
}
